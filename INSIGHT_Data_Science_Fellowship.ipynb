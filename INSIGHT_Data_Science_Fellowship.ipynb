{
 "cells": [
  {
   "cell_type": "markdown",
   "metadata": {},
   "source": [
    "# INSIGHT DATA SCIENCE FELLOWS"
   ]
  },
  {
   "cell_type": "markdown",
   "metadata": {},
   "source": [
    "**The INSIGHT Data Science Fellows Program** is very competitive fellowship targeted at academics from the top universities. It helps recent PhDs and Postdocs to find a prestigious job as data scientists in the industry. \n",
    "\n",
    "\n",
    "I was really curious about **who are these top 'quants'**. So I scraped the data from the INSIGHT website and did some quick EDA. Here's my script:"
   ]
  },
  {
   "cell_type": "code",
   "execution_count": 3,
   "metadata": {},
   "outputs": [],
   "source": [
    "from bs4 import BeautifulSoup\n",
    "import requests\n",
    "\n",
    "import pandas as pd\n",
    "import numpy as np\n",
    "import json\n",
    "\n",
    "import seaborn as sns\n",
    "import matplotlib.pyplot as plt\n",
    "\n",
    "from wordcloud import WordCloud, STOPWORDS\n",
    "from collections import Counter\n",
    "\n",
    "%matplotlib inline"
   ]
  },
  {
   "cell_type": "markdown",
   "metadata": {},
   "source": [
    "# PART 1: Scraping Data"
   ]
  },
  {
   "cell_type": "code",
   "execution_count": 119,
   "metadata": {},
   "outputs": [],
   "source": [
    "project = []\n",
    "company = []\n",
    "position = []\n",
    "background = []\n",
    "name = []"
   ]
  },
  {
   "cell_type": "code",
   "execution_count": 120,
   "metadata": {},
   "outputs": [
    {
     "name": "stdout",
     "output_type": "stream",
     "text": [
      "fill scrap - https://www.insightdatascience.com/fellows?61ea5d1b_page=1\n",
      "200\n",
      "Measuring the Impact of Open Source Coders on Github\n",
      "fill scrap - https://www.insightdatascience.com/fellows?61ea5d1b_page=2\n",
      "200\n",
      "StreetsAhead: Image recognition with deep learning in Street View\n",
      "fill scrap - https://www.insightdatascience.com/fellows?61ea5d1b_page=3\n",
      "200\n",
      "ATHOS gear: Logging your workout with wearable EMG techology\n",
      "fill scrap - https://www.insightdatascience.com/fellows?61ea5d1b_page=4\n",
      "200\n",
      "GoodReviews: Deliver the most useful positive and negative book reviews\n",
      "fill scrap - https://www.insightdatascience.com/fellows?61ea5d1b_page=5\n",
      "200\n",
      "DealWheels: Used Cars Online-Great deal?\n",
      "fill scrap - https://www.insightdatascience.com/fellows?61ea5d1b_page=6\n",
      "200\n",
      "L' Tron - CTA: A Friendly Bot with an Eye on Chicago's 'L'\n",
      "fill scrap - https://www.insightdatascience.com/fellows?61ea5d1b_page=7\n",
      "200\n",
      "Fleetr\n",
      "fill scrap - https://www.insightdatascience.com/fellows?61ea5d1b_page=8\n",
      "200\n",
      "SignWrite: Transcribing sign language with the power of deep learning\n"
     ]
    }
   ],
   "source": [
    "url = 'https://www.insightdatascience.com/fellows?61ea5d1b_page=%s'\n",
    "for idx in range(1, 9):\n",
    "    print(f'fill scrap - {url % idx}')\n",
    "    result = requests.get(url % idx)\n",
    "    content = result.content\n",
    "    \n",
    "    soup = BeautifulSoup(content)\n",
    "    project_per_page = [x.get_text() for x in soup.find_all(\"div\", \"tooltip_project\")]\n",
    "    project.extend(project_per_page)\n",
    "    company.extend([x.get_text() for x in soup.find_all(\"div\", \"tooltip_company\")])\n",
    "    position.extend([x.get_text() for x in soup.find_all(\"div\", \"toottip_title\")])\n",
    "    name.extend([x.get_text() for x in soup.find_all(\"div\", \"tooltip_name\")])\n",
    "    background.extend([x.get_text() for x in soup.find_all(\"div\", \"tooltip_background\")])\n",
    "    \n",
    "    print(result.status_code)\n",
    "    print(project_per_page[0])"
   ]
  },
  {
   "cell_type": "code",
   "execution_count": 612,
   "metadata": {},
   "outputs": [],
   "source": [
    "# create tuples out of 4 features\n",
    "zipped = np.array(list(zip(name, company, project, position, background)))"
   ]
  },
  {
   "cell_type": "code",
   "execution_count": 613,
   "metadata": {},
   "outputs": [],
   "source": [
    "insight = pd.DataFrame(np.array(zipped), columns=['name', 'company', 'project', 'position', 'background'])"
   ]
  },
  {
   "cell_type": "code",
   "execution_count": 614,
   "metadata": {},
   "outputs": [
    {
     "data": {
      "text/html": [
       "<div>\n",
       "<style scoped>\n",
       "    .dataframe tbody tr th:only-of-type {\n",
       "        vertical-align: middle;\n",
       "    }\n",
       "\n",
       "    .dataframe tbody tr th {\n",
       "        vertical-align: top;\n",
       "    }\n",
       "\n",
       "    .dataframe thead th {\n",
       "        text-align: right;\n",
       "    }\n",
       "</style>\n",
       "<table border=\"1\" class=\"dataframe\">\n",
       "  <thead>\n",
       "    <tr style=\"text-align: right;\">\n",
       "      <th></th>\n",
       "      <th>name</th>\n",
       "      <th>company</th>\n",
       "      <th>project</th>\n",
       "      <th>position</th>\n",
       "      <th>background</th>\n",
       "    </tr>\n",
       "  </thead>\n",
       "  <tbody>\n",
       "    <tr>\n",
       "      <th>0</th>\n",
       "      <td>JP Bida</td>\n",
       "      <td>Capital One</td>\n",
       "      <td>Measuring the Impact of Open Source Coders on Github</td>\n",
       "      <td>Director of Risk</td>\n",
       "      <td>Bio-X Games, Stanford, Postdoc</td>\n",
       "    </tr>\n",
       "    <tr>\n",
       "      <th>1</th>\n",
       "      <td>Douglas Mason</td>\n",
       "      <td>Twitter</td>\n",
       "      <td>Email Searcher: Search &amp; Visualize Your Mailbox</td>\n",
       "      <td>Data Scientist</td>\n",
       "      <td>Physics, Harvard University, PhD\\n</td>\n",
       "    </tr>\n",
       "    <tr>\n",
       "      <th>2</th>\n",
       "      <td>Virot Ta Chiraphadhanakul</td>\n",
       "      <td>Facebook</td>\n",
       "      <td>Tweet Timeline: Visualizing the Impact of Social Media</td>\n",
       "      <td>Data Scientist</td>\n",
       "      <td>Operations Research, MIT, PhD</td>\n",
       "    </tr>\n",
       "    <tr>\n",
       "      <th>3</th>\n",
       "      <td>Julia Viladomat</td>\n",
       "      <td>Adobe</td>\n",
       "      <td>Sentiment Analysis Based on Social Media</td>\n",
       "      <td>Data Scientist</td>\n",
       "      <td>Statistics, Stanford, Postdoc</td>\n",
       "    </tr>\n",
       "    <tr>\n",
       "      <th>4</th>\n",
       "      <td>David Freeman</td>\n",
       "      <td>LinkedIn</td>\n",
       "      <td>Flight Delay Predictor</td>\n",
       "      <td>Head of Anti-Abuse Engineering</td>\n",
       "      <td>Mathematics, Stanford, Postdoc</td>\n",
       "    </tr>\n",
       "  </tbody>\n",
       "</table>\n",
       "</div>"
      ],
      "text/plain": [
       "                        name      company  \\\n",
       "0                    JP Bida  Capital One   \n",
       "1              Douglas Mason      Twitter   \n",
       "2  Virot Ta Chiraphadhanakul     Facebook   \n",
       "3            Julia Viladomat        Adobe   \n",
       "4              David Freeman     LinkedIn   \n",
       "\n",
       "                                                  project  \\\n",
       "0    Measuring the Impact of Open Source Coders on Github   \n",
       "1         Email Searcher: Search & Visualize Your Mailbox   \n",
       "2  Tweet Timeline: Visualizing the Impact of Social Media   \n",
       "3                Sentiment Analysis Based on Social Media   \n",
       "4                                  Flight Delay Predictor   \n",
       "\n",
       "                         position                          background  \n",
       "0                Director of Risk      Bio-X Games, Stanford, Postdoc  \n",
       "1                  Data Scientist  Physics, Harvard University, PhD\\n  \n",
       "2                  Data Scientist       Operations Research, MIT, PhD  \n",
       "3                  Data Scientist       Statistics, Stanford, Postdoc  \n",
       "4  Head of Anti-Abuse Engineering      Mathematics, Stanford, Postdoc  "
      ]
     },
     "execution_count": 614,
     "metadata": {},
     "output_type": "execute_result"
    }
   ],
   "source": [
    "insight.head()"
   ]
  },
  {
   "cell_type": "code",
   "execution_count": 124,
   "metadata": {},
   "outputs": [
    {
     "data": {
      "text/plain": [
       "(794, 5)"
      ]
     },
     "execution_count": 124,
     "metadata": {},
     "output_type": "execute_result"
    }
   ],
   "source": [
    "insight.shape"
   ]
  },
  {
   "cell_type": "markdown",
   "metadata": {},
   "source": [
    "Some company names were parsed incorrectly. I created json file with correct codes:"
   ]
  },
  {
   "cell_type": "code",
   "execution_count": 647,
   "metadata": {},
   "outputs": [],
   "source": [
    "with open('assets/company_codes_correct.json', 'r+') as file:\n",
    "    company_codes = json.load(file)"
   ]
  },
  {
   "cell_type": "code",
   "execution_count": 635,
   "metadata": {},
   "outputs": [],
   "source": [
    "insight['company'] = insight['company'].replace(codes)"
   ]
  },
  {
   "cell_type": "markdown",
   "metadata": {},
   "source": [
    "Adding the new features 'University', 'Field', 'Postdoc' extracted from Background:"
   ]
  },
  {
   "cell_type": "code",
   "execution_count": null,
   "metadata": {},
   "outputs": [],
   "source": [
    "background2 = []\n",
    "for i in range(insight['background'].shape[0]):\n",
    "    bckgr2 = [x.strip() for x in insight['background'][i].split(',')]\n",
    "    background2.append(bckgr2)"
   ]
  },
  {
   "cell_type": "code",
   "execution_count": 652,
   "metadata": {},
   "outputs": [],
   "source": [
    "university = []\n",
    "field = []\n",
    "postdoc = []\n",
    "\n",
    "for i in range(len(background2)):\n",
    "    if len(background2[i]) > 2:\n",
    "        fld = background2[i][0]\n",
    "        uni = background2[i][1]\n",
    "        psdc = background2[i][2]\n",
    "        university.append(uni)\n",
    "        field.append(fld)\n",
    "        postdoc.append(psdc)\n",
    "    else:\n",
    "        university.append(\"\")\n",
    "        field.append(\"\")\n",
    "        postdoc.append(\"\")"
   ]
  },
  {
   "cell_type": "code",
   "execution_count": 653,
   "metadata": {},
   "outputs": [],
   "source": [
    "insight['university'] = university\n",
    "insight['field'] = field\n",
    "insight['postdoc'] = postdoc"
   ]
  },
  {
   "cell_type": "markdown",
   "metadata": {},
   "source": [
    "Some uni names were parsed incorrectly. I created json file with correct codes:"
   ]
  },
  {
   "cell_type": "code",
   "execution_count": 704,
   "metadata": {},
   "outputs": [],
   "source": [
    "with open('assets/university_codes_correct.json', 'r+') as file:\n",
    "    uni_codes = json.load(file)"
   ]
  },
  {
   "cell_type": "code",
   "execution_count": 705,
   "metadata": {},
   "outputs": [],
   "source": [
    "insight['university'] = insight['university'].replace(uni_codes)"
   ]
  },
  {
   "cell_type": "code",
   "execution_count": 706,
   "metadata": {},
   "outputs": [
    {
     "data": {
      "text/html": [
       "<div>\n",
       "<style scoped>\n",
       "    .dataframe tbody tr th:only-of-type {\n",
       "        vertical-align: middle;\n",
       "    }\n",
       "\n",
       "    .dataframe tbody tr th {\n",
       "        vertical-align: top;\n",
       "    }\n",
       "\n",
       "    .dataframe thead th {\n",
       "        text-align: right;\n",
       "    }\n",
       "</style>\n",
       "<table border=\"1\" class=\"dataframe\">\n",
       "  <thead>\n",
       "    <tr style=\"text-align: right;\">\n",
       "      <th></th>\n",
       "      <th>name</th>\n",
       "      <th>company</th>\n",
       "      <th>project</th>\n",
       "      <th>position</th>\n",
       "      <th>background</th>\n",
       "      <th>university</th>\n",
       "      <th>field</th>\n",
       "      <th>postdoc</th>\n",
       "    </tr>\n",
       "  </thead>\n",
       "  <tbody>\n",
       "    <tr>\n",
       "      <th>0</th>\n",
       "      <td>JP Bida</td>\n",
       "      <td>Capital One</td>\n",
       "      <td>Measuring the Impact of Open Source Coders on Github</td>\n",
       "      <td>Director of Risk</td>\n",
       "      <td>Bio-X Games, Stanford, Postdoc</td>\n",
       "      <td>Stanford</td>\n",
       "      <td>Bio-X Games</td>\n",
       "      <td>Postdoc</td>\n",
       "    </tr>\n",
       "    <tr>\n",
       "      <th>1</th>\n",
       "      <td>Douglas Mason</td>\n",
       "      <td>Twitter</td>\n",
       "      <td>Email Searcher: Search &amp; Visualize Your Mailbox</td>\n",
       "      <td>Data Scientist</td>\n",
       "      <td>Physics, Harvard University, PhD\\n</td>\n",
       "      <td>Harvard</td>\n",
       "      <td>Physics</td>\n",
       "      <td>PhD</td>\n",
       "    </tr>\n",
       "    <tr>\n",
       "      <th>2</th>\n",
       "      <td>Virot Ta Chiraphadhanakul</td>\n",
       "      <td>Facebook</td>\n",
       "      <td>Tweet Timeline: Visualizing the Impact of Social Media</td>\n",
       "      <td>Data Scientist</td>\n",
       "      <td>Operations Research, MIT, PhD</td>\n",
       "      <td>MIT</td>\n",
       "      <td>Operations Research</td>\n",
       "      <td>PhD</td>\n",
       "    </tr>\n",
       "    <tr>\n",
       "      <th>3</th>\n",
       "      <td>Julia Viladomat</td>\n",
       "      <td>Adobe</td>\n",
       "      <td>Sentiment Analysis Based on Social Media</td>\n",
       "      <td>Data Scientist</td>\n",
       "      <td>Statistics, Stanford, Postdoc</td>\n",
       "      <td>Stanford</td>\n",
       "      <td>Statistics</td>\n",
       "      <td>Postdoc</td>\n",
       "    </tr>\n",
       "    <tr>\n",
       "      <th>4</th>\n",
       "      <td>David Freeman</td>\n",
       "      <td>LinkedIn</td>\n",
       "      <td>Flight Delay Predictor</td>\n",
       "      <td>Head of Anti-Abuse Engineering</td>\n",
       "      <td>Mathematics, Stanford, Postdoc</td>\n",
       "      <td>Stanford</td>\n",
       "      <td>Mathematics</td>\n",
       "      <td>Postdoc</td>\n",
       "    </tr>\n",
       "  </tbody>\n",
       "</table>\n",
       "</div>"
      ],
      "text/plain": [
       "                        name      company  \\\n",
       "0                    JP Bida  Capital One   \n",
       "1              Douglas Mason      Twitter   \n",
       "2  Virot Ta Chiraphadhanakul     Facebook   \n",
       "3            Julia Viladomat        Adobe   \n",
       "4              David Freeman     LinkedIn   \n",
       "\n",
       "                                                  project  \\\n",
       "0    Measuring the Impact of Open Source Coders on Github   \n",
       "1         Email Searcher: Search & Visualize Your Mailbox   \n",
       "2  Tweet Timeline: Visualizing the Impact of Social Media   \n",
       "3                Sentiment Analysis Based on Social Media   \n",
       "4                                  Flight Delay Predictor   \n",
       "\n",
       "                         position                          background  \\\n",
       "0                Director of Risk      Bio-X Games, Stanford, Postdoc   \n",
       "1                  Data Scientist  Physics, Harvard University, PhD\\n   \n",
       "2                  Data Scientist       Operations Research, MIT, PhD   \n",
       "3                  Data Scientist       Statistics, Stanford, Postdoc   \n",
       "4  Head of Anti-Abuse Engineering      Mathematics, Stanford, Postdoc   \n",
       "\n",
       "  university                field  postdoc  \n",
       "0   Stanford          Bio-X Games  Postdoc  \n",
       "1    Harvard              Physics      PhD  \n",
       "2        MIT  Operations Research      PhD  \n",
       "3   Stanford           Statistics  Postdoc  \n",
       "4   Stanford          Mathematics  Postdoc  "
      ]
     },
     "execution_count": 706,
     "metadata": {},
     "output_type": "execute_result"
    }
   ],
   "source": [
    "insight.head()"
   ]
  },
  {
   "cell_type": "code",
   "execution_count": 759,
   "metadata": {},
   "outputs": [],
   "source": [
    "# Saving scraped dataset to csv file:\n",
    "insight.to_csv(path_or_buf='data/insight_dataset.csv', sep=';', index=False)"
   ]
  },
  {
   "cell_type": "markdown",
   "metadata": {},
   "source": [
    "## Summary: \n",
    "\n",
    "The final dataset has 794 observations (i.e. so many fellows participated in the INSIGHT Data Science Fellowship as of 04/21/2019) and 5 features:\n",
    "1. Name\n",
    "2. Company\n",
    "3. Project\n",
    "4. Position\n",
    "5. Background \n",
    "6. University\n",
    "7. (Academic) Field\n",
    "\n",
    "NOTE: some fields that were generated from 'background' were parsed badly because I split the string into words by commas, because of the pattern used by the INSIGHT admins - \"field, university, graduate degree\". For most cases that worked. But some have a different formatting style (e.g. - \"long field with many commas, university, graduate degree\"). As a result, there are about 22 data points without any university affiliations. \n",
    "\n",
    "So I manually corrected the mistakes and saved it to 'insight_dataset_cleaned.csv' file, which is then loaded in the PART 2.\n",
    "\n"
   ]
  },
  {
   "cell_type": "markdown",
   "metadata": {},
   "source": [
    "# PART 2: ANALYSIS"
   ]
  },
  {
   "cell_type": "code",
   "execution_count": 4,
   "metadata": {},
   "outputs": [],
   "source": [
    "insight = pd.read_csv('data/insight_dataset_cleaned.csv', sep=';')"
   ]
  },
  {
   "cell_type": "code",
   "execution_count": 19,
   "metadata": {},
   "outputs": [
    {
     "data": {
      "text/plain": [
       "(794, 8)"
      ]
     },
     "execution_count": 19,
     "metadata": {},
     "output_type": "execute_result"
    }
   ],
   "source": [
    "insight.shape"
   ]
  },
  {
   "cell_type": "code",
   "execution_count": 5,
   "metadata": {},
   "outputs": [
    {
     "data": {
      "text/html": [
       "<div>\n",
       "<style scoped>\n",
       "    .dataframe tbody tr th:only-of-type {\n",
       "        vertical-align: middle;\n",
       "    }\n",
       "\n",
       "    .dataframe tbody tr th {\n",
       "        vertical-align: top;\n",
       "    }\n",
       "\n",
       "    .dataframe thead th {\n",
       "        text-align: right;\n",
       "    }\n",
       "</style>\n",
       "<table border=\"1\" class=\"dataframe\">\n",
       "  <thead>\n",
       "    <tr style=\"text-align: right;\">\n",
       "      <th></th>\n",
       "      <th>name</th>\n",
       "      <th>company</th>\n",
       "      <th>project</th>\n",
       "      <th>position</th>\n",
       "      <th>background</th>\n",
       "      <th>university</th>\n",
       "      <th>field</th>\n",
       "      <th>postdoc</th>\n",
       "    </tr>\n",
       "  </thead>\n",
       "  <tbody>\n",
       "    <tr>\n",
       "      <th>0</th>\n",
       "      <td>JP Bida</td>\n",
       "      <td>Capital One</td>\n",
       "      <td>Measuring the Impact of Open Source Coders on ...</td>\n",
       "      <td>Director of Risk</td>\n",
       "      <td>Bio-X Games, Stanford, Postdoc</td>\n",
       "      <td>Stanford</td>\n",
       "      <td>Bio-X Games</td>\n",
       "      <td>Postdoc</td>\n",
       "    </tr>\n",
       "    <tr>\n",
       "      <th>1</th>\n",
       "      <td>Douglas Mason</td>\n",
       "      <td>Twitter</td>\n",
       "      <td>Email Searcher: Search &amp; Visualize Your Mailbox</td>\n",
       "      <td>Data Scientist</td>\n",
       "      <td>Physics, Harvard University, PhD\\n</td>\n",
       "      <td>Harvard</td>\n",
       "      <td>Physics</td>\n",
       "      <td>PhD</td>\n",
       "    </tr>\n",
       "    <tr>\n",
       "      <th>2</th>\n",
       "      <td>Virot Ta Chiraphadhanakul</td>\n",
       "      <td>Facebook</td>\n",
       "      <td>Tweet Timeline: Visualizing the Impact of Soci...</td>\n",
       "      <td>Data Scientist</td>\n",
       "      <td>Operations Research, MIT, PhD</td>\n",
       "      <td>MIT</td>\n",
       "      <td>Operations Research</td>\n",
       "      <td>PhD</td>\n",
       "    </tr>\n",
       "    <tr>\n",
       "      <th>3</th>\n",
       "      <td>Julia Viladomat</td>\n",
       "      <td>Adobe</td>\n",
       "      <td>Sentiment Analysis Based on Social Media</td>\n",
       "      <td>Data Scientist</td>\n",
       "      <td>Statistics, Stanford, Postdoc</td>\n",
       "      <td>Stanford</td>\n",
       "      <td>Statistics</td>\n",
       "      <td>Postdoc</td>\n",
       "    </tr>\n",
       "    <tr>\n",
       "      <th>4</th>\n",
       "      <td>David Freeman</td>\n",
       "      <td>LinkedIn</td>\n",
       "      <td>Flight Delay Predictor</td>\n",
       "      <td>Head of Anti-Abuse Engineering</td>\n",
       "      <td>Mathematics, Stanford, Postdoc</td>\n",
       "      <td>Stanford</td>\n",
       "      <td>Mathematics</td>\n",
       "      <td>Postdoc</td>\n",
       "    </tr>\n",
       "  </tbody>\n",
       "</table>\n",
       "</div>"
      ],
      "text/plain": [
       "                        name      company  \\\n",
       "0                    JP Bida  Capital One   \n",
       "1              Douglas Mason      Twitter   \n",
       "2  Virot Ta Chiraphadhanakul     Facebook   \n",
       "3            Julia Viladomat        Adobe   \n",
       "4              David Freeman     LinkedIn   \n",
       "\n",
       "                                             project  \\\n",
       "0  Measuring the Impact of Open Source Coders on ...   \n",
       "1    Email Searcher: Search & Visualize Your Mailbox   \n",
       "2  Tweet Timeline: Visualizing the Impact of Soci...   \n",
       "3           Sentiment Analysis Based on Social Media   \n",
       "4                             Flight Delay Predictor   \n",
       "\n",
       "                         position                          background  \\\n",
       "0                Director of Risk      Bio-X Games, Stanford, Postdoc   \n",
       "1                  Data Scientist  Physics, Harvard University, PhD\\n   \n",
       "2                  Data Scientist       Operations Research, MIT, PhD   \n",
       "3                  Data Scientist       Statistics, Stanford, Postdoc   \n",
       "4  Head of Anti-Abuse Engineering      Mathematics, Stanford, Postdoc   \n",
       "\n",
       "  university                field  postdoc  \n",
       "0   Stanford          Bio-X Games  Postdoc  \n",
       "1    Harvard              Physics      PhD  \n",
       "2        MIT  Operations Research      PhD  \n",
       "3   Stanford           Statistics  Postdoc  \n",
       "4   Stanford          Mathematics  Postdoc  "
      ]
     },
     "execution_count": 5,
     "metadata": {},
     "output_type": "execute_result"
    }
   ],
   "source": [
    "insight.head()"
   ]
  },
  {
   "cell_type": "markdown",
   "metadata": {},
   "source": [
    "## 2.1. COMPANIES:"
   ]
  },
  {
   "cell_type": "code",
   "execution_count": 7,
   "metadata": {},
   "outputs": [],
   "source": [
    "companies = insight['company'].unique()"
   ]
  },
  {
   "cell_type": "code",
   "execution_count": 8,
   "metadata": {},
   "outputs": [
    {
     "data": {
      "text/plain": [
       "383"
      ]
     },
     "execution_count": 8,
     "metadata": {},
     "output_type": "execute_result"
    }
   ],
   "source": [
    "#how many companies?\n",
    "len(companies)"
   ]
  },
  {
   "cell_type": "code",
   "execution_count": 9,
   "metadata": {},
   "outputs": [],
   "source": [
    "company_num = [insight['company'][insight['company'] == companies[i]].count() for i in range(len(companies))]"
   ]
  },
  {
   "cell_type": "code",
   "execution_count": 10,
   "metadata": {},
   "outputs": [],
   "source": [
    "companies_count = pd.DataFrame({'company': companies, 'company_num': company_num})"
   ]
  },
  {
   "cell_type": "code",
   "execution_count": 11,
   "metadata": {},
   "outputs": [
    {
     "data": {
      "text/html": [
       "<div>\n",
       "<style scoped>\n",
       "    .dataframe tbody tr th:only-of-type {\n",
       "        vertical-align: middle;\n",
       "    }\n",
       "\n",
       "    .dataframe tbody tr th {\n",
       "        vertical-align: top;\n",
       "    }\n",
       "\n",
       "    .dataframe thead th {\n",
       "        text-align: right;\n",
       "    }\n",
       "</style>\n",
       "<table border=\"1\" class=\"dataframe\">\n",
       "  <thead>\n",
       "    <tr style=\"text-align: right;\">\n",
       "      <th></th>\n",
       "      <th>index</th>\n",
       "      <th>company</th>\n",
       "      <th>company_num</th>\n",
       "    </tr>\n",
       "  </thead>\n",
       "  <tbody>\n",
       "    <tr>\n",
       "      <th>0</th>\n",
       "      <td>2</td>\n",
       "      <td>Facebook</td>\n",
       "      <td>54</td>\n",
       "    </tr>\n",
       "    <tr>\n",
       "      <th>1</th>\n",
       "      <td>4</td>\n",
       "      <td>LinkedIn</td>\n",
       "      <td>22</td>\n",
       "    </tr>\n",
       "    <tr>\n",
       "      <th>2</th>\n",
       "      <td>32</td>\n",
       "      <td>Stitch Fix</td>\n",
       "      <td>19</td>\n",
       "    </tr>\n",
       "    <tr>\n",
       "      <th>3</th>\n",
       "      <td>6</td>\n",
       "      <td>Netflix</td>\n",
       "      <td>15</td>\n",
       "    </tr>\n",
       "    <tr>\n",
       "      <th>4</th>\n",
       "      <td>42</td>\n",
       "      <td>Intuit</td>\n",
       "      <td>14</td>\n",
       "    </tr>\n",
       "    <tr>\n",
       "      <th>5</th>\n",
       "      <td>35</td>\n",
       "      <td>Insight Data Science</td>\n",
       "      <td>13</td>\n",
       "    </tr>\n",
       "    <tr>\n",
       "      <th>6</th>\n",
       "      <td>37</td>\n",
       "      <td>Yelp</td>\n",
       "      <td>12</td>\n",
       "    </tr>\n",
       "    <tr>\n",
       "      <th>7</th>\n",
       "      <td>183</td>\n",
       "      <td>Gartner</td>\n",
       "      <td>12</td>\n",
       "    </tr>\n",
       "    <tr>\n",
       "      <th>8</th>\n",
       "      <td>13</td>\n",
       "      <td>Uber</td>\n",
       "      <td>12</td>\n",
       "    </tr>\n",
       "    <tr>\n",
       "      <th>9</th>\n",
       "      <td>147</td>\n",
       "      <td>Schireson</td>\n",
       "      <td>11</td>\n",
       "    </tr>\n",
       "  </tbody>\n",
       "</table>\n",
       "</div>"
      ],
      "text/plain": [
       "   index               company  company_num\n",
       "0      2              Facebook           54\n",
       "1      4              LinkedIn           22\n",
       "2     32            Stitch Fix           19\n",
       "3      6               Netflix           15\n",
       "4     42                Intuit           14\n",
       "5     35  Insight Data Science           13\n",
       "6     37                  Yelp           12\n",
       "7    183               Gartner           12\n",
       "8     13                  Uber           12\n",
       "9    147             Schireson           11"
      ]
     },
     "execution_count": 11,
     "metadata": {},
     "output_type": "execute_result"
    }
   ],
   "source": [
    "companies_count = companies_count.sort_values(by='company_num', ascending=False)\n",
    "companies_count = companies_count.reset_index()\n",
    "companies_count.head(10)"
   ]
  },
  {
   "cell_type": "code",
   "execution_count": 789,
   "metadata": {},
   "outputs": [
    {
     "name": "stdout",
     "output_type": "stream",
     "text": [
      "184 fellows work in top10 companies which is 23.17%\n"
     ]
    }
   ],
   "source": [
    "print(\"{} fellows work in top10 companies which is {:.2f}%\".format(companies_count.head(10).company_num.sum(), 100*companies_count.head(10).company_num.sum()/insight.shape[0]))"
   ]
  },
  {
   "cell_type": "code",
   "execution_count": 676,
   "metadata": {},
   "outputs": [
    {
     "data": {
      "image/png": "[encoded data removed]",
      "text/plain": [
       "<Figure size 432x288 with 1 Axes>"
      ]
     },
     "metadata": {
      "needs_background": "light"
     },
     "output_type": "display_data"
    }
   ],
   "source": [
    "base_color = sns.color_palette()[0]\n",
    "\n",
    "sns.barplot(y = companies_count.company[:15], x = companies_count.company_num[:15], color=base_color);\n",
    "for i in range(15):\n",
    "    #X position just after the end of the bar:\n",
    "    count = companies_count['company_num'][i]\n",
    "    plt.text(count+0.5, i, count, va = 'center');"
   ]
  },
  {
   "cell_type": "code",
   "execution_count": 805,
   "metadata": {},
   "outputs": [
    {
     "name": "stdout",
     "output_type": "stream",
     "text": [
      "275 companies hired just 1 fellow which is 71.80% of all companies\n"
     ]
    }
   ],
   "source": [
    "print(\"{} companies hired just 1 fellow which is {:.2f}% of all companies\".format(\n",
    "    companies_count.company_num[companies_count.company_num == 1].count(),\n",
    "    100*companies_count.company_num[companies_count.company_num == 1].count()/len(companies)))"
   ]
  },
  {
   "cell_type": "markdown",
   "metadata": {},
   "source": [
    "## Summary:\n",
    "There are 383 companies where INSIGHT fellows started working. However, there are no strong patterns where fellows find jobs, since 71% of companies hired just 1 fellow. <br>\n",
    "\n",
    "Still, 23.17% of all fellows work in the top10 companies. <br>\n",
    "\n",
    "The top 5 companies that hire actively data scientists are Facebook (54 fellows), LinkedIn (22), Stich Fix (19), Netflix (15) and Intuit (14). All five are in the Silicon Valley, where the demand for Data Scientist is naturally the highest.\n",
    "\n"
   ]
  },
  {
   "cell_type": "markdown",
   "metadata": {},
   "source": [
    "## 2.2. UNIVERSITIES:"
   ]
  },
  {
   "cell_type": "code",
   "execution_count": 791,
   "metadata": {},
   "outputs": [
    {
     "name": "stdout",
     "output_type": "stream",
     "text": [
      "fellows come from 214 different universities\n"
     ]
    }
   ],
   "source": [
    "uni_unique = insight['university'].unique()\n",
    "print(\"fellows come from {} different universities\".format(len(uni_unique)))"
   ]
  },
  {
   "cell_type": "code",
   "execution_count": 685,
   "metadata": {},
   "outputs": [],
   "source": [
    "uni_num = [insight['university'][insight['university'] == uni_unique[i]].count() for i in range(len(uni_unique))]"
   ]
  },
  {
   "cell_type": "code",
   "execution_count": 686,
   "metadata": {},
   "outputs": [],
   "source": [
    "uni_count = pd.DataFrame({'university': uni_unique, 'university_num': uni_num})"
   ]
  },
  {
   "cell_type": "code",
   "execution_count": 687,
   "metadata": {},
   "outputs": [],
   "source": [
    "uni_count = uni_count.sort_values(by='university_num', ascending=False)\n",
    "uni_count = uni_count.reset_index()"
   ]
  },
  {
   "cell_type": "code",
   "execution_count": 795,
   "metadata": {},
   "outputs": [
    {
     "data": {
      "image/png": "[encoded data removed]",
      "text/plain": [
       "<Figure size 432x288 with 1 Axes>"
      ]
     },
     "metadata": {
      "needs_background": "light"
     },
     "output_type": "display_data"
    }
   ],
   "source": [
    "uni_count.head(10).plot.barh(x = 'university', y = 'university_num');\n",
    "plt.xlabel('Number of fellows')\n",
    "plt.title('Number of Fellows by Top 10 Unis');\n",
    "for i in range(10):\n",
    "    #X position just after the end of the bar:\n",
    "    count = uni_count['university_num'][i]\n",
    "    plt.text(count+1, i, count, va = 'center');"
   ]
  },
  {
   "cell_type": "code",
   "execution_count": 796,
   "metadata": {},
   "outputs": [
    {
     "name": "stdout",
     "output_type": "stream",
     "text": [
      "top10 universities account for 281 fellows which is 35.39%\n"
     ]
    }
   ],
   "source": [
    "print(\"top10 universities account for {} fellows which is {:.2f}%\".format(uni_count.head(10).university_num.sum(), \n",
    "                                                                          100*uni_count.head(10).university_num.sum()/insight.shape[0]))"
   ]
  },
  {
   "cell_type": "markdown",
   "metadata": {},
   "source": [
    "## Summary:\n",
    "\n",
    "The 794 INSIGHT Fellows come from 214 different universities - very diverse!  <BR> \n",
    "    \n",
    "However, 35% of all fellows come from just 10 universities. Moreover, almost 20% of fellows (152) are from the three Californian universities - Stanford, UC Berkeley and UC Davis. The pattern is not suprising given the insight from the previous step - namely that it is primarily Silicon Valley companies that hire DS fellows the most. <br>\n",
    "    \n",
    "The top 5 universities that convert PhDs to data scientists are Stanford (83 fellows), UC Berkeley (54), Harvard (31), NYU (23) and MIT (16)."
   ]
  },
  {
   "cell_type": "markdown",
   "metadata": {},
   "source": [
    "## 2.3. ACADEMIC FIELD:"
   ]
  },
  {
   "cell_type": "code",
   "execution_count": 691,
   "metadata": {},
   "outputs": [],
   "source": [
    "fields = ['Physics', 'Chemistry', 'Biology', 'Statistics', 'Mathematic', 'Mechanical Engineering',\n",
    "          'Astrophysics', 'Neuroscience', 'Genetics', 'Biophysics', 'Biochemistry','Psychology', 'Ecology', 'Politic',\n",
    "         'Linguistics', 'Computer Science', 'Environment','Astronomy', 'Biomedical Engineering', 'Bioinformatics',\n",
    "         'Electrical Engineering', 'Biostatistics']\n",
    "fields_num = []\n",
    "\n",
    "for each in fields:\n",
    "    fields_nb = insight['university'][insight['background'].str.contains(each)].count()\n",
    "    fields_num.append(fields_nb)\n",
    "result = list(zip(fields, fields_num))"
   ]
  },
  {
   "cell_type": "code",
   "execution_count": 722,
   "metadata": {},
   "outputs": [
    {
     "data": {
      "text/html": [
       "<div>\n",
       "<style scoped>\n",
       "    .dataframe tbody tr th:only-of-type {\n",
       "        vertical-align: middle;\n",
       "    }\n",
       "\n",
       "    .dataframe tbody tr th {\n",
       "        vertical-align: top;\n",
       "    }\n",
       "\n",
       "    .dataframe thead th {\n",
       "        text-align: right;\n",
       "    }\n",
       "</style>\n",
       "<table border=\"1\" class=\"dataframe\">\n",
       "  <thead>\n",
       "    <tr style=\"text-align: right;\">\n",
       "      <th></th>\n",
       "      <th>fields</th>\n",
       "      <th>fields_num</th>\n",
       "      <th>fields_pct</th>\n",
       "    </tr>\n",
       "  </thead>\n",
       "  <tbody>\n",
       "    <tr>\n",
       "      <th>0</th>\n",
       "      <td>Physics</td>\n",
       "      <td>187</td>\n",
       "      <td>23.55</td>\n",
       "    </tr>\n",
       "    <tr>\n",
       "      <th>7</th>\n",
       "      <td>Neuroscience</td>\n",
       "      <td>79</td>\n",
       "      <td>9.95</td>\n",
       "    </tr>\n",
       "    <tr>\n",
       "      <th>6</th>\n",
       "      <td>Astrophysics</td>\n",
       "      <td>67</td>\n",
       "      <td>8.44</td>\n",
       "    </tr>\n",
       "    <tr>\n",
       "      <th>4</th>\n",
       "      <td>Mathematic</td>\n",
       "      <td>59</td>\n",
       "      <td>7.43</td>\n",
       "    </tr>\n",
       "    <tr>\n",
       "      <th>2</th>\n",
       "      <td>Biology</td>\n",
       "      <td>46</td>\n",
       "      <td>5.79</td>\n",
       "    </tr>\n",
       "    <tr>\n",
       "      <th>9</th>\n",
       "      <td>Biophysics</td>\n",
       "      <td>22</td>\n",
       "      <td>2.77</td>\n",
       "    </tr>\n",
       "    <tr>\n",
       "      <th>11</th>\n",
       "      <td>Psychology</td>\n",
       "      <td>19</td>\n",
       "      <td>2.39</td>\n",
       "    </tr>\n",
       "    <tr>\n",
       "      <th>16</th>\n",
       "      <td>Environment</td>\n",
       "      <td>17</td>\n",
       "      <td>2.14</td>\n",
       "    </tr>\n",
       "    <tr>\n",
       "      <th>17</th>\n",
       "      <td>Astronomy</td>\n",
       "      <td>17</td>\n",
       "      <td>2.14</td>\n",
       "    </tr>\n",
       "    <tr>\n",
       "      <th>18</th>\n",
       "      <td>Biomedical Engineering</td>\n",
       "      <td>16</td>\n",
       "      <td>2.02</td>\n",
       "    </tr>\n",
       "    <tr>\n",
       "      <th>20</th>\n",
       "      <td>Electrical Engineering</td>\n",
       "      <td>16</td>\n",
       "      <td>2.02</td>\n",
       "    </tr>\n",
       "    <tr>\n",
       "      <th>15</th>\n",
       "      <td>Computer Science</td>\n",
       "      <td>15</td>\n",
       "      <td>1.89</td>\n",
       "    </tr>\n",
       "    <tr>\n",
       "      <th>5</th>\n",
       "      <td>Mechanical Engineering</td>\n",
       "      <td>14</td>\n",
       "      <td>1.76</td>\n",
       "    </tr>\n",
       "    <tr>\n",
       "      <th>3</th>\n",
       "      <td>Statistics</td>\n",
       "      <td>14</td>\n",
       "      <td>1.76</td>\n",
       "    </tr>\n",
       "    <tr>\n",
       "      <th>1</th>\n",
       "      <td>Chemistry</td>\n",
       "      <td>14</td>\n",
       "      <td>1.76</td>\n",
       "    </tr>\n",
       "    <tr>\n",
       "      <th>19</th>\n",
       "      <td>Bioinformatics</td>\n",
       "      <td>12</td>\n",
       "      <td>1.51</td>\n",
       "    </tr>\n",
       "    <tr>\n",
       "      <th>13</th>\n",
       "      <td>Politic</td>\n",
       "      <td>9</td>\n",
       "      <td>1.13</td>\n",
       "    </tr>\n",
       "    <tr>\n",
       "      <th>8</th>\n",
       "      <td>Genetics</td>\n",
       "      <td>8</td>\n",
       "      <td>1.01</td>\n",
       "    </tr>\n",
       "    <tr>\n",
       "      <th>12</th>\n",
       "      <td>Ecology</td>\n",
       "      <td>8</td>\n",
       "      <td>1.01</td>\n",
       "    </tr>\n",
       "    <tr>\n",
       "      <th>21</th>\n",
       "      <td>Biostatistics</td>\n",
       "      <td>6</td>\n",
       "      <td>0.76</td>\n",
       "    </tr>\n",
       "    <tr>\n",
       "      <th>14</th>\n",
       "      <td>Linguistics</td>\n",
       "      <td>5</td>\n",
       "      <td>0.63</td>\n",
       "    </tr>\n",
       "    <tr>\n",
       "      <th>10</th>\n",
       "      <td>Biochemistry</td>\n",
       "      <td>4</td>\n",
       "      <td>0.50</td>\n",
       "    </tr>\n",
       "  </tbody>\n",
       "</table>\n",
       "</div>"
      ],
      "text/plain": [
       "                    fields  fields_num  fields_pct\n",
       "0                  Physics         187       23.55\n",
       "7             Neuroscience          79        9.95\n",
       "6             Astrophysics          67        8.44\n",
       "4               Mathematic          59        7.43\n",
       "2                  Biology          46        5.79\n",
       "9               Biophysics          22        2.77\n",
       "11              Psychology          19        2.39\n",
       "16             Environment          17        2.14\n",
       "17               Astronomy          17        2.14\n",
       "18  Biomedical Engineering          16        2.02\n",
       "20  Electrical Engineering          16        2.02\n",
       "15        Computer Science          15        1.89\n",
       "5   Mechanical Engineering          14        1.76\n",
       "3               Statistics          14        1.76\n",
       "1                Chemistry          14        1.76\n",
       "19          Bioinformatics          12        1.51\n",
       "13                 Politic           9        1.13\n",
       "8                 Genetics           8        1.01\n",
       "12                 Ecology           8        1.01\n",
       "21           Biostatistics           6        0.76\n",
       "14             Linguistics           5        0.63\n",
       "10            Biochemistry           4        0.50"
      ]
     },
     "execution_count": 722,
     "metadata": {},
     "output_type": "execute_result"
    }
   ],
   "source": [
    "fields = pd.DataFrame(data=result, columns=['fields', 'fields_num'])\n",
    "fields = fields.sort_values(by='fields_num', ascending=False)\n",
    "fields['fields_pct'] = round(100*fields['fields_num']/insight.shape[0], 2)\n",
    "fields"
   ]
  },
  {
   "cell_type": "code",
   "execution_count": 693,
   "metadata": {},
   "outputs": [
    {
     "data": {
      "text/plain": [
       "82.37"
      ]
     },
     "execution_count": 693,
     "metadata": {},
     "output_type": "execute_result"
    }
   ],
   "source": [
    "# % of all insight fellows covered by above fields \n",
    "round(100*fields.fields_num.sum()/insight.shape[0], 2)"
   ]
  },
  {
   "cell_type": "markdown",
   "metadata": {},
   "source": [
    "### Fellows from Political Science (like me :) "
   ]
  },
  {
   "cell_type": "code",
   "execution_count": 20,
   "metadata": {},
   "outputs": [
    {
     "data": {
      "text/html": [
       "<div>\n",
       "<style scoped>\n",
       "    .dataframe tbody tr th:only-of-type {\n",
       "        vertical-align: middle;\n",
       "    }\n",
       "\n",
       "    .dataframe tbody tr th {\n",
       "        vertical-align: top;\n",
       "    }\n",
       "\n",
       "    .dataframe thead th {\n",
       "        text-align: right;\n",
       "    }\n",
       "</style>\n",
       "<table border=\"1\" class=\"dataframe\">\n",
       "  <thead>\n",
       "    <tr style=\"text-align: right;\">\n",
       "      <th></th>\n",
       "      <th>name</th>\n",
       "      <th>company</th>\n",
       "      <th>project</th>\n",
       "      <th>position</th>\n",
       "      <th>background</th>\n",
       "      <th>university</th>\n",
       "      <th>field</th>\n",
       "      <th>postdoc</th>\n",
       "    </tr>\n",
       "  </thead>\n",
       "  <tbody>\n",
       "    <tr>\n",
       "      <th>140</th>\n",
       "      <td>Alex Ruiz-Euler</td>\n",
       "      <td>Viacom</td>\n",
       "      <td>Yelper Helper: An engine for tailored Yelp Reviews</td>\n",
       "      <td>Senior Data Scientist, Audience Science</td>\n",
       "      <td>Political Economy, UCSD, PhD</td>\n",
       "      <td>UC San Diego</td>\n",
       "      <td>Political Economy</td>\n",
       "      <td>PhD</td>\n",
       "    </tr>\n",
       "    <tr>\n",
       "      <th>179</th>\n",
       "      <td>Alex Groves</td>\n",
       "      <td>CreativeLive</td>\n",
       "      <td>How To Strike: Optimizing a directed e-mail campaign</td>\n",
       "      <td>Data Scientist</td>\n",
       "      <td>Behavioral Economics, ECARES, ULB, Postdoc</td>\n",
       "      <td>ECARES ULB</td>\n",
       "      <td>Behavioral Economics</td>\n",
       "      <td>Postdoc</td>\n",
       "    </tr>\n",
       "    <tr>\n",
       "      <th>434</th>\n",
       "      <td>Patrick Doupe</td>\n",
       "      <td>Arnhold Institute (Mount Sinai)</td>\n",
       "      <td>LANDSAT-landstats: A population measure you can count on.</td>\n",
       "      <td>Senior Data Analyst</td>\n",
       "      <td>Economics, Potsdam Institute for Climate Impact Research, Postdoc</td>\n",
       "      <td>Potsdam Institute for Climate Impact Research</td>\n",
       "      <td>Economics</td>\n",
       "      <td>Postdoc</td>\n",
       "    </tr>\n",
       "    <tr>\n",
       "      <th>536</th>\n",
       "      <td>Peter Twieg</td>\n",
       "      <td>Intuit</td>\n",
       "      <td>Coming To Terms: Recommending optimal loan terms for crowdfunded projects</td>\n",
       "      <td>Data Scientist</td>\n",
       "      <td>Economics, George Mason University, PhD</td>\n",
       "      <td>George Mason University</td>\n",
       "      <td>Economics</td>\n",
       "      <td>PhD</td>\n",
       "    </tr>\n",
       "    <tr>\n",
       "      <th>591</th>\n",
       "      <td>Jen Steele</td>\n",
       "      <td>Facebook</td>\n",
       "      <td>Freight Rate</td>\n",
       "      <td>Data Scientist</td>\n",
       "      <td>Economics, University of Auckland, Assistant Professor</td>\n",
       "      <td>University of Auckland</td>\n",
       "      <td>Economics</td>\n",
       "      <td>Assistant Professor</td>\n",
       "    </tr>\n",
       "    <tr>\n",
       "      <th>636</th>\n",
       "      <td>Jenny Lin</td>\n",
       "      <td>Yelp</td>\n",
       "      <td>pigiback</td>\n",
       "      <td>Data Scientist</td>\n",
       "      <td>Economics, University of Michigan, PhD</td>\n",
       "      <td>University of Michigan</td>\n",
       "      <td>Economics</td>\n",
       "      <td>PhD</td>\n",
       "    </tr>\n",
       "    <tr>\n",
       "      <th>683</th>\n",
       "      <td>Toban Wiebe</td>\n",
       "      <td>Prosper</td>\n",
       "      <td>Find Your Commmunity</td>\n",
       "      <td>Data Scientist</td>\n",
       "      <td>Economics, University of Pennsylvania, PhD</td>\n",
       "      <td>University of Pennsylvania</td>\n",
       "      <td>Economics</td>\n",
       "      <td>PhD</td>\n",
       "    </tr>\n",
       "    <tr>\n",
       "      <th>761</th>\n",
       "      <td>Di Mo</td>\n",
       "      <td>LinkedIn</td>\n",
       "      <td>Startup Telescope: Future is now</td>\n",
       "      <td>Data Scientist</td>\n",
       "      <td>Economics, Stanford University, Research Associate</td>\n",
       "      <td>Stanford</td>\n",
       "      <td>Economics</td>\n",
       "      <td>Research Associate</td>\n",
       "    </tr>\n",
       "  </tbody>\n",
       "</table>\n",
       "</div>"
      ],
      "text/plain": [
       "                name                          company  \\\n",
       "140  Alex Ruiz-Euler                           Viacom   \n",
       "179      Alex Groves                     CreativeLive   \n",
       "434    Patrick Doupe  Arnhold Institute (Mount Sinai)   \n",
       "536      Peter Twieg                           Intuit   \n",
       "591       Jen Steele                         Facebook   \n",
       "636        Jenny Lin                             Yelp   \n",
       "683      Toban Wiebe                          Prosper   \n",
       "761            Di Mo                         LinkedIn   \n",
       "\n",
       "                                                                       project  \\\n",
       "140                         Yelper Helper: An engine for tailored Yelp Reviews   \n",
       "179                       How To Strike: Optimizing a directed e-mail campaign   \n",
       "434                  LANDSAT-landstats: A population measure you can count on.   \n",
       "536  Coming To Terms: Recommending optimal loan terms for crowdfunded projects   \n",
       "591                                                               Freight Rate   \n",
       "636                                                                   pigiback   \n",
       "683                                                       Find Your Commmunity   \n",
       "761                                           Startup Telescope: Future is now   \n",
       "\n",
       "                                    position  \\\n",
       "140  Senior Data Scientist, Audience Science   \n",
       "179                           Data Scientist   \n",
       "434                      Senior Data Analyst   \n",
       "536                           Data Scientist   \n",
       "591                           Data Scientist   \n",
       "636                           Data Scientist   \n",
       "683                           Data Scientist   \n",
       "761                           Data Scientist   \n",
       "\n",
       "                                                            background  \\\n",
       "140                                       Political Economy, UCSD, PhD   \n",
       "179                         Behavioral Economics, ECARES, ULB, Postdoc   \n",
       "434  Economics, Potsdam Institute for Climate Impact Research, Postdoc   \n",
       "536                            Economics, George Mason University, PhD   \n",
       "591             Economics, University of Auckland, Assistant Professor   \n",
       "636                             Economics, University of Michigan, PhD   \n",
       "683                         Economics, University of Pennsylvania, PhD   \n",
       "761                 Economics, Stanford University, Research Associate   \n",
       "\n",
       "                                        university                 field  \\\n",
       "140                                   UC San Diego     Political Economy   \n",
       "179                                     ECARES ULB  Behavioral Economics   \n",
       "434  Potsdam Institute for Climate Impact Research             Economics   \n",
       "536                        George Mason University             Economics   \n",
       "591                         University of Auckland             Economics   \n",
       "636                         University of Michigan             Economics   \n",
       "683                     University of Pennsylvania             Economics   \n",
       "761                                       Stanford             Economics   \n",
       "\n",
       "                 postdoc  \n",
       "140                  PhD  \n",
       "179              Postdoc  \n",
       "434              Postdoc  \n",
       "536                  PhD  \n",
       "591  Assistant Professor  \n",
       "636                  PhD  \n",
       "683                  PhD  \n",
       "761   Research Associate  "
      ]
     },
     "execution_count": 20,
     "metadata": {},
     "output_type": "execute_result"
    }
   ],
   "source": [
    "insight[insight['background'].str.contains('Econ')]"
   ]
  },
  {
   "cell_type": "markdown",
   "metadata": {},
   "source": [
    "## Summary:\n",
    "\n",
    "The majority of fellows are freshly completed PhDs - 64%. There are about 29% postdocs among the INSIGHT fellows. But there is also a small amount of practitioners (uni faculty, manager, researchers). <br>\n",
    "Almost every third comes from Physics/Astrophysics (32%). The next biggest group - 10% - are neuroscientists. <br>\n",
    "Among 794 fellows, only 9 have graduated degree in political science!\n",
    "\n"
   ]
  },
  {
   "cell_type": "markdown",
   "metadata": {},
   "source": [
    "## 2.4. PhD vs Postdoc"
   ]
  },
  {
   "cell_type": "code",
   "execution_count": 807,
   "metadata": {},
   "outputs": [
    {
     "name": "stdout",
     "output_type": "stream",
     "text": [
      "507 fellows are fresh PhDs\n"
     ]
    }
   ],
   "source": [
    "#how many PhDs?\n",
    "print('{} fellows are fresh PhDs...'.format(insight.postdoc[insight['postdoc'] =='PhD'].count()))"
   ]
  },
  {
   "cell_type": "code",
   "execution_count": 809,
   "metadata": {},
   "outputs": [
    {
     "name": "stdout",
     "output_type": "stream",
     "text": [
      "...compared to 227 fellows that are Postdocs\n"
     ]
    }
   ],
   "source": [
    "#how many postdocs?\n",
    "print('...compared to {} fellows that are Postdocs'.format(insight.postdoc[insight['postdoc'] =='Postdoc'].count()))"
   ]
  },
  {
   "cell_type": "code",
   "execution_count": 813,
   "metadata": {},
   "outputs": [
    {
     "name": "stdout",
     "output_type": "stream",
     "text": [
      "so distribution is as follows: 28.6% postdocs and 63.9% PhDs\n"
     ]
    }
   ],
   "source": [
    "# distribution\n",
    "print('so distribution is as follows: {:.1f}% postdocs and {:.1f}% PhDs'.format(\n",
    "    100*insight.postdoc[insight['postdoc'] =='Postdoc'].count()/insight.shape[0],\n",
    "    100*insight.postdoc[insight['postdoc'] =='PhD'].count()/insight.shape[0]))"
   ]
  },
  {
   "cell_type": "markdown",
   "metadata": {},
   "source": [
    "## Top10 companies"
   ]
  },
  {
   "cell_type": "code",
   "execution_count": 12,
   "metadata": {},
   "outputs": [
    {
     "data": {
      "text/html": [
       "<div>\n",
       "<style scoped>\n",
       "    .dataframe tbody tr th:only-of-type {\n",
       "        vertical-align: middle;\n",
       "    }\n",
       "\n",
       "    .dataframe tbody tr th {\n",
       "        vertical-align: top;\n",
       "    }\n",
       "\n",
       "    .dataframe thead th {\n",
       "        text-align: right;\n",
       "    }\n",
       "</style>\n",
       "<table border=\"1\" class=\"dataframe\">\n",
       "  <thead>\n",
       "    <tr style=\"text-align: right;\">\n",
       "      <th>company</th>\n",
       "      <th>Facebook</th>\n",
       "      <th>Gartner</th>\n",
       "      <th>Insight Data Science</th>\n",
       "      <th>Intuit</th>\n",
       "      <th>LinkedIn</th>\n",
       "      <th>Netflix</th>\n",
       "      <th>Schireson</th>\n",
       "      <th>Stitch Fix</th>\n",
       "      <th>Uber</th>\n",
       "      <th>Yelp</th>\n",
       "      <th>All</th>\n",
       "    </tr>\n",
       "    <tr>\n",
       "      <th>postdoc</th>\n",
       "      <th></th>\n",
       "      <th></th>\n",
       "      <th></th>\n",
       "      <th></th>\n",
       "      <th></th>\n",
       "      <th></th>\n",
       "      <th></th>\n",
       "      <th></th>\n",
       "      <th></th>\n",
       "      <th></th>\n",
       "      <th></th>\n",
       "    </tr>\n",
       "  </thead>\n",
       "  <tbody>\n",
       "    <tr>\n",
       "      <th>Assistant Professor</th>\n",
       "      <td>1</td>\n",
       "      <td>0</td>\n",
       "      <td>0</td>\n",
       "      <td>0</td>\n",
       "      <td>0</td>\n",
       "      <td>0</td>\n",
       "      <td>0</td>\n",
       "      <td>0</td>\n",
       "      <td>0</td>\n",
       "      <td>0</td>\n",
       "      <td>1</td>\n",
       "    </tr>\n",
       "    <tr>\n",
       "      <th>Associate Research Scientist</th>\n",
       "      <td>0</td>\n",
       "      <td>0</td>\n",
       "      <td>0</td>\n",
       "      <td>0</td>\n",
       "      <td>0</td>\n",
       "      <td>0</td>\n",
       "      <td>1</td>\n",
       "      <td>0</td>\n",
       "      <td>0</td>\n",
       "      <td>0</td>\n",
       "      <td>1</td>\n",
       "    </tr>\n",
       "    <tr>\n",
       "      <th>PhD</th>\n",
       "      <td>33</td>\n",
       "      <td>7</td>\n",
       "      <td>9</td>\n",
       "      <td>11</td>\n",
       "      <td>11</td>\n",
       "      <td>10</td>\n",
       "      <td>5</td>\n",
       "      <td>13</td>\n",
       "      <td>9</td>\n",
       "      <td>8</td>\n",
       "      <td>116</td>\n",
       "    </tr>\n",
       "    <tr>\n",
       "      <th>Postdoc</th>\n",
       "      <td>18</td>\n",
       "      <td>4</td>\n",
       "      <td>4</td>\n",
       "      <td>3</td>\n",
       "      <td>10</td>\n",
       "      <td>4</td>\n",
       "      <td>4</td>\n",
       "      <td>5</td>\n",
       "      <td>2</td>\n",
       "      <td>4</td>\n",
       "      <td>58</td>\n",
       "    </tr>\n",
       "    <tr>\n",
       "      <th>Research Associate</th>\n",
       "      <td>1</td>\n",
       "      <td>0</td>\n",
       "      <td>0</td>\n",
       "      <td>0</td>\n",
       "      <td>1</td>\n",
       "      <td>0</td>\n",
       "      <td>0</td>\n",
       "      <td>0</td>\n",
       "      <td>0</td>\n",
       "      <td>0</td>\n",
       "      <td>2</td>\n",
       "    </tr>\n",
       "    <tr>\n",
       "      <th>Research Faculty</th>\n",
       "      <td>0</td>\n",
       "      <td>0</td>\n",
       "      <td>0</td>\n",
       "      <td>0</td>\n",
       "      <td>0</td>\n",
       "      <td>0</td>\n",
       "      <td>1</td>\n",
       "      <td>0</td>\n",
       "      <td>0</td>\n",
       "      <td>0</td>\n",
       "      <td>1</td>\n",
       "    </tr>\n",
       "    <tr>\n",
       "      <th>Research Scientist</th>\n",
       "      <td>0</td>\n",
       "      <td>0</td>\n",
       "      <td>0</td>\n",
       "      <td>0</td>\n",
       "      <td>0</td>\n",
       "      <td>1</td>\n",
       "      <td>0</td>\n",
       "      <td>0</td>\n",
       "      <td>0</td>\n",
       "      <td>0</td>\n",
       "      <td>1</td>\n",
       "    </tr>\n",
       "    <tr>\n",
       "      <th>Scientist</th>\n",
       "      <td>1</td>\n",
       "      <td>0</td>\n",
       "      <td>0</td>\n",
       "      <td>0</td>\n",
       "      <td>0</td>\n",
       "      <td>0</td>\n",
       "      <td>0</td>\n",
       "      <td>0</td>\n",
       "      <td>0</td>\n",
       "      <td>0</td>\n",
       "      <td>1</td>\n",
       "    </tr>\n",
       "    <tr>\n",
       "      <th>Staff</th>\n",
       "      <td>0</td>\n",
       "      <td>0</td>\n",
       "      <td>0</td>\n",
       "      <td>0</td>\n",
       "      <td>0</td>\n",
       "      <td>0</td>\n",
       "      <td>0</td>\n",
       "      <td>1</td>\n",
       "      <td>0</td>\n",
       "      <td>0</td>\n",
       "      <td>1</td>\n",
       "    </tr>\n",
       "    <tr>\n",
       "      <th>Visiting Scholar</th>\n",
       "      <td>0</td>\n",
       "      <td>0</td>\n",
       "      <td>0</td>\n",
       "      <td>0</td>\n",
       "      <td>0</td>\n",
       "      <td>0</td>\n",
       "      <td>0</td>\n",
       "      <td>0</td>\n",
       "      <td>1</td>\n",
       "      <td>0</td>\n",
       "      <td>1</td>\n",
       "    </tr>\n",
       "    <tr>\n",
       "      <th>All</th>\n",
       "      <td>54</td>\n",
       "      <td>11</td>\n",
       "      <td>13</td>\n",
       "      <td>14</td>\n",
       "      <td>22</td>\n",
       "      <td>15</td>\n",
       "      <td>11</td>\n",
       "      <td>19</td>\n",
       "      <td>12</td>\n",
       "      <td>12</td>\n",
       "      <td>183</td>\n",
       "    </tr>\n",
       "  </tbody>\n",
       "</table>\n",
       "</div>"
      ],
      "text/plain": [
       "company                       Facebook  Gartner  Insight Data Science  Intuit  \\\n",
       "postdoc                                                                         \n",
       "Assistant Professor                  1        0                     0       0   \n",
       "Associate Research Scientist         0        0                     0       0   \n",
       "PhD                                 33        7                     9      11   \n",
       "Postdoc                             18        4                     4       3   \n",
       "Research Associate                   1        0                     0       0   \n",
       "Research Faculty                     0        0                     0       0   \n",
       "Research Scientist                   0        0                     0       0   \n",
       "Scientist                            1        0                     0       0   \n",
       "Staff                                0        0                     0       0   \n",
       "Visiting Scholar                     0        0                     0       0   \n",
       "All                                 54       11                    13      14   \n",
       "\n",
       "company                       LinkedIn  Netflix  Schireson  Stitch Fix  Uber  \\\n",
       "postdoc                                                                        \n",
       "Assistant Professor                  0        0          0           0     0   \n",
       "Associate Research Scientist         0        0          1           0     0   \n",
       "PhD                                 11       10          5          13     9   \n",
       "Postdoc                             10        4          4           5     2   \n",
       "Research Associate                   1        0          0           0     0   \n",
       "Research Faculty                     0        0          1           0     0   \n",
       "Research Scientist                   0        1          0           0     0   \n",
       "Scientist                            0        0          0           0     0   \n",
       "Staff                                0        0          0           1     0   \n",
       "Visiting Scholar                     0        0          0           0     1   \n",
       "All                                 22       15         11          19    12   \n",
       "\n",
       "company                       Yelp  All  \n",
       "postdoc                                  \n",
       "Assistant Professor              0    1  \n",
       "Associate Research Scientist     0    1  \n",
       "PhD                              8  116  \n",
       "Postdoc                          4   58  \n",
       "Research Associate               0    2  \n",
       "Research Faculty                 0    1  \n",
       "Research Scientist               0    1  \n",
       "Scientist                        0    1  \n",
       "Staff                            0    1  \n",
       "Visiting Scholar                 0    1  \n",
       "All                             12  183  "
      ]
     },
     "execution_count": 12,
     "metadata": {},
     "output_type": "execute_result"
    }
   ],
   "source": [
    "top10_companies = insight.company[insight['company'].isin(companies_count.company.head(10))]\n",
    "pd.crosstab(top10_companies, insight.postdoc, margins=True).T"
   ]
  },
  {
   "cell_type": "markdown",
   "metadata": {},
   "source": [
    "Commentary: It seems like top10 companies have almost equal predisposition when hiring postdocs (58/227=25.5%) and PhDs (116/507=22.9%). But we might whant to test if the difference is indeed statistically insignificant.\n",
    "\n",
    "\n",
    "Interestingly, LinkedIn stands out from the rest 9 companies in that it hired disproportionally more postdocs compared to other top10 companies. <br>\n",
    "\n",
    "So if you are the INSIGHT fellow and fresh PhD and want to go to LinkedIN - beware, there will be much more competition from more experienced collegues!"
   ]
  },
  {
   "cell_type": "markdown",
   "metadata": {},
   "source": [
    "## Hypothesis Testing via Bootstrapping"
   ]
  },
  {
   "cell_type": "markdown",
   "metadata": {},
   "source": [
    "### 1.  Do top10 companies hire more Postdocs than PhDs?"
   ]
  },
  {
   "cell_type": "markdown",
   "metadata": {},
   "source": [
    "Let's check our hypothesis whether top10 compnies prefer to hire Postdocs rather than PhDs from Insight. We will do it via bootstrapping. Our \"treatment\" in this case is \"top10 companies\". So we divide our initial dataset into two groups - \"top10\" and \"not top10\" and compare the postdoc means for both groups. Then we bootstrap (resample with replacement) the data 10000 times and check if the difference between postdoc means for top10 group and not_top10 group is statistically significant. \n",
    "\n",
    "**H<sub>0</sub>**: top10 postdoc mean <= non_top10 postdoc mean <br>\n",
    "**H<sub>1</sub>**: top10 postdoc mean > non_top10 postdoc mean"
   ]
  },
  {
   "cell_type": "code",
   "execution_count": 41,
   "metadata": {},
   "outputs": [
    {
     "data": {
      "text/plain": [
       "{'Facebook',\n",
       " 'Gartner',\n",
       " 'Insight Data Science',\n",
       " 'Intuit',\n",
       " 'LinkedIn',\n",
       " 'Netflix',\n",
       " 'Schireson',\n",
       " 'Stitch Fix',\n",
       " 'Uber',\n",
       " 'Yelp'}"
      ]
     },
     "execution_count": 41,
     "metadata": {},
     "output_type": "execute_result"
    }
   ],
   "source": [
    "set(top10_companies)"
   ]
  },
  {
   "cell_type": "code",
   "execution_count": 76,
   "metadata": {},
   "outputs": [
    {
     "data": {
      "text/plain": [
       "(184, 9)"
      ]
     },
     "execution_count": 76,
     "metadata": {},
     "output_type": "execute_result"
    }
   ],
   "source": [
    "#recode postdoc column to calc mean more quickly - 1 if postdoc\n",
    "insight['postdoc_recoded'] = insight.postdoc.apply(lambda x: 1 if x == \"Postdoc\" else 0)\n",
    "top10_insight.shape"
   ]
  },
  {
   "cell_type": "code",
   "execution_count": 77,
   "metadata": {},
   "outputs": [],
   "source": [
    "top10_insight = insight[insight.company.apply(lambda x: x in set(top10_companies)) == True]"
   ]
  },
  {
   "cell_type": "code",
   "execution_count": 78,
   "metadata": {},
   "outputs": [
    {
     "data": {
      "text/plain": [
       "(610, 9)"
      ]
     },
     "execution_count": 78,
     "metadata": {},
     "output_type": "execute_result"
    }
   ],
   "source": [
    "#insight fellows not from top10_companies\n",
    "not_top10_insight = insight[insight.company.apply(lambda x: x not in set(top10_companies)) == True]\n",
    "not_top10_insight.shape"
   ]
  },
  {
   "cell_type": "code",
   "execution_count": 79,
   "metadata": {},
   "outputs": [
    {
     "data": {
      "text/plain": [
       "0.31521739130434784"
      ]
     },
     "execution_count": 79,
     "metadata": {},
     "output_type": "execute_result"
    }
   ],
   "source": [
    "top10_postdoc_mean = top10_insight.postdoc_recoded.mean()\n",
    "top10_postdoc_mean"
   ]
  },
  {
   "cell_type": "code",
   "execution_count": 80,
   "metadata": {},
   "outputs": [
    {
     "data": {
      "text/plain": [
       "0.27704918032786885"
      ]
     },
     "execution_count": 80,
     "metadata": {},
     "output_type": "execute_result"
    }
   ],
   "source": [
    "not_top10_postdoc_mean = not_top10_insight.postdoc_recoded.mean()\n",
    "not_top10_postdoc_mean"
   ]
  },
  {
   "cell_type": "code",
   "execution_count": 82,
   "metadata": {},
   "outputs": [
    {
     "data": {
      "text/plain": [
       "0.03816821097647899"
      ]
     },
     "execution_count": 82,
     "metadata": {},
     "output_type": "execute_result"
    }
   ],
   "source": [
    "obs_diff = top10_postdoc_mean - not_top10_postdoc_mean\n",
    "obs_diff"
   ]
  },
  {
   "cell_type": "code",
   "execution_count": 91,
   "metadata": {},
   "outputs": [],
   "source": [
    "#create sampling distribution for difference in postdoc means with bootstrapping\n",
    "diffs = []\n",
    "for _ in range(10000):\n",
    "    b_sample = insight.sample(insight.shape[0], replace=True)\n",
    "    top10_insight = b_sample[b_sample.company.apply(lambda x: x in set(top10_companies)) == True]\n",
    "    top10_postdoc_mean = top10_insight.postdoc_recoded.mean()\n",
    "    not_top10_insight = b_sample[b_sample.company.apply(lambda x: x not in set(top10_companies)) == True]\n",
    "    not_top10_postdoc_mean = not_top10_insight.postdoc_recoded.mean()\n",
    "    diffs.append(top10_postdoc_mean - not_top10_postdoc_mean)"
   ]
  },
  {
   "cell_type": "code",
   "execution_count": 92,
   "metadata": {},
   "outputs": [
    {
     "data": {
      "image/png": "[encoded data removed]",
      "text/plain": [
       "<Figure size 432x288 with 1 Axes>"
      ]
     },
     "metadata": {
      "needs_background": "light"
     },
     "output_type": "display_data"
    }
   ],
   "source": [
    "# convert to numpy array\n",
    "diffs = np.array(diffs)\n",
    "# plot distribution\n",
    "plt.hist(diffs);"
   ]
  },
  {
   "cell_type": "code",
   "execution_count": 93,
   "metadata": {},
   "outputs": [],
   "source": [
    "# create distribution under the null hypothesis\n",
    "null_vals = np.random.normal(0, diffs.std(), diffs.size)"
   ]
  },
  {
   "cell_type": "code",
   "execution_count": 94,
   "metadata": {},
   "outputs": [
    {
     "data": {
      "image/png": "[encoded data removed]",
      "text/plain": [
       "<Figure size 432x288 with 1 Axes>"
      ]
     },
     "metadata": {
      "needs_background": "light"
     },
     "output_type": "display_data"
    }
   ],
   "source": [
    "# plot null distribution\n",
    "plt.hist(null_vals);\n",
    "\n",
    "# plot line for observed statistic\n",
    "plt.axvline(x=obs_diff, color = 'red');"
   ]
  },
  {
   "cell_type": "code",
   "execution_count": 95,
   "metadata": {},
   "outputs": [
    {
     "data": {
      "text/plain": [
       "0.1561"
      ]
     },
     "execution_count": 95,
     "metadata": {},
     "output_type": "execute_result"
    }
   ],
   "source": [
    "# compute p value\n",
    "(null_vals > obs_diff).mean()"
   ]
  },
  {
   "cell_type": "markdown",
   "metadata": {},
   "source": [
    "## Conclusion:\n",
    "With a type I error rate of 0.05, we don't have evidence that the top10 companies prefer hiring postdocs over PhDs (p-value=0.1561). We have to retain H<sub>0</sub> hypothesis."
   ]
  },
  {
   "cell_type": "markdown",
   "metadata": {},
   "source": [
    "### 2. Does LinkedIN prefer to hire Postdocs over PhDs?"
   ]
  },
  {
   "cell_type": "markdown",
   "metadata": {},
   "source": [
    "Now let's check our second hypothesis that LinkedIN prefer hiring postdocs over PhDs. We proceed in a similar fashion - dividing the initial dataset into two groups (linkedin/not_linkedin), finding the difference in postdoc means for both groups and then bootstrapping the data to see if the difference is statistically significance.\n",
    "\n",
    "**H<sub>0</sub>**: linkedin_postdoc_mean <= non_linkedin postdoc mean <br>\n",
    "**H<sub>1</sub>**: linkedin_postdoc_mean > non_linkedin postdoc mean"
   ]
  },
  {
   "cell_type": "code",
   "execution_count": 125,
   "metadata": {},
   "outputs": [
    {
     "data": {
      "text/plain": [
       "0.45454545454545453"
      ]
     },
     "execution_count": 125,
     "metadata": {},
     "output_type": "execute_result"
    }
   ],
   "source": [
    "linkedin = insight[insight.company == \"LinkedIn\"]\n",
    "linkedin_postdoc_mean = linkedin.postdoc_recoded.mean()\n",
    "linkedin_postdoc_mean"
   ]
  },
  {
   "cell_type": "code",
   "execution_count": 126,
   "metadata": {},
   "outputs": [
    {
     "data": {
      "text/plain": [
       "0.2810880829015544"
      ]
     },
     "execution_count": 126,
     "metadata": {},
     "output_type": "execute_result"
    }
   ],
   "source": [
    "not_linkedin = insight[insight.company != \"LinkedIn\"]\n",
    "not_linkedin_mean = not_linkedin.postdoc_recoded.mean()\n",
    "not_linkedin_mean"
   ]
  },
  {
   "cell_type": "code",
   "execution_count": 127,
   "metadata": {},
   "outputs": [
    {
     "data": {
      "text/plain": [
       "0.17345737164390013"
      ]
     },
     "execution_count": 127,
     "metadata": {},
     "output_type": "execute_result"
    }
   ],
   "source": [
    "obs_diff = linkedin_postdoc_mean - not_linkedin_mean\n",
    "obs_diff"
   ]
  },
  {
   "cell_type": "code",
   "execution_count": 132,
   "metadata": {},
   "outputs": [],
   "source": [
    "#create sampling distribution for difference in postdoc means with bootstrapping\n",
    "diffs = []\n",
    "for _ in range(10000):\n",
    "    b_sample = insight.sample(insight.shape[0], replace=True)\n",
    "    linkedin = b_sample[b_sample.company == \"LinkedIn\"]\n",
    "    linkedin_postdoc_mean = linkedin.postdoc_recoded.mean()\n",
    "    \n",
    "    not_linkedin = b_sample[b_sample.company != \"LinkedIn\"]\n",
    "    not_linkedin_mean = not_linkedin.postdoc_recoded.mean()\n",
    "    diffs.append(linkedin_postdoc_mean - not_linkedin_mean)"
   ]
  },
  {
   "cell_type": "code",
   "execution_count": 133,
   "metadata": {},
   "outputs": [],
   "source": [
    "# convert to numpy array\n",
    "diffs = np.array(diffs)\n",
    "# create distribution under the null hypothesis\n",
    "null_vals = np.random.normal(0, diffs.std(), diffs.size)"
   ]
  },
  {
   "cell_type": "code",
   "execution_count": 134,
   "metadata": {},
   "outputs": [
    {
     "data": {
      "image/png": "[encoded data removed]",
      "text/plain": [
       "<Figure size 432x288 with 1 Axes>"
      ]
     },
     "metadata": {
      "needs_background": "light"
     },
     "output_type": "display_data"
    }
   ],
   "source": [
    "# plot null distribution\n",
    "plt.hist(null_vals);\n",
    "\n",
    "# plot line for observed statistic\n",
    "plt.axvline(x=obs_diff, color = 'red');"
   ]
  },
  {
   "cell_type": "code",
   "execution_count": 135,
   "metadata": {},
   "outputs": [
    {
     "data": {
      "text/plain": [
       "0.053"
      ]
     },
     "execution_count": 135,
     "metadata": {},
     "output_type": "execute_result"
    }
   ],
   "source": [
    "# compute p value\n",
    "(null_vals > obs_diff).mean()"
   ]
  },
  {
   "cell_type": "markdown",
   "metadata": {},
   "source": [
    "## Conclusion:\n",
    "Our p-value (0.0523) is slightly higher than alpha=0.05. So it's in the gray area of rejecting/retaining H0. However, the practical significance suggests that we may be ok with 5% error rate in our case and conclude that LinkedIn indeed prefer hiring Postdocs over PhDs, thus rejecting the H0 hypothesis."
   ]
  },
  {
   "cell_type": "markdown",
   "metadata": {},
   "source": [
    "## 2.5. PROJECTS by selected companies"
   ]
  },
  {
   "cell_type": "markdown",
   "metadata": {},
   "source": [
    "Let's have a quick look at the projects by fellows that work at particular company:"
   ]
  },
  {
   "cell_type": "code",
   "execution_count": 188,
   "metadata": {},
   "outputs": [],
   "source": [
    "pd.options.display.max_colwidth = 200"
   ]
  },
  {
   "cell_type": "code",
   "execution_count": 7,
   "metadata": {},
   "outputs": [],
   "source": [
    "def show_projects_by_company(company):\n",
    "    print(insight['project'][insight['company'] == company])"
   ]
  },
  {
   "cell_type": "code",
   "execution_count": 749,
   "metadata": {},
   "outputs": [
    {
     "name": "stdout",
     "output_type": "stream",
     "text": [
      "106                                                            Lenderstanding: Helping lenders help\n",
      "116                         What's for Dinner: Dinner recommendations to meet daily nutrition goals\n",
      "117                                                       AdNet: Graph recommender for news domains\n",
      "306                                Now Looking for Players: Ditch the forums and find a friend fast\n",
      "375                                             FindYourNextShow: A Local Live Music Discovery Tool\n",
      "494    Businesses on Venmo are not your “friends”: Identify businesses posing as \"friends\" on Venmo\n",
      "715                                               Movie Mash: Find a movie that everyone will enjoy\n",
      "717               The key to a Joyful couple: Analyzing Customer Retention Through Clickstream Data\n",
      "749                MatchTheVote: Matching advocacy group members with voters using machine learning\n",
      "Name: project, dtype: object\n"
     ]
    }
   ],
   "source": [
    "show_projects_by_company('Apple')"
   ]
  },
  {
   "cell_type": "code",
   "execution_count": 750,
   "metadata": {},
   "outputs": [
    {
     "name": "stdout",
     "output_type": "stream",
     "text": [
      "7                                CouchTube: YouTube TV shows in one click\n",
      "14                 STARtrack: Helping Educators Track Student Performance\n",
      "54                   InspectorGit: Discover Github's awesome repositories\n",
      "78        OnLocation: How to see where your favorite movies were filmed. \n",
      "124                             Hoppr: Optimize route for running errands\n",
      "191             UnicornHuntr: Predict the success of early-stage startups\n",
      "249                        TLDR: The site for people that want more Karma\n",
      "252              Next Best Store: Predict where your next store should be\n",
      "329    Keyword Finder: Automatic keyword extraction- no alchemy required!\n",
      "337       GitWatch: Revealing where to contribute to open source projects\n",
      "406               The Great Divider: Sifting conversations about politics\n",
      "638                                                       The Movie Model\n",
      "675                                                          Hatched News\n",
      "681                                                       Churn at Gobble\n",
      "764          Awesome Hockey: What to skip and what to watch in NHL videos\n",
      "Name: project, dtype: object\n"
     ]
    }
   ],
   "source": [
    "show_projects_by_company('Netflix')"
   ]
  },
  {
   "cell_type": "markdown",
   "metadata": {},
   "source": [
    "**Summary**: from qualitative review of project titles for two companies, there seems to be no relation between the project and the company. How GitHub relates to Netflix?? I guess the more important thing is that you have your own project, what kind of project is secondary... <br>\n",
    "\n",
    "But let's have a look at title projects as WordCloud. Maybe it will be more insightful?"
   ]
  },
  {
   "cell_type": "markdown",
   "metadata": {},
   "source": [
    "## WordCloud of Project Title by Company"
   ]
  },
  {
   "cell_type": "code",
   "execution_count": 9,
   "metadata": {},
   "outputs": [],
   "source": [
    "def show_wordcloud_of_projects_by_companies(company):\n",
    "    subset = insight[insight['company']==company]\n",
    "    text = \" \".join(project for project in subset.project)\n",
    "    # add stopwords\n",
    "    stopwords = set(STOPWORDS)\n",
    "    stopwords.update([\"predicting\", \"data\", \"Finding\", \"Predict\", \"Search\", \"Find\", 'make', 'Finder'])\n",
    "    \n",
    "    # plotting wordcloud\n",
    "    wordcloud = WordCloud(max_font_size=50, max_words=100, background_color=\"white\", stopwords=stopwords).generate(text)\n",
    "    plt.figure(figsize=[10,10])\n",
    "    plt.imshow(wordcloud, interpolation=\"bilinear\")\n",
    "    plt.axis(\"off\")\n",
    "    plt.show()"
   ]
  },
  {
   "cell_type": "code",
   "execution_count": 11,
   "metadata": {},
   "outputs": [
    {
     "data": {
      "image/png": "[encoded data removed]",
      "text/plain": [
       "<Figure size 720x720 with 1 Axes>"
      ]
     },
     "metadata": {
      "needs_background": "light"
     },
     "output_type": "display_data"
    }
   ],
   "source": [
    "show_wordcloud_of_projects_by_companies('Netflix')"
   ]
  },
  {
   "cell_type": "code",
   "execution_count": 755,
   "metadata": {},
   "outputs": [
    {
     "data": {
      "image/png": "[encoded data removed]",
      "text/plain": [
       "<Figure size 720x720 with 1 Axes>"
      ]
     },
     "metadata": {
      "needs_background": "light"
     },
     "output_type": "display_data"
    }
   ],
   "source": [
    "show_wordcloud_of_projects_by_companies('Facebook')"
   ]
  },
  {
   "cell_type": "markdown",
   "metadata": {},
   "source": [
    "## Summary: \n",
    "Well, the WordCloud is a little bit more insightful than qualitative analysis. So, those fellows that ended up in Netflix had worked with videos (keywords - Movie, YouTube, TV, CouchTube), while those that got employed at Facebook had projects that deal with text (keywords - Tweet, Twitter) or with marketing (churn, user)."
   ]
  },
  {
   "cell_type": "markdown",
   "metadata": {},
   "source": [
    "### Most common Words used in Project Titles:"
   ]
  },
  {
   "cell_type": "code",
   "execution_count": 15,
   "metadata": {},
   "outputs": [],
   "source": [
    "pd.options.display.max_colwidth = 200"
   ]
  },
  {
   "cell_type": "code",
   "execution_count": 602,
   "metadata": {},
   "outputs": [
    {
     "name": "stdout",
     "output_type": "stream",
     "text": [
      "There are 3068 words in all projects\n"
     ]
    }
   ],
   "source": [
    "# join all project titles into one\n",
    "all_text = \" \".join(project for project in insight.project)\n",
    "print (\"There are {} words in all projects\".format(len(text)))"
   ]
  },
  {
   "cell_type": "code",
   "execution_count": 603,
   "metadata": {},
   "outputs": [],
   "source": [
    "# Cleaning text and lower casing all words\n",
    "for char in '-.,\\n':\n",
    "    all_text = all_text.replace(char,' ')\n",
    "all_text = all_text.lower()\n",
    "\n",
    "# split returns a list of words delimited by sequences of whitespace (including tabs, newlines, etc, like re's \\s) \n",
    "word_list = all_text.split()"
   ]
  },
  {
   "cell_type": "code",
   "execution_count": 608,
   "metadata": {
    "scrolled": true
   },
   "outputs": [
    {
     "data": {
      "text/plain": [
       "[('the', 184),\n",
       " ('for', 125),\n",
       " ('a', 123),\n",
       " ('your', 120),\n",
       " ('to', 114),\n",
       " ('in', 86),\n",
       " ('find', 78),\n",
       " ('of', 75),\n",
       " ('and', 72),\n",
       " ('on', 69),\n",
       " ('predicting', 56),\n",
       " ('you', 50),\n",
       " ('with', 40),\n",
       " ('data', 31),\n",
       " ('new', 23),\n",
       " ('news', 23),\n",
       " ('finding', 22),\n",
       " ('based', 21),\n",
       " ('from', 21),\n",
       " ('time', 21),\n",
       " ('using', 21),\n",
       " ('will', 21),\n",
       " ('best', 20),\n",
       " ('predict', 18),\n",
       " ('helping', 17),\n",
       " ('that', 17),\n",
       " ('learning', 17),\n",
       " ('recommendations', 16),\n",
       " ('what', 16),\n",
       " ('how', 16),\n",
       " ('identifying', 16),\n",
       " ('search', 15),\n",
       " ('make', 15),\n",
       " ('discover', 15),\n",
       " ('an', 15),\n",
       " ('where', 15),\n",
       " ('at', 15),\n",
       " ('social', 14),\n",
       " ('next', 14),\n",
       " ('get', 13),\n",
       " ('twitter', 13),\n",
       " ('user', 13),\n",
       " ('music', 12),\n",
       " ('real', 12),\n",
       " ('is', 12),\n",
       " ('or', 12),\n",
       " ('by', 12),\n",
       " ('reviews', 11),\n",
       " ('out', 11),\n",
       " ('improving', 11),\n",
       " ('churn', 11),\n",
       " ('&', 10),\n",
       " ('predictor', 10),\n",
       " ('people', 10),\n",
       " ('app', 10),\n",
       " ('right', 10),\n",
       " ('recommender', 10),\n",
       " ('art', 10),\n",
       " ('it', 10),\n",
       " ('engagement', 10),\n",
       " ('they', 10),\n",
       " ('tool', 10),\n",
       " ('customer', 10),\n",
       " ('perfect', 9),\n",
       " ('engine', 9),\n",
       " ('restaurant', 9),\n",
       " ('recommendation', 9),\n",
       " ('price', 9),\n",
       " ('optimizing', 9),\n",
       " ('better', 9),\n",
       " ('nyc', 9),\n",
       " ('media', 8),\n",
       " ('my', 8),\n",
       " ('know', 8),\n",
       " ('job', 8),\n",
       " ('startup', 8),\n",
       " ('yelp', 8),\n",
       " ('making', 8),\n",
       " ('prediction', 8),\n",
       " ('driven', 8),\n",
       " ('movie', 8),\n",
       " ('great', 8),\n",
       " ('language', 8),\n",
       " ('like', 8),\n",
       " ('place', 8),\n",
       " ('future', 8),\n",
       " ('video', 8),\n",
       " ('online', 8),\n",
       " ('images', 8),\n",
       " ('insights', 8),\n",
       " ('machine', 8),\n",
       " ('flight', 7),\n",
       " ('york', 7),\n",
       " ('youtube', 7),\n",
       " ('local', 7),\n",
       " ('performance', 7),\n",
       " ('stack', 7),\n",
       " ('overflow', 7),\n",
       " ('tweets', 7),\n",
       " ('personalized', 7),\n",
       " ('detection', 7),\n",
       " ('potential', 7),\n",
       " ('classifying', 7),\n",
       " ('videos', 7),\n",
       " ('before', 7),\n",
       " ('live', 7),\n",
       " ('content', 7),\n",
       " ('most', 7),\n",
       " ('city', 7),\n",
       " ('parking', 7),\n",
       " ('traffic', 7),\n",
       " ('help', 7),\n",
       " ('are', 7),\n",
       " ('campaign', 7),\n",
       " ('through', 7),\n",
       " ('risk', 7),\n",
       " ('retention', 7),\n",
       " ('text', 7),\n",
       " ('events', 7),\n",
       " ('comments', 7),\n",
       " ('who', 7),\n",
       " ('analysis', 6),\n",
       " ('loan', 6),\n",
       " ('less', 6),\n",
       " ('identify', 6),\n",
       " ('rates', 6),\n",
       " ('not', 6),\n",
       " ('games', 6),\n",
       " ('fraud', 6),\n",
       " ('weather', 6),\n",
       " ('recommending', 6),\n",
       " ('forecasting', 6),\n",
       " ('me', 6),\n",
       " ('about', 6),\n",
       " ('favorite', 6),\n",
       " ('success', 6),\n",
       " ('be', 6),\n",
       " ('discovery', 6),\n",
       " ('trip', 6),\n",
       " ('if', 6),\n",
       " ('market', 6),\n",
       " ('improve', 6),\n",
       " ('routes', 6),\n",
       " ('love', 6),\n",
       " ('airbnb', 6),\n",
       " ('non', 6),\n",
       " ('more', 6),\n",
       " ('mobile', 6),\n",
       " ('users', 6),\n",
       " ('model', 6),\n",
       " ('smart', 6),\n",
       " ('open', 5),\n",
       " ('github', 5),\n",
       " ('one', 5),\n",
       " ('decisions', 5),\n",
       " ('student', 5),\n",
       " ('popular', 5),\n",
       " ('travel', 5),\n",
       " ('stay', 5),\n",
       " ('nba', 5),\n",
       " ('vacation', 5),\n",
       " ('beer', 5),\n",
       " ('questions', 5),\n",
       " ('neighborhood', 5),\n",
       " ('natural', 5),\n",
       " ('lending', 5),\n",
       " ('book', 5),\n",
       " ('dog', 5),\n",
       " ('when', 5),\n",
       " ('tickets', 5),\n",
       " ('image', 5),\n",
       " ('this', 5),\n",
       " ('pay', 5),\n",
       " ('into', 5),\n",
       " ('review', 5),\n",
       " ('should', 5),\n",
       " ('experience', 5),\n",
       " ('route', 5),\n",
       " ('learn', 5),\n",
       " ('game', 5),\n",
       " ('power', 5),\n",
       " ('zidisha', 5),\n",
       " ('e', 5),\n",
       " ('can', 5),\n",
       " ('automatic', 5),\n",
       " ('safer', 5),\n",
       " ('classify', 5),\n",
       " ('up', 5),\n",
       " ('rate', 5),\n",
       " ('demand', 5),\n",
       " ('tracking', 5),\n",
       " ('matching', 5),\n",
       " ('consumer', 5),\n",
       " ('finder', 5),\n",
       " ('public', 5),\n",
       " ('buy', 5),\n",
       " ('business', 5),\n",
       " ('tweet', 4),\n",
       " ('sentiment', 4),\n",
       " ('click', 4),\n",
       " ('empowering', 4),\n",
       " ('have', 4),\n",
       " ('drug', 4),\n",
       " ('start', 4),\n",
       " ('crime', 4),\n",
       " ('need', 4),\n",
       " ('food', 4),\n",
       " ('good', 4),\n",
       " (\"what's\", 4),\n",
       " ('early', 4),\n",
       " ('web', 4),\n",
       " ('awesome', 4),\n",
       " ('decide', 4),\n",
       " ('way', 4),\n",
       " ('product', 4),\n",
       " ('me:', 4),\n",
       " ('project', 4),\n",
       " ('avoid', 4),\n",
       " ('their', 4),\n",
       " ('posts', 4),\n",
       " ('quality', 4),\n",
       " ('courses', 4),\n",
       " ('deep', 4),\n",
       " ('maximize', 4),\n",
       " ('high', 4),\n",
       " ('solar', 4),\n",
       " ('i', 4),\n",
       " ('optimize', 4),\n",
       " ('home', 4),\n",
       " ('road', 4),\n",
       " ('running', 4),\n",
       " ('mood', 4),\n",
       " ('system', 4),\n",
       " (\"don't\", 4),\n",
       " ('match', 4),\n",
       " ('projects', 4),\n",
       " ('around', 4),\n",
       " ('predictor:', 4),\n",
       " ('all', 4),\n",
       " ('businesses', 4),\n",
       " ('algorithm', 4),\n",
       " ('increasing', 4),\n",
       " ('relevant', 4),\n",
       " ('audience', 4),\n",
       " ('analyzing', 4),\n",
       " ('network', 4),\n",
       " ('actionable', 4),\n",
       " ('commerce', 4),\n",
       " ('no', 4),\n",
       " ('call', 4),\n",
       " ('discovering', 4),\n",
       " ('without', 4),\n",
       " ('take', 4),\n",
       " ('wine', 4),\n",
       " ('count', 4),\n",
       " ('forecast', 4),\n",
       " ('population', 4),\n",
       " ('estimating', 4),\n",
       " ('default', 4),\n",
       " ('consulting', 4),\n",
       " ('topic', 4),\n",
       " ('leveraging', 4),\n",
       " ('credit', 4),\n",
       " ('venmo', 4),\n",
       " ('measuring', 3),\n",
       " ('email', 3),\n",
       " ('visualizing', 3),\n",
       " ('delay', 3),\n",
       " ('event', 3),\n",
       " ('connections', 3),\n",
       " ('finder:', 3),\n",
       " ('apartment', 3),\n",
       " ('track', 3),\n",
       " ('recipe', 3),\n",
       " ('path', 3),\n",
       " ('websites', 3),\n",
       " ('mining', 3),\n",
       " ('searching', 3),\n",
       " ('bar', 3),\n",
       " ('outcomes', 3),\n",
       " ('easy', 3),\n",
       " ('university', 3),\n",
       " ('off', 3),\n",
       " ('planner', 3),\n",
       " ('now', 3),\n",
       " ('world', 3),\n",
       " ('connect', 3),\n",
       " ('just', 3),\n",
       " ('investment', 3),\n",
       " ('too', 3),\n",
       " ('between', 3),\n",
       " ('craigslist', 3),\n",
       " ('san', 3),\n",
       " ('read', 3),\n",
       " ('fantasy', 3),\n",
       " ('football', 3),\n",
       " ('optimization', 3),\n",
       " ('prices', 3),\n",
       " ('dishes', 3),\n",
       " ('providing', 3),\n",
       " ('predictions', 3),\n",
       " ('purchase', 3),\n",
       " ('git', 3),\n",
       " ('return', 3),\n",
       " ('health', 3),\n",
       " ('skills', 3),\n",
       " ('automated', 3),\n",
       " ('topics', 3),\n",
       " (\"you'll\", 3),\n",
       " ('car', 3),\n",
       " ('related', 3),\n",
       " ('group', 3),\n",
       " ('instagram', 3),\n",
       " ('bubble', 3),\n",
       " ('street', 3),\n",
       " ('ratings', 3),\n",
       " ('locals', 3),\n",
       " ('amazon', 3),\n",
       " ('history', 3),\n",
       " ('machine:', 3),\n",
       " ('estimation', 3),\n",
       " ('meet', 3),\n",
       " ('value', 3),\n",
       " ('activity', 3),\n",
       " ('recommend', 3),\n",
       " ('check', 3),\n",
       " ('english', 3),\n",
       " ('needs', 3),\n",
       " ('cities', 3),\n",
       " ('ingredient', 3),\n",
       " ('tailored', 3),\n",
       " ('customized', 3),\n",
       " ('students', 3),\n",
       " (\"city's\", 3),\n",
       " ('area', 3),\n",
       " ('made', 3),\n",
       " ('workout', 3),\n",
       " ('candidates', 3),\n",
       " ('plan', 3),\n",
       " ('walking', 3),\n",
       " ('smarter', 3),\n",
       " ('pebble', 3),\n",
       " ('neighborhoods', 3),\n",
       " ('drink', 3),\n",
       " ('findr:', 3),\n",
       " ('legal', 3),\n",
       " ('outreach', 3),\n",
       " ('places', 3),\n",
       " ('already', 3),\n",
       " ('analytics', 3),\n",
       " ('build', 3),\n",
       " ('test', 3),\n",
       " ('relevance', 3),\n",
       " ('apps', 3),\n",
       " ('estimate', 3),\n",
       " ('financial', 3),\n",
       " ('historical', 3),\n",
       " ('crowd', 3),\n",
       " ('which', 3),\n",
       " ('products', 3),\n",
       " ('trending', 3),\n",
       " ('want', 3),\n",
       " ('detecting', 3),\n",
       " ('any', 3),\n",
       " ('features', 3),\n",
       " ('target', 3),\n",
       " ('company', 3),\n",
       " ('there', 3),\n",
       " ('across', 3),\n",
       " ('virtual', 3),\n",
       " ('safe', 3),\n",
       " ('talk', 3),\n",
       " ('enjoy', 3),\n",
       " ('healthcare', 3),\n",
       " ('summarizing', 3),\n",
       " ('micro', 3),\n",
       " ('free', 3),\n",
       " ('analyze', 3),\n",
       " ('pothole', 3),\n",
       " ('keep', 3),\n",
       " ('understand', 3),\n",
       " ('location', 3),\n",
       " ('service', 3),\n",
       " ('air', 3),\n",
       " ('second', 3),\n",
       " ('hand', 3),\n",
       " ('conversations', 3),\n",
       " ('toxic', 3),\n",
       " ('bot', 3),\n",
       " ('powered', 3),\n",
       " ('segmentation', 3),\n",
       " ('bike', 3),\n",
       " ('processing', 3),\n",
       " ('satellite', 3),\n",
       " ('retail', 3),\n",
       " ('songs', 3),\n",
       " ('extracting', 3),\n",
       " ('automating', 3),\n",
       " ('staffing', 3),\n",
       " ('3d', 3),\n",
       " ('nhl', 3),\n",
       " ('impact', 2),\n",
       " ('source', 2),\n",
       " ('contacts', 2),\n",
       " ('automatically', 2),\n",
       " ('stop', 2),\n",
       " ('shows', 2),\n",
       " ('parents', 2),\n",
       " ('informed', 2),\n",
       " ('sort', 2),\n",
       " ('organize', 2),\n",
       " ('flat', 2),\n",
       " ('kiva', 2),\n",
       " ('arrive', 2),\n",
       " ('multi', 2),\n",
       " ('domain', 2),\n",
       " ('stock', 2),\n",
       " ('bill', 2),\n",
       " ('expert', 2),\n",
       " ('musicians', 2),\n",
       " ('instant', 2),\n",
       " ('side', 2),\n",
       " ('matter', 2),\n",
       " ('follow', 2),\n",
       " ('visualization', 2),\n",
       " ('personal', 2),\n",
       " ('assistant', 2),\n",
       " ('flavor', 2),\n",
       " ('photos', 2),\n",
       " (\"today's\", 2),\n",
       " ('intelligent', 2),\n",
       " ('phd', 2),\n",
       " ('box', 2),\n",
       " ('bad', 2),\n",
       " (\"it's\", 2),\n",
       " ('couples', 2),\n",
       " (\"who's\", 2),\n",
       " ('easing', 2),\n",
       " ('relationship', 2),\n",
       " ('healthy', 2),\n",
       " ('deals', 2),\n",
       " ('park', 2),\n",
       " ('bias', 2),\n",
       " ('trends', 2),\n",
       " ('day', 2),\n",
       " ('ticket', 2),\n",
       " ('restaurants', 2),\n",
       " ('ones', 2),\n",
       " ('level', 2),\n",
       " ('peer', 2),\n",
       " ('see', 2),\n",
       " ('funding', 2),\n",
       " ('loans', 2),\n",
       " ('film', 2),\n",
       " ('series', 2),\n",
       " ('happy', 2),\n",
       " ('work', 2),\n",
       " ('together', 2),\n",
       " ('hive', 2),\n",
       " ('giving', 2),\n",
       " ('suggestions', 2),\n",
       " ('articles', 2),\n",
       " ('scoring', 2),\n",
       " ('wikipedia', 2),\n",
       " ('medical', 2),\n",
       " ('care', 2),\n",
       " ('view', 2),\n",
       " ('guide', 2),\n",
       " ('joy', 2),\n",
       " ('math', 2),\n",
       " ('lenders', 2),\n",
       " ('wizard:', 2),\n",
       " ('recommends', 2),\n",
       " ('post', 2),\n",
       " ('selling', 2),\n",
       " ('kick', 2),\n",
       " ('it!', 2),\n",
       " ('dinner:', 2),\n",
       " ('daily', 2),\n",
       " ('graph', 2),\n",
       " ('code', 2),\n",
       " ('partners', 2),\n",
       " ('meetup', 2),\n",
       " ('set', 2),\n",
       " ('startups', 2),\n",
       " ('portfolio', 2),\n",
       " ('fits', 2),\n",
       " ('bringing', 2),\n",
       " ('transparency', 2),\n",
       " ('kid', 2),\n",
       " ('friendly', 2),\n",
       " ('flag', 2),\n",
       " ('up:', 2),\n",
       " ('might', 2),\n",
       " ('q', 2),\n",
       " ('sign', 2),\n",
       " ('everyone', 2),\n",
       " ('has', 2),\n",
       " ('career', 2),\n",
       " ('helper:', 2),\n",
       " ('leave', 2),\n",
       " ('board', 2),\n",
       " ('active', 2),\n",
       " ('nyc:', 2),\n",
       " ('it?', 2),\n",
       " ('basketball', 2),\n",
       " ('assessing', 2),\n",
       " ('players', 2),\n",
       " ('likelihood', 2),\n",
       " ('per', 2),\n",
       " ('helpful', 2),\n",
       " ('tripadvisor', 2),\n",
       " ('so', 2),\n",
       " ('management', 2),\n",
       " ('interest', 2),\n",
       " ('candidate', 2),\n",
       " ('quick', 2),\n",
       " ('congressional', 2),\n",
       " ('run', 2),\n",
       " ('helps', 2),\n",
       " ('doctor', 2),\n",
       " ('sf', 2),\n",
       " ('auction', 2),\n",
       " ('community', 2),\n",
       " ('indierecommender:', 2),\n",
       " ('indie', 2),\n",
       " ('internet', 2),\n",
       " ('com:', 2),\n",
       " ('blog', 2),\n",
       " ('material', 2),\n",
       " ('entity', 2),\n",
       " ('random', 2),\n",
       " ('zidisha:', 2),\n",
       " ('win', 2),\n",
       " ('pharmaceutical', 2),\n",
       " ('watch', 2),\n",
       " ('queries', 2),\n",
       " ('reddit', 2),\n",
       " ('luck', 2),\n",
       " (\"won't\", 2),\n",
       " ('profit', 2),\n",
       " ('sourced', 2),\n",
       " ('anticipating', 2),\n",
       " ('worth', 2),\n",
       " ('hashtag:', 2),\n",
       " ('brand', 2),\n",
       " ('usage', 2),\n",
       " ('voters', 2),\n",
       " ('useful', 2),\n",
       " ('planning', 2),\n",
       " ('shopping', 2),\n",
       " ('boston', 2),\n",
       " ('kickstarter', 2),\n",
       " ('deliver', 2),\n",
       " ('warning', 2),\n",
       " (\"zidisha's\", 2),\n",
       " ('growth', 2),\n",
       " ('startup:', 2),\n",
       " ('whether', 2),\n",
       " ('bills', 2),\n",
       " ('team', 2),\n",
       " ('forecaster:', 2),\n",
       " ('scenes', 2),\n",
       " ('faces', 2),\n",
       " ('rapid', 2),\n",
       " ('garden', 2),\n",
       " ('fit', 2),\n",
       " ('climb', 2),\n",
       " ('scene', 2),\n",
       " ('rating', 2),\n",
       " ('whereto', 2),\n",
       " ('photo', 2),\n",
       " ('we', 2),\n",
       " ('loss', 2),\n",
       " ('written', 2),\n",
       " ('key', 2),\n",
       " ('line', 2),\n",
       " ('us:', 2),\n",
       " ('state', 2),\n",
       " ('much', 2),\n",
       " ('house', 2),\n",
       " ('bid', 2),\n",
       " ('microlending', 2),\n",
       " ('fee', 2),\n",
       " ('citibike', 2),\n",
       " ('customers', 2),\n",
       " ('political', 2),\n",
       " ('scientific', 2),\n",
       " ('many', 2),\n",
       " ('professional', 2),\n",
       " ('posted', 2),\n",
       " ('its', 2),\n",
       " ('cab', 2),\n",
       " ('profile', 2),\n",
       " ('information', 2),\n",
       " ('empower', 2),\n",
       " ('friend', 2),\n",
       " ('opportunities', 2),\n",
       " ('teachers', 2),\n",
       " ('ted', 2),\n",
       " ('self', 2),\n",
       " ('explore', 2),\n",
       " ('sound', 2),\n",
       " ('spending', 2),\n",
       " ('keyword', 2),\n",
       " ('extraction', 2),\n",
       " ('catch', 2),\n",
       " ('profiles', 2),\n",
       " ('tagging', 2),\n",
       " ('hacker', 2),\n",
       " ('contribute', 2),\n",
       " ('borrower', 2),\n",
       " ('bids', 2),\n",
       " ('supply', 2),\n",
       " ('textbooks', 2),\n",
       " ('back', 2),\n",
       " ('refining', 2),\n",
       " ('chance', 2),\n",
       " ('lead', 2),\n",
       " ('blue', 2),\n",
       " ('us', 2),\n",
       " ('feature', 2),\n",
       " ('rank:', 2),\n",
       " ('word', 2),\n",
       " ('lift:', 2),\n",
       " ('league', 2),\n",
       " ('coach:', 2),\n",
       " ('play', 2),\n",
       " ('ranking', 2),\n",
       " ('stand', 2),\n",
       " ('right!', 2),\n",
       " ('wallet', 2),\n",
       " ('club', 2),\n",
       " ('long', 2),\n",
       " ('meeting', 2),\n",
       " ('passengers', 2),\n",
       " ('among', 2),\n",
       " ('markets', 2),\n",
       " ('sifting', 2),\n",
       " ('exploring', 2),\n",
       " ('safest', 2),\n",
       " ('california', 2),\n",
       " ('filter', 2),\n",
       " ('intelligently', 2),\n",
       " ('gardening', 2),\n",
       " ('as', 2),\n",
       " ('drone', 2),\n",
       " ('documents', 2),\n",
       " ('wise', 2),\n",
       " ('does', 2),\n",
       " ('voter', 2),\n",
       " ('humor', 2),\n",
       " ('wellness', 2),\n",
       " ('pick', 2),\n",
       " ('form', 2),\n",
       " ('underground', 2),\n",
       " ('today', 2),\n",
       " ('dining', 2),\n",
       " ('(and', 2),\n",
       " (':', 2),\n",
       " ('determining', 2),\n",
       " ('fixing', 2),\n",
       " ('names', 2),\n",
       " ('transactions', 2),\n",
       " ('similarity', 2),\n",
       " ('classification', 2),\n",
       " ('hashtags', 2),\n",
       " ('sales', 2),\n",
       " ('education', 2),\n",
       " ('delays:', 2),\n",
       " ('overflow:', 2),\n",
       " ('question', 2),\n",
       " ('b2b', 2),\n",
       " ('tools', 2),\n",
       " ('interview', 2),\n",
       " ('terms:', 2),\n",
       " ('pain', 2),\n",
       " ('contract', 2),\n",
       " ('baseball', 2),\n",
       " ('opinion', 2),\n",
       " ('revenue', 2),\n",
       " ('song', 2),\n",
       " ('busy', 2),\n",
       " ('drivers', 2),\n",
       " ('decision', 2),\n",
       " ('our', 2),\n",
       " ('anticipate', 2),\n",
       " ('center', 2),\n",
       " ('interactive', 2),\n",
       " ('platform', 2),\n",
       " ('optimal', 2),\n",
       " ('clever', 2),\n",
       " ('payment', 2),\n",
       " ('ai', 2),\n",
       " ('practice', 2),\n",
       " ('save', 2),\n",
       " ('worker', 2),\n",
       " ('successful', 2),\n",
       " ('fake', 2),\n",
       " ('breaking', 2),\n",
       " ('cost', 2),\n",
       " ('relationships', 2),\n",
       " ('mind', 2),\n",
       " ('late', 2),\n",
       " ('detector', 2),\n",
       " ('ml', 2),\n",
       " ('conditions', 2),\n",
       " ('nlp', 2),\n",
       " ('crash', 2),\n",
       " ('behavior', 2),\n",
       " ('skincare', 2),\n",
       " ('foundry:', 2),\n",
       " ('card', 2),\n",
       " ('building', 2),\n",
       " ('big', 2),\n",
       " ('demographics', 2),\n",
       " ('flex', 2),\n",
       " ('chat', 2),\n",
       " ('coders', 1),\n",
       " ('searcher:', 1),\n",
       " ('visualize', 1),\n",
       " ('mailbox', 1),\n",
       " ('timeline:', 1),\n",
       " ('grouped', 1),\n",
       " ('ranked', 1),\n",
       " ('frisk', 1),\n",
       " ('couchtube:', 1),\n",
       " ('tv', 1),\n",
       " ('schoolgeo:', 1),\n",
       " ('map:', 1),\n",
       " ('friends:', 1),\n",
       " ('checker', 1),\n",
       " ('time:', 1),\n",
       " ('airport', 1),\n",
       " ('arrival', 1),\n",
       " ('startrack:', 1),\n",
       " ('educators', 1),\n",
       " ('diverse', 1),\n",
       " ('volatility', 1),\n",
       " ('lower', 1),\n",
       " ('electricity', 1),\n",
       " ('rewindx:', 1),\n",
       " ('rediscover', 1),\n",
       " ('youth', 1),\n",
       " ('hiphopper:', 1),\n",
       " ('been', 1),\n",
       " ('missing', 1),\n",
       " ('routearoundcrime:', 1),\n",
       " ('mugged', 1),\n",
       " ('flockthink:', 1),\n",
       " ('now:', 1),\n",
       " ('scrapes', 1),\n",
       " ('rss', 1),\n",
       " ('feeds', 1),\n",
       " ('(cnn', 1),\n",
       " ('fox', 1),\n",
       " ('etc', 1),\n",
       " (')', 1),\n",
       " ('rxdiscovery:', 1),\n",
       " (\"fda's\", 1),\n",
       " ('adverse', 1),\n",
       " ('database', 1),\n",
       " ('common', 1),\n",
       " ('effects', 1),\n",
       " ('interactions', 1),\n",
       " ('bakesearch:', 1),\n",
       " ('baking', 1),\n",
       " ('readtweetapp:', 1),\n",
       " ('twinkedin:', 1),\n",
       " ('linkedin', 1),\n",
       " ('crimevis:', 1),\n",
       " ('oakland', 1),\n",
       " ('skillrankapp:', 1),\n",
       " ('dream', 1),\n",
       " ('serendipityengineapp:', 1),\n",
       " ('barkov', 1),\n",
       " ('chain:', 1),\n",
       " ('crunchbase', 1),\n",
       " ('silicon', 1),\n",
       " ('valley', 1),\n",
       " ('summer', 1),\n",
       " ('2012', 1),\n",
       " ('myfacebookdigest:', 1),\n",
       " ('missed', 1),\n",
       " ('facebook?', 1),\n",
       " ('neighbor', 1),\n",
       " ('connected:', 1),\n",
       " ('remember', 1),\n",
       " ('forget', 1),\n",
       " ('flixpixie:', 1),\n",
       " ('\"automagically\"', 1),\n",
       " ('sandwichly:', 1),\n",
       " ('sandwich', 1),\n",
       " ('personal:', 1),\n",
       " ('geojobr:', 1),\n",
       " ('economy', 1),\n",
       " ('dine', 1),\n",
       " ('amic', 1),\n",
       " ('food:', 1),\n",
       " ('dynamic', 1),\n",
       " ('gamechooser:', 1),\n",
       " ('viewing', 1),\n",
       " ('british', 1),\n",
       " ('columbia', 1),\n",
       " ('flop', 1),\n",
       " ('buster:', 1),\n",
       " ('office', 1),\n",
       " ('beaten', 1),\n",
       " ('path:', 1),\n",
       " ('gener', 1),\n",
       " ('rec:', 1),\n",
       " ('greed', 1),\n",
       " ('(at', 1),\n",
       " ('least', 1),\n",
       " ('engines)', 1),\n",
       " ('newstweet:', 1),\n",
       " ('happening', 1),\n",
       " ('anywhere', 1),\n",
       " ('sketchy:', 1),\n",
       " ('classifieds', 1),\n",
       " ('link:', 1),\n",
       " ('careers', 1),\n",
       " ('reddibility:', 1),\n",
       " (\"q's\", 1),\n",
       " (\"a's\", 1),\n",
       " ('none', 1),\n",
       " ('bs', 1),\n",
       " ('flava:', 1),\n",
       " ('flava', 1),\n",
       " ('sniffer:', 1),\n",
       " ('transform', 1),\n",
       " ('gut', 1),\n",
       " ('nutube:', 1),\n",
       " ('recent', 1),\n",
       " ('reviewskimmer:', 1),\n",
       " ('late!', 1),\n",
       " ('inspectorgit:', 1),\n",
       " (\"github's\", 1),\n",
       " ('repositories', 1),\n",
       " ('placepickr:', 1),\n",
       " ('first:', 1),\n",
       " (\"baseball's\", 1),\n",
       " ('batter', 1),\n",
       " ('pitcher', 1),\n",
       " ('matchups', 1),\n",
       " ('dinnerdetente:', 1),\n",
       " ('strained', 1),\n",
       " ('delicious', 1),\n",
       " ('dealspotter:', 1),\n",
       " ('rare', 1),\n",
       " ('parksafely:', 1),\n",
       " ('bicycling', 1),\n",
       " ('francisco?', 1),\n",
       " ('theft', 1),\n",
       " ('likely', 1),\n",
       " ('tweather:', 1),\n",
       " ('current', 1),\n",
       " ('beerinsight:', 1),\n",
       " ('exploration', 1),\n",
       " ('obscure', 1),\n",
       " ('craft', 1),\n",
       " ('topofthestack:', 1),\n",
       " ('answer', 1),\n",
       " ('hypecontrol:', 1),\n",
       " ('predictmylineup:', 1),\n",
       " ('lineup', 1),\n",
       " ('hothoods:', 1),\n",
       " ('housing', 1),\n",
       " ('bargainmeal:', 1),\n",
       " ('top', 1),\n",
       " ('rated', 1),\n",
       " ('not!', 1),\n",
       " ('hummingbirds:', 1),\n",
       " ('getting', 1),\n",
       " ('latest', 1),\n",
       " ('amazoncomparer:', 1),\n",
       " ('short', 1),\n",
       " ('sweet', 1),\n",
       " ('thisplusthat:', 1),\n",
       " ('amazing', 1),\n",
       " ('conceptual', 1),\n",
       " ('popularnow:', 1),\n",
       " ('now!', 1),\n",
       " ('dailyfaces:', 1),\n",
       " ('euroute', 1),\n",
       " ('europe', 1),\n",
       " ('trip!', 1),\n",
       " ('oldfavenewplace:', 1),\n",
       " ('similar', 1),\n",
       " ('different', 1),\n",
       " ('newsspectra:', 1),\n",
       " ('friend:', 1),\n",
       " ('friends/collaborators', 1),\n",
       " ('crowdminr:', 1),\n",
       " ('onlocation:', 1),\n",
       " ('movies', 1),\n",
       " ('were', 1),\n",
       " ('filmed', 1),\n",
       " ('whatgives:', 1),\n",
       " ('forecastingtomatoes:', 1),\n",
       " ('received', 1),\n",
       " ('linkedinsight:', 1),\n",
       " ('investwiser:', 1),\n",
       " ('crunch', 1),\n",
       " ('outcome', 1),\n",
       " ('newsline:', 1),\n",
       " ('timeline', 1),\n",
       " ('provides', 1),\n",
       " ('context', 1),\n",
       " ('li:', 1),\n",
       " ('happily', 1),\n",
       " ('ever', 1),\n",
       " ('after', 1),\n",
       " ('farebeast:', 1),\n",
       " ('prowl', 1),\n",
       " ('lowest', 1),\n",
       " ('airfares', 1),\n",
       " ('pickyourfiction:', 1),\n",
       " ('love!', 1),\n",
       " ('dj', 1),\n",
       " ('cloud:', 1),\n",
       " ('albums', 1),\n",
       " ('cloud', 1),\n",
       " ('computing', 1),\n",
       " ('two', 1),\n",
       " ('lu:', 1),\n",
       " ('two!', 1),\n",
       " ('dogwalkscore:', 1),\n",
       " ('beehealthy:', 1),\n",
       " ('join', 1),\n",
       " ('healthy!', 1),\n",
       " ('$trategy:', 1),\n",
       " ('notifications', 1),\n",
       " ('buy/sell', 1),\n",
       " ('kickfinder:', 1),\n",
       " ('kickstart', 1),\n",
       " ('relaxedparking:', 1),\n",
       " ('crimes', 1),\n",
       " ('groupdine:', 1),\n",
       " ('burstingthebubble:', 1),\n",
       " ('outside', 1),\n",
       " ('wikiphilia:', 1),\n",
       " ('page', 1),\n",
       " ('healthimpact:', 1),\n",
       " ('expediting', 1),\n",
       " ('those', 1),\n",
       " ('edxpredictor:', 1),\n",
       " ('edx', 1),\n",
       " ('streetsahead:', 1),\n",
       " ('recognition', 1),\n",
       " ('jaunt:', 1),\n",
       " ('along', 1),\n",
       " ('way!', 1),\n",
       " ('charityverity:', 1),\n",
       " ('charity', 1),\n",
       " ('effective', 1),\n",
       " ('altruism', 1),\n",
       " ('crowdskippr:', 1),\n",
       " ('minimize', 1),\n",
       " ('crowds', 1),\n",
       " ('rxfx:', 1),\n",
       " ('prescription', 1),\n",
       " ('effect', 1),\n",
       " ('stackexpert:', 1),\n",
       " ('lenderstanding:', 1),\n",
       " ('highest', 1),\n",
       " ('furniture', 1),\n",
       " ('items', 1),\n",
       " ('cluster', 1),\n",
       " ('pluck:', 1),\n",
       " ('disambiguating', 1),\n",
       " ('steal', 1),\n",
       " ('house!:', 1),\n",
       " (\"doesn't\", 1),\n",
       " (\"'cept\", 1),\n",
       " ('bottom', 1),\n",
       " ('line!', 1),\n",
       " ('tapmapper:', 1),\n",
       " ('drinking/tweeting', 1),\n",
       " ('amazonexplorer', 1),\n",
       " ('info:', 1),\n",
       " ('deeper', 1),\n",
       " ('look', 1),\n",
       " ('green', 1),\n",
       " ('removing', 1),\n",
       " ('barrier', 1),\n",
       " ('energy', 1),\n",
       " ('discover:', 1),\n",
       " ('unlock', 1),\n",
       " ('go?:', 1),\n",
       " ('crowdfunding', 1),\n",
       " ('drugscope:', 1),\n",
       " ('scope', 1),\n",
       " ('medicine', 1),\n",
       " ('taking', 1),\n",
       " ('dinner', 1),\n",
       " ('nutrition', 1),\n",
       " ('goals', 1),\n",
       " ('adnet:', 1),\n",
       " ('domains', 1),\n",
       " ...]"
      ]
     },
     "execution_count": 608,
     "metadata": {},
     "output_type": "execute_result"
    }
   ],
   "source": [
    "# output a list of word count pairs (sorted from highest to lowest)\n",
    "Counter(word_list).most_common()"
   ]
  },
  {
   "cell_type": "markdown",
   "metadata": {},
   "source": [
    "Based on the list of the most common words (and ignoring the first 20 or so which are basically stopwords) we can now explore the content of the projects that we are interested using keywords:"
   ]
  },
  {
   "cell_type": "code",
   "execution_count": 13,
   "metadata": {},
   "outputs": [],
   "source": [
    "def show_projects_using_keyword(keyword):\n",
    "    print(insight['project'][insight['project'].str.contains(keyword)])"
   ]
  },
  {
   "cell_type": "code",
   "execution_count": 16,
   "metadata": {
    "scrolled": false
   },
   "outputs": [
    {
     "name": "stdout",
     "output_type": "stream",
     "text": [
      "7                                                                    CouchTube: YouTube TV shows in one click\n",
      "52                                                                 NuTube: Classifying recent YouTube videos \n",
      "327    YouTube Matchmaker: Recommending Youtube channels with the same \"IT\" factor, using community detection\n",
      "525                                               AboutFace: Identifying and tracking faces in YouTube videos\n",
      "692                                                 BrandID: Detecting and identifying YouTube video sponsors\n",
      "Name: project, dtype: object\n"
     ]
    }
   ],
   "source": [
    "show_projects_using_keyword('YouTube')"
   ]
  },
  {
   "cell_type": "code",
   "execution_count": 746,
   "metadata": {},
   "outputs": [
    {
     "name": "stdout",
     "output_type": "stream",
     "text": [
      "100        StreetsAhead: Image recognition with deep learning in Street View\n",
      "700    SignWrite: Transcribing sign language with the power of deep learning\n",
      "771                   Pic My Plant: Growing a garden rooted in deep learning\n",
      "Name: project, dtype: object\n"
     ]
    }
   ],
   "source": [
    "show_projects_using_keyword('deep learning')"
   ]
  },
  {
   "cell_type": "markdown",
   "metadata": {},
   "source": [
    "# Conclusion:\n",
    "\n",
    "This is a brief quick exploratory analysis of the INSIGHT Data Fellows - what background they have, where they come from, what projects they worked on and where they got jobs. One can test lots of hypothesis as the next step.\n",
    "\n",
    "There are also other insteresting things to do & explore with the INSIGHT Fellowship:\n",
    " - The program has also other tracks besides Data Science like AI, Data Eng, Data PM, etc (see https://www.insightdatascience.com/fellows for the full list). like scraping all of the INSIGHT Fellows and check if there are different patterns compared to the DS track. \n",
    " \n",
    " \n",
    " - Tracing the fellows on LinkedIn and checking how they are doing now - i.e. measuring the impact of the program. Are they still in DS? Do they change companies often? Do they hold senior positions now? etc.\n",
    " \n",
    " "
   ]
  },
  {
   "cell_type": "markdown",
   "metadata": {},
   "source": [
    "# References:\n",
    "\n",
    "INSIGHT Fellowship: https://www.insightdatascience.com/fellows\n",
    "\n",
    "bradmontgomery/ShortIntroToScraping.rst, https://gist.github.com/bradmontgomery/1872970 (last access: 4/21/2019)\n",
    "\n",
    "\n",
    "Michael Galarnyk: Python Word Count (Filter out Punctuation, Dictionary Manipulation, and Sorting Lists),\n",
    "https://codeburst.io/python-basics-11-word-count-filter-out-punctuation-dictionary-manipulation-and-sorting-lists-3f6c55420855 (last access: 4/21/2019)\n",
    "\n",
    "Duong Vu: Generating WordClouds in Python, https://www.datacamp.com/community/tutorials/wordcloud-python (last access: 4/21/2019)"
   ]
  }
 ],
 "metadata": {
  "kernelspec": {
   "display_name": "Python 3",
   "language": "python",
   "name": "python3"
  },
  "language_info": {
   "codemirror_mode": {
    "name": "ipython",
    "version": 3
   },
   "file_extension": ".py",
   "mimetype": "text/x-python",
   "name": "python",
   "nbconvert_exporter": "python",
   "pygments_lexer": "ipython3",
   "version": "3.7.2"
  }
 },
 "nbformat": 4,
 "nbformat_minor": 2
}
