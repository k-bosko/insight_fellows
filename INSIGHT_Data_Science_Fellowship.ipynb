{
 "cells": [
  {
   "cell_type": "markdown",
   "metadata": {},
   "source": [
    "# INSIGHT DATA SCIENCE FELLOWS"
   ]
  },
  {
   "cell_type": "markdown",
   "metadata": {},
   "source": [
    "**The INSIGHT Data Science Fellows Program** is very competitive fellowship targeted at academics from the top universities. It helps recent PhDs and Postdocs to find a prestigious job as data scientists in the industry. \n",
    "\n",
    "\n",
    "I was really curious about **who are these top 'quants'**. So I scraped the data from the INSIGHT website and did some quick EDA. Here's my script:"
   ]
  },
  {
   "cell_type": "code",
   "execution_count": 1,
   "metadata": {},
   "outputs": [],
   "source": [
    "from bs4 import BeautifulSoup\n",
    "import requests\n",
    "\n",
    "import pandas as pd\n",
    "import numpy as np\n",
    "import json\n",
    "\n",
    "import seaborn as sns\n",
    "import matplotlib.pyplot as plt\n",
    "\n",
    "import scipy.stats as stats\n",
    "\n",
    "from wordcloud import WordCloud, STOPWORDS\n",
    "from collections import Counter\n",
    "\n",
    "%matplotlib inline"
   ]
  },
  {
   "cell_type": "markdown",
   "metadata": {},
   "source": [
    "# PART 1.1: Scraping Data"
   ]
  },
  {
   "cell_type": "code",
   "execution_count": 2,
   "metadata": {},
   "outputs": [],
   "source": [
    "project = []\n",
    "company = []\n",
    "position = []\n",
    "background = []\n",
    "name = []"
   ]
  },
  {
   "cell_type": "code",
   "execution_count": 3,
   "metadata": {},
   "outputs": [
    {
     "name": "stdout",
     "output_type": "stream",
     "text": [
      "fill scrap - https://www.insightdatascience.com/fellows?61ea5d1b_page=1\n",
      "200\n",
      "Measuring the Impact of Open Source Coders on Github\n",
      "fill scrap - https://www.insightdatascience.com/fellows?61ea5d1b_page=2\n",
      "200\n",
      "StreetsAhead: Image recognition with deep learning in Street View\n",
      "fill scrap - https://www.insightdatascience.com/fellows?61ea5d1b_page=3\n",
      "200\n",
      "ATHOS gear: Logging your workout with wearable EMG techology\n",
      "fill scrap - https://www.insightdatascience.com/fellows?61ea5d1b_page=4\n",
      "200\n",
      "GoodReviews: Deliver the most useful positive and negative book reviews\n",
      "fill scrap - https://www.insightdatascience.com/fellows?61ea5d1b_page=5\n",
      "200\n",
      "DealWheels: Used Cars Online-Great deal?\n",
      "fill scrap - https://www.insightdatascience.com/fellows?61ea5d1b_page=6\n",
      "200\n",
      "L' Tron - CTA: A Friendly Bot with an Eye on Chicago's 'L'\n",
      "fill scrap - https://www.insightdatascience.com/fellows?61ea5d1b_page=7\n",
      "200\n",
      "Fleetr\n",
      "fill scrap - https://www.insightdatascience.com/fellows?61ea5d1b_page=8\n",
      "200\n",
      "SignWrite: Transcribing sign language with the power of deep learning\n"
     ]
    }
   ],
   "source": [
    "url = 'https://www.insightdatascience.com/fellows?61ea5d1b_page=%s'\n",
    "for idx in range(1, 9):\n",
    "    print(f'fill scrap - {url % idx}')\n",
    "    result = requests.get(url % idx)\n",
    "    content = result.content\n",
    "    \n",
    "    soup = BeautifulSoup(content)\n",
    "    project_per_page = [x.get_text() for x in soup.find_all(\"div\", \"tooltip_project\")]\n",
    "    project.extend(project_per_page)\n",
    "    company.extend([x.get_text() for x in soup.find_all(\"div\", \"tooltip_company\")])\n",
    "    position.extend([x.get_text() for x in soup.find_all(\"div\", \"toottip_title\")])\n",
    "    name.extend([x.get_text() for x in soup.find_all(\"div\", \"tooltip_name\")])\n",
    "    background.extend([x.get_text() for x in soup.find_all(\"div\", \"tooltip_background\")])\n",
    "    \n",
    "    print(result.status_code)\n",
    "    print(project_per_page[0])"
   ]
  },
  {
   "cell_type": "code",
   "execution_count": 4,
   "metadata": {},
   "outputs": [],
   "source": [
    "# create tuples out of 4 features\n",
    "zipped = np.array(list(zip(name, company, project, position, background)))"
   ]
  },
  {
   "cell_type": "code",
   "execution_count": 5,
   "metadata": {},
   "outputs": [],
   "source": [
    "insight = pd.DataFrame(np.array(zipped), columns=['name', 'company', 'project', 'position', 'background'])"
   ]
  },
  {
   "cell_type": "code",
   "execution_count": 6,
   "metadata": {},
   "outputs": [
    {
     "data": {
      "text/html": [
       "<div>\n",
       "<style scoped>\n",
       "    .dataframe tbody tr th:only-of-type {\n",
       "        vertical-align: middle;\n",
       "    }\n",
       "\n",
       "    .dataframe tbody tr th {\n",
       "        vertical-align: top;\n",
       "    }\n",
       "\n",
       "    .dataframe thead th {\n",
       "        text-align: right;\n",
       "    }\n",
       "</style>\n",
       "<table border=\"1\" class=\"dataframe\">\n",
       "  <thead>\n",
       "    <tr style=\"text-align: right;\">\n",
       "      <th></th>\n",
       "      <th>name</th>\n",
       "      <th>company</th>\n",
       "      <th>project</th>\n",
       "      <th>position</th>\n",
       "      <th>background</th>\n",
       "    </tr>\n",
       "  </thead>\n",
       "  <tbody>\n",
       "    <tr>\n",
       "      <th>0</th>\n",
       "      <td>JP Bida</td>\n",
       "      <td>Capital One</td>\n",
       "      <td>Measuring the Impact of Open Source Coders on ...</td>\n",
       "      <td>Director of Risk</td>\n",
       "      <td>Bio-X Games, Stanford, Postdoc</td>\n",
       "    </tr>\n",
       "    <tr>\n",
       "      <th>1</th>\n",
       "      <td>Douglas Mason</td>\n",
       "      <td>Twitter</td>\n",
       "      <td>Email Searcher: Search &amp; Visualize Your Mailbox</td>\n",
       "      <td>Data Scientist</td>\n",
       "      <td>Physics, Harvard University, PhD\\n</td>\n",
       "    </tr>\n",
       "    <tr>\n",
       "      <th>2</th>\n",
       "      <td>Virot Ta Chiraphadhanakul</td>\n",
       "      <td>Facebook</td>\n",
       "      <td>Tweet Timeline: Visualizing the Impact of Soci...</td>\n",
       "      <td>Data Scientist</td>\n",
       "      <td>Operations Research, MIT, PhD</td>\n",
       "    </tr>\n",
       "    <tr>\n",
       "      <th>3</th>\n",
       "      <td>Julia Viladomat</td>\n",
       "      <td>Adobe</td>\n",
       "      <td>Sentiment Analysis Based on Social Media</td>\n",
       "      <td>Data Scientist</td>\n",
       "      <td>Statistics, Stanford, Postdoc</td>\n",
       "    </tr>\n",
       "    <tr>\n",
       "      <th>4</th>\n",
       "      <td>David Freeman</td>\n",
       "      <td>LinkedIn</td>\n",
       "      <td>Flight Delay Predictor</td>\n",
       "      <td>Head of Anti-Abuse Engineering</td>\n",
       "      <td>Mathematics, Stanford, Postdoc</td>\n",
       "    </tr>\n",
       "  </tbody>\n",
       "</table>\n",
       "</div>"
      ],
      "text/plain": [
       "                        name      company  \\\n",
       "0                    JP Bida  Capital One   \n",
       "1              Douglas Mason      Twitter   \n",
       "2  Virot Ta Chiraphadhanakul     Facebook   \n",
       "3            Julia Viladomat        Adobe   \n",
       "4              David Freeman     LinkedIn   \n",
       "\n",
       "                                             project  \\\n",
       "0  Measuring the Impact of Open Source Coders on ...   \n",
       "1    Email Searcher: Search & Visualize Your Mailbox   \n",
       "2  Tweet Timeline: Visualizing the Impact of Soci...   \n",
       "3           Sentiment Analysis Based on Social Media   \n",
       "4                             Flight Delay Predictor   \n",
       "\n",
       "                         position                          background  \n",
       "0                Director of Risk      Bio-X Games, Stanford, Postdoc  \n",
       "1                  Data Scientist  Physics, Harvard University, PhD\\n  \n",
       "2                  Data Scientist       Operations Research, MIT, PhD  \n",
       "3                  Data Scientist       Statistics, Stanford, Postdoc  \n",
       "4  Head of Anti-Abuse Engineering      Mathematics, Stanford, Postdoc  "
      ]
     },
     "execution_count": 6,
     "metadata": {},
     "output_type": "execute_result"
    }
   ],
   "source": [
    "insight.head()"
   ]
  },
  {
   "cell_type": "code",
   "execution_count": 7,
   "metadata": {},
   "outputs": [
    {
     "data": {
      "text/plain": [
       "(794, 5)"
      ]
     },
     "execution_count": 7,
     "metadata": {},
     "output_type": "execute_result"
    }
   ],
   "source": [
    "insight.shape"
   ]
  },
  {
   "cell_type": "markdown",
   "metadata": {},
   "source": [
    "# PART 1.2: CLEANING"
   ]
  },
  {
   "cell_type": "markdown",
   "metadata": {},
   "source": [
    "Some company names were parsed incorrectly. I created json file with correct codes:"
   ]
  },
  {
   "cell_type": "code",
   "execution_count": 8,
   "metadata": {},
   "outputs": [],
   "source": [
    "with open('assets/company_codes_correct.json', 'r+') as file:\n",
    "    company_codes = json.load(file)"
   ]
  },
  {
   "cell_type": "code",
   "execution_count": 9,
   "metadata": {},
   "outputs": [],
   "source": [
    "insight['company'] = insight['company'].replace(company_codes)"
   ]
  },
  {
   "cell_type": "markdown",
   "metadata": {},
   "source": [
    "Adding the new features 'University', 'Field', 'Postdoc' extracted from Background:"
   ]
  },
  {
   "cell_type": "code",
   "execution_count": 242,
   "metadata": {},
   "outputs": [
    {
     "name": "stdout",
     "output_type": "stream",
     "text": [
      "['Behavioral Economics', 'ECARES', 'ULB', 'Postdoc']\n",
      "['Biomedical Engineering', 'Georgia Tech', 'Emory University', 'PhD']\n"
     ]
    }
   ],
   "source": [
    "insight_clean = insight.iloc[:, :]\n",
    "insight_clean['status'] = 0\n",
    "insight_clean['university'] = 0\n",
    "insight_clean['field'] = 0\n",
    "\n",
    "for i in range(insight['background'].shape[0]):\n",
    "    \n",
    "    #correcting all Postdoct\n",
    "    if insight_clean['background'].iloc[i][-8:] == 'Postdoct':\n",
    "        insight_clean['background'].iloc[i] = insight_clean['background'].iloc[i][:-1]\n",
    "\n",
    "    if 'Ph.D.' in insight['background'].iloc[i]:\n",
    "        #print(insight['background'].iloc[i])\n",
    "        insight['background'].iloc[i] = insight['background'].iloc[i].replace('Ph.D.', 'PhD')\n",
    "    \n",
    "    if 'DPhil' in insight['background'].iloc[i]:\n",
    "        #print(insight['background'].iloc[i])\n",
    "        insight['background'].iloc[i] = insight['background'].iloc[i].replace('DPhil', 'PhD')\n",
    "    \n",
    "    if insight['background'].iloc[i][-4:] == ' PhD':\n",
    "        insight['background'].iloc[i] = insight['background'].iloc[i].replace(' PhD', ', PhD')\n",
    "    \n",
    "    if insight['background'].iloc[i][-8:] == ' Postdoc':\n",
    "        insight['background'].iloc[i] = insight['background'].iloc[i].replace(' Postdoc', ', Postdoc')\n",
    "        \n",
    "    # trailing ',' at the beginning of background \n",
    "    if insight_clean['background'].iloc[i][0] == ',':\n",
    "        #print(insight_clean['background'].iloc[i])\n",
    "        insight_clean['background'].iloc[i] = insight_clean['background'].iloc[i][1:]\n",
    "\n",
    "     # trailing ',' at the end of background     \n",
    "    if insight_clean['background'].iloc[i][-1] == ',':\n",
    "        #print(insight_clean['background'].iloc[i])\n",
    "        insight_clean['background'].iloc[i] = insight_clean['background'].iloc[i][:-1]\n",
    "    \n",
    "    #replacing badly parsed tags\n",
    "    insight_clean['background'].iloc[i] = insight['background'].iloc[i].replace(',,', ',').replace('\\n', '')\n",
    "    insight_clean['background'].iloc[i] = insight['background'].iloc[i].replace('\\xa0', ',').replace('<br>', ',')\n",
    "\n",
    "    if \".University\" in insight['background'].iloc[i]:\n",
    "        insight['background'].iloc[i] = insight['background'].iloc[i].replace(\".\", \",\")\n",
    "    \n",
    "    #splitting by ','\n",
    "    bckgr2 = [x.strip() for x in insight['background'].iloc[i].split(',')]\n",
    "\n",
    "    if bckgr2[-1] in ['Postdoc', 'PhD']:\n",
    "        insight_clean['status'].iloc[i] = bckgr2[-1]       \n",
    "    else:\n",
    "        #for those that are neither Postdoc, nor Phd (working professionals, PhD Candidate, ABD, B.Math as 'Other'\n",
    "        insight_clean['status'].iloc[i] = 'Other'\n",
    "    \n",
    "    # !add no uni and field for those with Other status\n",
    "    if insight_clean['status'].iloc[i] == 'Other':\n",
    "        insight_clean['university'].iloc[i] = ''\n",
    "        insight_clean['field'].iloc[i] = ''\n",
    "    \n",
    "    #the correct split pattern should produce 3 features - field, university, status. Checking for <3 and >3 as well\n",
    "    if len(bckgr2) < 3:            \n",
    "        if all(u_s in bckgr2[-1] for u_s in ['University', 'PhD']):\n",
    "            insight_clean['status'].iloc[i] = 'PhD'\n",
    "            insight_clean['university'].iloc[i] = bckgr2[-1][0:-3].strip()\n",
    "        if all(u_s in bckgr2[-1] for u_s in ['University', 'Postdoc']):\n",
    "            insight_clean['status'].iloc[i] = 'Postdoc'\n",
    "            insight_clean['university'].iloc[i] = bckgr2[-1][0:-7].strip()\n",
    "    \n",
    "    elif (len(bckgr2) == 3):\n",
    "        if (insight_clean['status'].iloc[i] != 'Other'):\n",
    "            insight_clean['university'].iloc[i] = bckgr2[-2]\n",
    "            insight_clean['field'].iloc[i] = bckgr2[0]\n",
    "                  \n",
    "    elif len(bckgr2) > 3:\n",
    "        if bckgr2[-3] in [\"University of California\", \"University of Illinois\", \"University of Texas\",\n",
    "                          \"University of Maryland\", \"University of Colorado\"]:\n",
    "            insight_clean['university'].iloc[i] = \" - \".join(bckgr2[-3:-1])\n",
    "            insight_clean['field'].iloc[i] = bckgr2[0]\n",
    "        elif any(univ in bckgr2[-3] for univ in ['Institute', 'Istitut', 'University', 'Academia']):\n",
    "            insight_clean['university'].iloc[i] = \" - \".join(bckgr2[-3:-1])\n",
    "            insight_clean['field'].iloc[i] = bckgr2[0]\n",
    "        elif any(univ in bckgr2[-4] for univ in ['Institute', 'Istitut', 'University', 'Academia']):\n",
    "            #print(bckgr2)\n",
    "            insight_clean['university'].iloc[i] = \" - \".join(bckgr2[-4:-1])\n",
    "            insight_clean['field'].iloc[i] = bckgr2[0]\n",
    "        elif any(f in bckgr2[1].lower() for f in ['chemistry', 'physics', 'neural', 'engineering', 'medical']):\n",
    "            #print(bckgr2)\n",
    "            insight_clean['field'].iloc[i] = \" \".join(bckgr2[:2])\n",
    "            insight_clean['university'].iloc[i] = bckgr2[-2]\n",
    "        elif (insight_clean['status'].iloc[i] != 'Other'):\n",
    "            #check with print(bckgr2) if the rest bckgr2 can be attributed to university \n",
    "            print(bckgr2)\n",
    "            insight_clean['university'].iloc[i] = \" - \".join(bckgr2[-3:-1])    \n",
    "            insight_clean['field'].iloc[i] = bckgr2[0]"
   ]
  },
  {
   "cell_type": "code",
   "execution_count": 243,
   "metadata": {},
   "outputs": [
    {
     "data": {
      "text/html": [
       "<div>\n",
       "<style scoped>\n",
       "    .dataframe tbody tr th:only-of-type {\n",
       "        vertical-align: middle;\n",
       "    }\n",
       "\n",
       "    .dataframe tbody tr th {\n",
       "        vertical-align: top;\n",
       "    }\n",
       "\n",
       "    .dataframe thead th {\n",
       "        text-align: right;\n",
       "    }\n",
       "</style>\n",
       "<table border=\"1\" class=\"dataframe\">\n",
       "  <thead>\n",
       "    <tr style=\"text-align: right;\">\n",
       "      <th></th>\n",
       "      <th>name</th>\n",
       "      <th>company</th>\n",
       "      <th>project</th>\n",
       "      <th>position</th>\n",
       "      <th>background</th>\n",
       "      <th>status</th>\n",
       "      <th>university</th>\n",
       "      <th>field</th>\n",
       "    </tr>\n",
       "  </thead>\n",
       "  <tbody>\n",
       "    <tr>\n",
       "      <th>0</th>\n",
       "      <td>JP Bida</td>\n",
       "      <td>Capital One</td>\n",
       "      <td>Measuring the Impact of Open Source Coders on ...</td>\n",
       "      <td>Director of Risk</td>\n",
       "      <td>Bio-X Games, Stanford, Postdoc</td>\n",
       "      <td>Postdoc</td>\n",
       "      <td>Stanford</td>\n",
       "      <td>Bio-X Games</td>\n",
       "    </tr>\n",
       "    <tr>\n",
       "      <th>1</th>\n",
       "      <td>Douglas Mason</td>\n",
       "      <td>Twitter</td>\n",
       "      <td>Email Searcher: Search &amp; Visualize Your Mailbox</td>\n",
       "      <td>Data Scientist</td>\n",
       "      <td>Physics, Harvard University,PhD</td>\n",
       "      <td>PhD</td>\n",
       "      <td>Harvard University</td>\n",
       "      <td>Physics</td>\n",
       "    </tr>\n",
       "    <tr>\n",
       "      <th>2</th>\n",
       "      <td>Virot Ta Chiraphadhanakul</td>\n",
       "      <td>Facebook</td>\n",
       "      <td>Tweet Timeline: Visualizing the Impact of Soci...</td>\n",
       "      <td>Data Scientist</td>\n",
       "      <td>Operations Research, MIT, PhD</td>\n",
       "      <td>PhD</td>\n",
       "      <td>MIT</td>\n",
       "      <td>Operations Research</td>\n",
       "    </tr>\n",
       "    <tr>\n",
       "      <th>3</th>\n",
       "      <td>Julia Viladomat</td>\n",
       "      <td>Adobe</td>\n",
       "      <td>Sentiment Analysis Based on Social Media</td>\n",
       "      <td>Data Scientist</td>\n",
       "      <td>Statistics, Stanford, Postdoc</td>\n",
       "      <td>Postdoc</td>\n",
       "      <td>Stanford</td>\n",
       "      <td>Statistics</td>\n",
       "    </tr>\n",
       "    <tr>\n",
       "      <th>4</th>\n",
       "      <td>David Freeman</td>\n",
       "      <td>LinkedIn</td>\n",
       "      <td>Flight Delay Predictor</td>\n",
       "      <td>Head of Anti-Abuse Engineering</td>\n",
       "      <td>Mathematics, Stanford, Postdoc</td>\n",
       "      <td>Postdoc</td>\n",
       "      <td>Stanford</td>\n",
       "      <td>Mathematics</td>\n",
       "    </tr>\n",
       "  </tbody>\n",
       "</table>\n",
       "</div>"
      ],
      "text/plain": [
       "                        name      company  \\\n",
       "0                    JP Bida  Capital One   \n",
       "1              Douglas Mason      Twitter   \n",
       "2  Virot Ta Chiraphadhanakul     Facebook   \n",
       "3            Julia Viladomat        Adobe   \n",
       "4              David Freeman     LinkedIn   \n",
       "\n",
       "                                             project  \\\n",
       "0  Measuring the Impact of Open Source Coders on ...   \n",
       "1    Email Searcher: Search & Visualize Your Mailbox   \n",
       "2  Tweet Timeline: Visualizing the Impact of Soci...   \n",
       "3           Sentiment Analysis Based on Social Media   \n",
       "4                             Flight Delay Predictor   \n",
       "\n",
       "                         position                       background   status  \\\n",
       "0                Director of Risk   Bio-X Games, Stanford, Postdoc  Postdoc   \n",
       "1                  Data Scientist  Physics, Harvard University,PhD      PhD   \n",
       "2                  Data Scientist    Operations Research, MIT, PhD      PhD   \n",
       "3                  Data Scientist    Statistics, Stanford, Postdoc  Postdoc   \n",
       "4  Head of Anti-Abuse Engineering   Mathematics, Stanford, Postdoc  Postdoc   \n",
       "\n",
       "           university                field  \n",
       "0            Stanford          Bio-X Games  \n",
       "1  Harvard University              Physics  \n",
       "2                 MIT  Operations Research  \n",
       "3            Stanford           Statistics  \n",
       "4            Stanford          Mathematics  "
      ]
     },
     "execution_count": 243,
     "metadata": {},
     "output_type": "execute_result"
    }
   ],
   "source": [
    "insight_clean.head()"
   ]
  },
  {
   "cell_type": "markdown",
   "metadata": {},
   "source": [
    "Checking if we attributed all values correctly:"
   ]
  },
  {
   "cell_type": "code",
   "execution_count": 244,
   "metadata": {},
   "outputs": [
    {
     "name": "stdout",
     "output_type": "stream",
     "text": [
      "Harvard-Smithsonian Center for Astrophysics, Postdoc\n",
      "Observational Astronomy, PhD\n",
      "ArtPricer: Sell it already!\n",
      "Astrophysics,University of Minnesota, Postdoc\n",
      "Cornell University, PhD\n"
     ]
    }
   ],
   "source": [
    "#manual attribution for individual cases if they are Postdoc or PhD\n",
    "print(insight_clean.loc[266, 'background'])\n",
    "insight_clean.loc[266, 'university'] = 'Harvard'\n",
    "insight_clean.loc[266, 'field'] = 'Astrophysics'\n",
    "\n",
    "print(insight_clean.loc[363, 'background'])\n",
    "insight_clean.loc[363, 'university'] = ''\n",
    "insight_clean.loc[363, 'field'] = 'Astronomy'\n",
    "\n",
    "print(insight_clean.loc[765, 'background'])\n",
    "insight_clean.loc[765, 'background'] = insight_clean.loc[765, 'project']\n",
    "insight_clean.loc[765, 'project'] = 'ArtPricer: Sell it already!'\n",
    "insight_clean.loc[765, 'university'] = 'Stanford University'\n",
    "insight_clean.loc[765, 'field'] = 'Evolutionary Biology'\n",
    "insight_clean.loc[765, 'status'] = 'Postdoc' \n",
    "\n",
    "print(insight_clean.loc[525, 'background'])\n",
    "insight_clean.loc[525, 'university'] = 'University of Minnesota'\n",
    "insight_clean.loc[525, 'field'] = 'Astrophysics'\n",
    "\n",
    "print(insight_clean.loc[699, 'background'])\n",
    "insight_clean.loc[699, 'university'] = 'Cornell University'\n",
    "insight_clean.loc[699, 'field'] = ''"
   ]
  },
  {
   "cell_type": "code",
   "execution_count": 245,
   "metadata": {},
   "outputs": [
    {
     "name": "stdout",
     "output_type": "stream",
     "text": [
      "all tests passed!\n"
     ]
    }
   ],
   "source": [
    "#checking if we have attributed all values and there are no data with 0s\n",
    "assert len(insight_clean[insight_clean['status'] == 0]) == 0, \"Oops! We have few values with 0s left!\"\n",
    "assert len(insight_clean[insight_clean['university'] == 0]) == 0, \"Oops! We have few values with 0s left in university column!\"\n",
    "assert len(insight_clean[insight_clean['field'] == 0]) == 0, \"Oops! We have few values with 0s left in field column!\"\n",
    "print(\"all tests passed!\")"
   ]
  },
  {
   "cell_type": "markdown",
   "metadata": {},
   "source": [
    "Some uni names were parsed incorrectly. I created json file with correct codes:"
   ]
  },
  {
   "cell_type": "code",
   "execution_count": 246,
   "metadata": {},
   "outputs": [],
   "source": [
    "with open('assets/university_codes_correct.json', 'r+') as file:\n",
    "    uni_codes = json.load(file)"
   ]
  },
  {
   "cell_type": "code",
   "execution_count": 247,
   "metadata": {},
   "outputs": [],
   "source": [
    "insight['university'] = insight['university'].replace(uni_codes)"
   ]
  },
  {
   "cell_type": "code",
   "execution_count": 248,
   "metadata": {},
   "outputs": [
    {
     "data": {
      "text/html": [
       "<div>\n",
       "<style scoped>\n",
       "    .dataframe tbody tr th:only-of-type {\n",
       "        vertical-align: middle;\n",
       "    }\n",
       "\n",
       "    .dataframe tbody tr th {\n",
       "        vertical-align: top;\n",
       "    }\n",
       "\n",
       "    .dataframe thead th {\n",
       "        text-align: right;\n",
       "    }\n",
       "</style>\n",
       "<table border=\"1\" class=\"dataframe\">\n",
       "  <thead>\n",
       "    <tr style=\"text-align: right;\">\n",
       "      <th></th>\n",
       "      <th>name</th>\n",
       "      <th>company</th>\n",
       "      <th>project</th>\n",
       "      <th>position</th>\n",
       "      <th>background</th>\n",
       "      <th>status</th>\n",
       "      <th>university</th>\n",
       "      <th>field</th>\n",
       "    </tr>\n",
       "  </thead>\n",
       "  <tbody>\n",
       "    <tr>\n",
       "      <th>0</th>\n",
       "      <td>JP Bida</td>\n",
       "      <td>Capital One</td>\n",
       "      <td>Measuring the Impact of Open Source Coders on ...</td>\n",
       "      <td>Director of Risk</td>\n",
       "      <td>Bio-X Games, Stanford, Postdoc</td>\n",
       "      <td>Postdoc</td>\n",
       "      <td>Stanford</td>\n",
       "      <td>Bio-X Games</td>\n",
       "    </tr>\n",
       "    <tr>\n",
       "      <th>1</th>\n",
       "      <td>Douglas Mason</td>\n",
       "      <td>Twitter</td>\n",
       "      <td>Email Searcher: Search &amp; Visualize Your Mailbox</td>\n",
       "      <td>Data Scientist</td>\n",
       "      <td>Physics, Harvard University,PhD</td>\n",
       "      <td>PhD</td>\n",
       "      <td>Harvard</td>\n",
       "      <td>Physics</td>\n",
       "    </tr>\n",
       "    <tr>\n",
       "      <th>2</th>\n",
       "      <td>Virot Ta Chiraphadhanakul</td>\n",
       "      <td>Facebook</td>\n",
       "      <td>Tweet Timeline: Visualizing the Impact of Soci...</td>\n",
       "      <td>Data Scientist</td>\n",
       "      <td>Operations Research, MIT, PhD</td>\n",
       "      <td>PhD</td>\n",
       "      <td>MIT</td>\n",
       "      <td>Operations Research</td>\n",
       "    </tr>\n",
       "    <tr>\n",
       "      <th>3</th>\n",
       "      <td>Julia Viladomat</td>\n",
       "      <td>Adobe</td>\n",
       "      <td>Sentiment Analysis Based on Social Media</td>\n",
       "      <td>Data Scientist</td>\n",
       "      <td>Statistics, Stanford, Postdoc</td>\n",
       "      <td>Postdoc</td>\n",
       "      <td>Stanford</td>\n",
       "      <td>Statistics</td>\n",
       "    </tr>\n",
       "    <tr>\n",
       "      <th>4</th>\n",
       "      <td>David Freeman</td>\n",
       "      <td>LinkedIn</td>\n",
       "      <td>Flight Delay Predictor</td>\n",
       "      <td>Head of Anti-Abuse Engineering</td>\n",
       "      <td>Mathematics, Stanford, Postdoc</td>\n",
       "      <td>Postdoc</td>\n",
       "      <td>Stanford</td>\n",
       "      <td>Mathematics</td>\n",
       "    </tr>\n",
       "  </tbody>\n",
       "</table>\n",
       "</div>"
      ],
      "text/plain": [
       "                        name      company  \\\n",
       "0                    JP Bida  Capital One   \n",
       "1              Douglas Mason      Twitter   \n",
       "2  Virot Ta Chiraphadhanakul     Facebook   \n",
       "3            Julia Viladomat        Adobe   \n",
       "4              David Freeman     LinkedIn   \n",
       "\n",
       "                                             project  \\\n",
       "0  Measuring the Impact of Open Source Coders on ...   \n",
       "1    Email Searcher: Search & Visualize Your Mailbox   \n",
       "2  Tweet Timeline: Visualizing the Impact of Soci...   \n",
       "3           Sentiment Analysis Based on Social Media   \n",
       "4                             Flight Delay Predictor   \n",
       "\n",
       "                         position                       background   status  \\\n",
       "0                Director of Risk   Bio-X Games, Stanford, Postdoc  Postdoc   \n",
       "1                  Data Scientist  Physics, Harvard University,PhD      PhD   \n",
       "2                  Data Scientist    Operations Research, MIT, PhD      PhD   \n",
       "3                  Data Scientist    Statistics, Stanford, Postdoc  Postdoc   \n",
       "4  Head of Anti-Abuse Engineering   Mathematics, Stanford, Postdoc  Postdoc   \n",
       "\n",
       "  university                field  \n",
       "0   Stanford          Bio-X Games  \n",
       "1    Harvard              Physics  \n",
       "2        MIT  Operations Research  \n",
       "3   Stanford           Statistics  \n",
       "4   Stanford          Mathematics  "
      ]
     },
     "execution_count": 248,
     "metadata": {},
     "output_type": "execute_result"
    }
   ],
   "source": [
    "insight.head()"
   ]
  },
  {
   "cell_type": "code",
   "execution_count": 249,
   "metadata": {},
   "outputs": [],
   "source": [
    "# Saving scraped dataset to csv file:\n",
    "insight.to_csv(path_or_buf='data/insight_dataset_cleaned.csv', sep=';', index=False)"
   ]
  },
  {
   "cell_type": "markdown",
   "metadata": {},
   "source": [
    "## Summary: \n",
    "\n",
    "The final dataset has 794 observations (i.e. so many fellows participated in the INSIGHT Data Science Fellowship as of 04/21/2019) and 5 features:\n",
    "1. Name\n",
    "2. Company\n",
    "3. Project\n",
    "4. Position\n",
    "5. Background \n",
    "6. University\n",
    "7. (Academic) Field\n",
    "\n",
    "All working/studying professionals that are not PhD or Postdoc were coded as 'Other' and do not contain information on University or Field."
   ]
  },
  {
   "cell_type": "markdown",
   "metadata": {},
   "source": [
    "# PART 2: ANALYSIS"
   ]
  },
  {
   "cell_type": "code",
   "execution_count": 250,
   "metadata": {},
   "outputs": [],
   "source": [
    "insight = pd.read_csv('data/insight_dataset_cleaned.csv', sep=';')"
   ]
  },
  {
   "cell_type": "code",
   "execution_count": 251,
   "metadata": {},
   "outputs": [
    {
     "data": {
      "text/plain": [
       "(794, 8)"
      ]
     },
     "execution_count": 251,
     "metadata": {},
     "output_type": "execute_result"
    }
   ],
   "source": [
    "insight.shape"
   ]
  },
  {
   "cell_type": "code",
   "execution_count": 252,
   "metadata": {},
   "outputs": [
    {
     "data": {
      "text/html": [
       "<div>\n",
       "<style scoped>\n",
       "    .dataframe tbody tr th:only-of-type {\n",
       "        vertical-align: middle;\n",
       "    }\n",
       "\n",
       "    .dataframe tbody tr th {\n",
       "        vertical-align: top;\n",
       "    }\n",
       "\n",
       "    .dataframe thead th {\n",
       "        text-align: right;\n",
       "    }\n",
       "</style>\n",
       "<table border=\"1\" class=\"dataframe\">\n",
       "  <thead>\n",
       "    <tr style=\"text-align: right;\">\n",
       "      <th></th>\n",
       "      <th>name</th>\n",
       "      <th>company</th>\n",
       "      <th>project</th>\n",
       "      <th>position</th>\n",
       "      <th>background</th>\n",
       "      <th>status</th>\n",
       "      <th>university</th>\n",
       "      <th>field</th>\n",
       "    </tr>\n",
       "  </thead>\n",
       "  <tbody>\n",
       "    <tr>\n",
       "      <th>0</th>\n",
       "      <td>JP Bida</td>\n",
       "      <td>Capital One</td>\n",
       "      <td>Measuring the Impact of Open Source Coders on ...</td>\n",
       "      <td>Director of Risk</td>\n",
       "      <td>Bio-X Games, Stanford, Postdoc</td>\n",
       "      <td>Postdoc</td>\n",
       "      <td>Stanford</td>\n",
       "      <td>Bio-X Games</td>\n",
       "    </tr>\n",
       "    <tr>\n",
       "      <th>1</th>\n",
       "      <td>Douglas Mason</td>\n",
       "      <td>Twitter</td>\n",
       "      <td>Email Searcher: Search &amp; Visualize Your Mailbox</td>\n",
       "      <td>Data Scientist</td>\n",
       "      <td>Physics, Harvard University,PhD</td>\n",
       "      <td>PhD</td>\n",
       "      <td>Harvard</td>\n",
       "      <td>Physics</td>\n",
       "    </tr>\n",
       "    <tr>\n",
       "      <th>2</th>\n",
       "      <td>Virot Ta Chiraphadhanakul</td>\n",
       "      <td>Facebook</td>\n",
       "      <td>Tweet Timeline: Visualizing the Impact of Soci...</td>\n",
       "      <td>Data Scientist</td>\n",
       "      <td>Operations Research, MIT, PhD</td>\n",
       "      <td>PhD</td>\n",
       "      <td>MIT</td>\n",
       "      <td>Operations Research</td>\n",
       "    </tr>\n",
       "    <tr>\n",
       "      <th>3</th>\n",
       "      <td>Julia Viladomat</td>\n",
       "      <td>Adobe</td>\n",
       "      <td>Sentiment Analysis Based on Social Media</td>\n",
       "      <td>Data Scientist</td>\n",
       "      <td>Statistics, Stanford, Postdoc</td>\n",
       "      <td>Postdoc</td>\n",
       "      <td>Stanford</td>\n",
       "      <td>Statistics</td>\n",
       "    </tr>\n",
       "    <tr>\n",
       "      <th>4</th>\n",
       "      <td>David Freeman</td>\n",
       "      <td>LinkedIn</td>\n",
       "      <td>Flight Delay Predictor</td>\n",
       "      <td>Head of Anti-Abuse Engineering</td>\n",
       "      <td>Mathematics, Stanford, Postdoc</td>\n",
       "      <td>Postdoc</td>\n",
       "      <td>Stanford</td>\n",
       "      <td>Mathematics</td>\n",
       "    </tr>\n",
       "  </tbody>\n",
       "</table>\n",
       "</div>"
      ],
      "text/plain": [
       "                        name      company  \\\n",
       "0                    JP Bida  Capital One   \n",
       "1              Douglas Mason      Twitter   \n",
       "2  Virot Ta Chiraphadhanakul     Facebook   \n",
       "3            Julia Viladomat        Adobe   \n",
       "4              David Freeman     LinkedIn   \n",
       "\n",
       "                                             project  \\\n",
       "0  Measuring the Impact of Open Source Coders on ...   \n",
       "1    Email Searcher: Search & Visualize Your Mailbox   \n",
       "2  Tweet Timeline: Visualizing the Impact of Soci...   \n",
       "3           Sentiment Analysis Based on Social Media   \n",
       "4                             Flight Delay Predictor   \n",
       "\n",
       "                         position                       background   status  \\\n",
       "0                Director of Risk   Bio-X Games, Stanford, Postdoc  Postdoc   \n",
       "1                  Data Scientist  Physics, Harvard University,PhD      PhD   \n",
       "2                  Data Scientist    Operations Research, MIT, PhD      PhD   \n",
       "3                  Data Scientist    Statistics, Stanford, Postdoc  Postdoc   \n",
       "4  Head of Anti-Abuse Engineering   Mathematics, Stanford, Postdoc  Postdoc   \n",
       "\n",
       "  university                field  \n",
       "0   Stanford          Bio-X Games  \n",
       "1    Harvard              Physics  \n",
       "2        MIT  Operations Research  \n",
       "3   Stanford           Statistics  \n",
       "4   Stanford          Mathematics  "
      ]
     },
     "execution_count": 252,
     "metadata": {},
     "output_type": "execute_result"
    }
   ],
   "source": [
    "insight.head()"
   ]
  },
  {
   "cell_type": "markdown",
   "metadata": {},
   "source": [
    "## 2.1. COMPANIES:"
   ]
  },
  {
   "cell_type": "code",
   "execution_count": 253,
   "metadata": {},
   "outputs": [],
   "source": [
    "companies = insight['company'].unique()"
   ]
  },
  {
   "cell_type": "code",
   "execution_count": 254,
   "metadata": {},
   "outputs": [
    {
     "data": {
      "text/plain": [
       "383"
      ]
     },
     "execution_count": 254,
     "metadata": {},
     "output_type": "execute_result"
    }
   ],
   "source": [
    "#how many companies?\n",
    "len(companies)"
   ]
  },
  {
   "cell_type": "code",
   "execution_count": 255,
   "metadata": {},
   "outputs": [],
   "source": [
    "company_num = [insight['company'][insight['company'] == companies[i]].count() for i in range(len(companies))]"
   ]
  },
  {
   "cell_type": "code",
   "execution_count": 256,
   "metadata": {},
   "outputs": [],
   "source": [
    "companies_count = pd.DataFrame({'company': companies, 'company_num': company_num})"
   ]
  },
  {
   "cell_type": "code",
   "execution_count": 257,
   "metadata": {},
   "outputs": [
    {
     "data": {
      "text/html": [
       "<div>\n",
       "<style scoped>\n",
       "    .dataframe tbody tr th:only-of-type {\n",
       "        vertical-align: middle;\n",
       "    }\n",
       "\n",
       "    .dataframe tbody tr th {\n",
       "        vertical-align: top;\n",
       "    }\n",
       "\n",
       "    .dataframe thead th {\n",
       "        text-align: right;\n",
       "    }\n",
       "</style>\n",
       "<table border=\"1\" class=\"dataframe\">\n",
       "  <thead>\n",
       "    <tr style=\"text-align: right;\">\n",
       "      <th></th>\n",
       "      <th>index</th>\n",
       "      <th>company</th>\n",
       "      <th>company_num</th>\n",
       "    </tr>\n",
       "  </thead>\n",
       "  <tbody>\n",
       "    <tr>\n",
       "      <th>0</th>\n",
       "      <td>2</td>\n",
       "      <td>Facebook</td>\n",
       "      <td>54</td>\n",
       "    </tr>\n",
       "    <tr>\n",
       "      <th>1</th>\n",
       "      <td>4</td>\n",
       "      <td>LinkedIn</td>\n",
       "      <td>22</td>\n",
       "    </tr>\n",
       "    <tr>\n",
       "      <th>2</th>\n",
       "      <td>32</td>\n",
       "      <td>Stitch Fix</td>\n",
       "      <td>19</td>\n",
       "    </tr>\n",
       "    <tr>\n",
       "      <th>3</th>\n",
       "      <td>6</td>\n",
       "      <td>Netflix</td>\n",
       "      <td>15</td>\n",
       "    </tr>\n",
       "    <tr>\n",
       "      <th>4</th>\n",
       "      <td>42</td>\n",
       "      <td>Intuit</td>\n",
       "      <td>14</td>\n",
       "    </tr>\n",
       "    <tr>\n",
       "      <th>5</th>\n",
       "      <td>35</td>\n",
       "      <td>Insight Data Science</td>\n",
       "      <td>13</td>\n",
       "    </tr>\n",
       "    <tr>\n",
       "      <th>6</th>\n",
       "      <td>37</td>\n",
       "      <td>Yelp</td>\n",
       "      <td>12</td>\n",
       "    </tr>\n",
       "    <tr>\n",
       "      <th>7</th>\n",
       "      <td>183</td>\n",
       "      <td>Gartner</td>\n",
       "      <td>12</td>\n",
       "    </tr>\n",
       "    <tr>\n",
       "      <th>8</th>\n",
       "      <td>13</td>\n",
       "      <td>Uber</td>\n",
       "      <td>12</td>\n",
       "    </tr>\n",
       "    <tr>\n",
       "      <th>9</th>\n",
       "      <td>147</td>\n",
       "      <td>Schireson</td>\n",
       "      <td>11</td>\n",
       "    </tr>\n",
       "  </tbody>\n",
       "</table>\n",
       "</div>"
      ],
      "text/plain": [
       "   index               company  company_num\n",
       "0      2              Facebook           54\n",
       "1      4              LinkedIn           22\n",
       "2     32            Stitch Fix           19\n",
       "3      6               Netflix           15\n",
       "4     42                Intuit           14\n",
       "5     35  Insight Data Science           13\n",
       "6     37                  Yelp           12\n",
       "7    183               Gartner           12\n",
       "8     13                  Uber           12\n",
       "9    147             Schireson           11"
      ]
     },
     "execution_count": 257,
     "metadata": {},
     "output_type": "execute_result"
    }
   ],
   "source": [
    "companies_count = companies_count.sort_values(by='company_num', ascending=False)\n",
    "companies_count = companies_count.reset_index()\n",
    "companies_count.head(10)"
   ]
  },
  {
   "cell_type": "code",
   "execution_count": 258,
   "metadata": {},
   "outputs": [
    {
     "name": "stdout",
     "output_type": "stream",
     "text": [
      "184 fellows work in top10 companies which is 23.17%\n"
     ]
    }
   ],
   "source": [
    "print(\"{} fellows work in top10 companies which is {:.2f}%\".format(companies_count.head(10).company_num.sum(), 100*companies_count.head(10).company_num.sum()/insight.shape[0]))"
   ]
  },
  {
   "cell_type": "code",
   "execution_count": 327,
   "metadata": {},
   "outputs": [
    {
     "data": {
      "image/png": "[encoded data removed]",
      "text/plain": [
       "<Figure size 432x288 with 1 Axes>"
      ]
     },
     "metadata": {
      "needs_background": "light"
     },
     "output_type": "display_data"
    }
   ],
   "source": [
    "base_color = sns.color_palette()[0]\n",
    "\n",
    "sns.barplot(y = companies_count.company[:15], x = companies_count.company_num[:15], color=base_color);\n",
    "plt.title(\"TOP15 companies\")\n",
    "for i in range(15):\n",
    "    #X position just after the end of the bar:\n",
    "    count = companies_count['company_num'][i]\n",
    "    plt.text(count+0.5, i, count, va = 'center');"
   ]
  },
  {
   "cell_type": "code",
   "execution_count": 260,
   "metadata": {},
   "outputs": [
    {
     "name": "stdout",
     "output_type": "stream",
     "text": [
      "275 companies hired just 1 fellow which is 71.80% of all companies\n"
     ]
    }
   ],
   "source": [
    "print(\"{} companies hired just 1 fellow which is {:.2f}% of all companies\".format(\n",
    "    companies_count.company_num[companies_count.company_num == 1].count(),\n",
    "    100*companies_count.company_num[companies_count.company_num == 1].count()/len(companies)))"
   ]
  },
  {
   "cell_type": "markdown",
   "metadata": {},
   "source": [
    "## Summary:\n",
    "There are 383 companies where INSIGHT fellows started working. However, there are no strong patterns where fellows find jobs, since 71% of companies hired just 1 fellow. <br>\n",
    "\n",
    "Still, 23.17% of all fellows work in the top10 companies. <br>\n",
    "\n",
    "The top 5 companies that hire actively data scientists are Facebook (54 fellows), LinkedIn (22), Stich Fix (19), Netflix (15) and Intuit (14). All five are in the Silicon Valley, where the demand for Data Scientist is naturally the highest.\n",
    "\n"
   ]
  },
  {
   "cell_type": "markdown",
   "metadata": {},
   "source": [
    "## 2.2. UNIVERSITIES:"
   ]
  },
  {
   "cell_type": "code",
   "execution_count": 261,
   "metadata": {},
   "outputs": [
    {
     "name": "stdout",
     "output_type": "stream",
     "text": [
      "fellows come from 198 different universities\n"
     ]
    }
   ],
   "source": [
    "uni_unique = insight['university'].unique()\n",
    "print(\"fellows come from {} different universities\".format(len(uni_unique)))"
   ]
  },
  {
   "cell_type": "code",
   "execution_count": 262,
   "metadata": {},
   "outputs": [],
   "source": [
    "uni_num = [insight['university'][insight['university'] == uni_unique[i]].count() for i in range(len(uni_unique))]"
   ]
  },
  {
   "cell_type": "code",
   "execution_count": 263,
   "metadata": {},
   "outputs": [],
   "source": [
    "uni_count = pd.DataFrame({'university': uni_unique, 'university_num': uni_num})"
   ]
  },
  {
   "cell_type": "code",
   "execution_count": 264,
   "metadata": {},
   "outputs": [],
   "source": [
    "uni_count = uni_count.sort_values(by='university_num', ascending=False)\n",
    "uni_count = uni_count.reset_index()"
   ]
  },
  {
   "cell_type": "code",
   "execution_count": 265,
   "metadata": {
    "scrolled": true
   },
   "outputs": [
    {
     "data": {
      "image/png": "[encoded data removed]",
      "text/plain": [
       "<Figure size 432x288 with 1 Axes>"
      ]
     },
     "metadata": {
      "needs_background": "light"
     },
     "output_type": "display_data"
    }
   ],
   "source": [
    "uni_count.head(10).plot.barh(x = 'university', y = 'university_num');\n",
    "plt.xlabel('Number of fellows')\n",
    "plt.title('Number of Fellows by Top 10 Unis');\n",
    "for i in range(10):\n",
    "    #X position just after the end of the bar:\n",
    "    count = uni_count['university_num'][i]\n",
    "    plt.text(count+1, i, count, va = 'center');"
   ]
  },
  {
   "cell_type": "code",
   "execution_count": 314,
   "metadata": {},
   "outputs": [
    {
     "name": "stdout",
     "output_type": "stream",
     "text": [
      "219 fellows come from Californian universities, which is equivalent to 27.58%\n"
     ]
    },
    {
     "data": {
      "text/html": [
       "<div>\n",
       "<style scoped>\n",
       "    .dataframe tbody tr th:only-of-type {\n",
       "        vertical-align: middle;\n",
       "    }\n",
       "\n",
       "    .dataframe tbody tr th {\n",
       "        vertical-align: top;\n",
       "    }\n",
       "\n",
       "    .dataframe thead th {\n",
       "        text-align: right;\n",
       "    }\n",
       "</style>\n",
       "<table border=\"1\" class=\"dataframe\">\n",
       "  <thead>\n",
       "    <tr style=\"text-align: right;\">\n",
       "      <th></th>\n",
       "      <th>index</th>\n",
       "      <th>university</th>\n",
       "      <th>university_num</th>\n",
       "    </tr>\n",
       "  </thead>\n",
       "  <tbody>\n",
       "    <tr>\n",
       "      <th>0</th>\n",
       "      <td>0</td>\n",
       "      <td>Stanford</td>\n",
       "      <td>79</td>\n",
       "    </tr>\n",
       "    <tr>\n",
       "      <th>1</th>\n",
       "      <td>6</td>\n",
       "      <td>UC Berkeley</td>\n",
       "      <td>53</td>\n",
       "    </tr>\n",
       "    <tr>\n",
       "      <th>5</th>\n",
       "      <td>28</td>\n",
       "      <td>UC Davis</td>\n",
       "      <td>15</td>\n",
       "    </tr>\n",
       "    <tr>\n",
       "      <th>10</th>\n",
       "      <td>27</td>\n",
       "      <td>UC San Diego</td>\n",
       "      <td>13</td>\n",
       "    </tr>\n",
       "    <tr>\n",
       "      <th>11</th>\n",
       "      <td>44</td>\n",
       "      <td>UC Santa Barbara</td>\n",
       "      <td>12</td>\n",
       "    </tr>\n",
       "    <tr>\n",
       "      <th>16</th>\n",
       "      <td>30</td>\n",
       "      <td>UC Los Angeles</td>\n",
       "      <td>10</td>\n",
       "    </tr>\n",
       "    <tr>\n",
       "      <th>18</th>\n",
       "      <td>56</td>\n",
       "      <td>UC Irvine</td>\n",
       "      <td>9</td>\n",
       "    </tr>\n",
       "    <tr>\n",
       "      <th>21</th>\n",
       "      <td>18</td>\n",
       "      <td>UC Santa Cruz</td>\n",
       "      <td>9</td>\n",
       "    </tr>\n",
       "    <tr>\n",
       "      <th>30</th>\n",
       "      <td>4</td>\n",
       "      <td>UC Riverside</td>\n",
       "      <td>6</td>\n",
       "    </tr>\n",
       "    <tr>\n",
       "      <th>34</th>\n",
       "      <td>40</td>\n",
       "      <td>UCSF</td>\n",
       "      <td>5</td>\n",
       "    </tr>\n",
       "    <tr>\n",
       "      <th>48</th>\n",
       "      <td>89</td>\n",
       "      <td>UC Merced</td>\n",
       "      <td>3</td>\n",
       "    </tr>\n",
       "    <tr>\n",
       "      <th>72</th>\n",
       "      <td>103</td>\n",
       "      <td>UC San Francisco</td>\n",
       "      <td>2</td>\n",
       "    </tr>\n",
       "    <tr>\n",
       "      <th>146</th>\n",
       "      <td>68</td>\n",
       "      <td>UCSF/UC Berkeley</td>\n",
       "      <td>1</td>\n",
       "    </tr>\n",
       "    <tr>\n",
       "      <th>160</th>\n",
       "      <td>36</td>\n",
       "      <td>Stanford/University of Michigan</td>\n",
       "      <td>1</td>\n",
       "    </tr>\n",
       "    <tr>\n",
       "      <th>161</th>\n",
       "      <td>35</td>\n",
       "      <td>Kavli Institute for Theoretical Physics - UC S...</td>\n",
       "      <td>1</td>\n",
       "    </tr>\n",
       "  </tbody>\n",
       "</table>\n",
       "</div>"
      ],
      "text/plain": [
       "     index                                         university  university_num\n",
       "0        0                                           Stanford              79\n",
       "1        6                                        UC Berkeley              53\n",
       "5       28                                           UC Davis              15\n",
       "10      27                                       UC San Diego              13\n",
       "11      44                                   UC Santa Barbara              12\n",
       "16      30                                     UC Los Angeles              10\n",
       "18      56                                          UC Irvine               9\n",
       "21      18                                      UC Santa Cruz               9\n",
       "30       4                                       UC Riverside               6\n",
       "34      40                                               UCSF               5\n",
       "48      89                                          UC Merced               3\n",
       "72     103                                   UC San Francisco               2\n",
       "146     68                                   UCSF/UC Berkeley               1\n",
       "160     36                    Stanford/University of Michigan               1\n",
       "161     35  Kavli Institute for Theoretical Physics - UC S...               1"
      ]
     },
     "execution_count": 314,
     "metadata": {},
     "output_type": "execute_result"
    }
   ],
   "source": [
    "mask_cal_unis = uni_count.university.str.contains('Stanford|UC') & ~uni_count.university.isna()\n",
    "print(f\"{uni_count[mask_cal_unis].university_num.sum()} fellows come from Californian universities, which is equivalent to {uni_count[mask_cal_unis].university_num.sum()/insight.shape[0]*100:.2f}%\")\n",
    "uni_count[mask_cal_unis]"
   ]
  },
  {
   "cell_type": "code",
   "execution_count": 266,
   "metadata": {},
   "outputs": [
    {
     "name": "stdout",
     "output_type": "stream",
     "text": [
      "top10 universities account for 275 fellows which is 34.63%\n"
     ]
    }
   ],
   "source": [
    "print(\"top10 universities account for {} fellows which is {:.2f}%\".format(uni_count.head(10).university_num.sum(), \n",
    "                                                                          100*uni_count.head(10).university_num.sum()/insight.shape[0]))"
   ]
  },
  {
   "cell_type": "markdown",
   "metadata": {},
   "source": [
    "## Summary:\n",
    "\n",
    "The 794 INSIGHT Fellows come from 198 different universities - very diverse!  <BR> \n",
    "    \n",
    "However, 35% of all fellows come from just TOP10 universities. Moreover, almost 30% of fellows (219) are from the three Californian universities - Stanford or other UCs. The pattern is not suprising given the insight from the previous step - namely that it is primarily Silicon Valley companies that hire DS fellows the most. <br>\n",
    "    \n",
    "The top 5 universities that convert PhDs to data scientists are Stanford (79 fellows), UC Berkeley (53), Harvard (31), NYU (22) and MIT (14)."
   ]
  },
  {
   "cell_type": "markdown",
   "metadata": {},
   "source": [
    "## 2.3. ACADEMIC FIELD:"
   ]
  },
  {
   "cell_type": "code",
   "execution_count": 317,
   "metadata": {},
   "outputs": [],
   "source": [
    "fields = ['Physics', 'Chemistry', 'Biology', 'Statistics', 'Mathematic', 'Mechanical Engineering',\n",
    "          'Astrophysics', 'Neuroscience', 'Genetics', 'Biophysics', 'Biochemistry','Psychology', 'Ecology', 'Politic',\n",
    "         'Linguistics', 'Computer Science', 'Environment','Astronomy', 'Biomedical Engineering', 'Bioinformatics',\n",
    "         'Electrical Engineering', 'Biostatistics']\n",
    "fields_num = []\n",
    "\n",
    "for each in fields:\n",
    "    fields_nb = insight['university'][insight['background'].str.contains(each)].count()\n",
    "    fields_num.append(fields_nb)\n",
    "result = list(zip(fields, fields_num))"
   ]
  },
  {
   "cell_type": "code",
   "execution_count": 318,
   "metadata": {},
   "outputs": [
    {
     "data": {
      "text/html": [
       "<div>\n",
       "<style scoped>\n",
       "    .dataframe tbody tr th:only-of-type {\n",
       "        vertical-align: middle;\n",
       "    }\n",
       "\n",
       "    .dataframe tbody tr th {\n",
       "        vertical-align: top;\n",
       "    }\n",
       "\n",
       "    .dataframe thead th {\n",
       "        text-align: right;\n",
       "    }\n",
       "</style>\n",
       "<table border=\"1\" class=\"dataframe\">\n",
       "  <thead>\n",
       "    <tr style=\"text-align: right;\">\n",
       "      <th></th>\n",
       "      <th>fields</th>\n",
       "      <th>fields_num</th>\n",
       "      <th>fields_pct</th>\n",
       "    </tr>\n",
       "  </thead>\n",
       "  <tbody>\n",
       "    <tr>\n",
       "      <th>0</th>\n",
       "      <td>Physics</td>\n",
       "      <td>182</td>\n",
       "      <td>22.92</td>\n",
       "    </tr>\n",
       "    <tr>\n",
       "      <th>7</th>\n",
       "      <td>Neuroscience</td>\n",
       "      <td>76</td>\n",
       "      <td>9.57</td>\n",
       "    </tr>\n",
       "    <tr>\n",
       "      <th>6</th>\n",
       "      <td>Astrophysics</td>\n",
       "      <td>61</td>\n",
       "      <td>7.68</td>\n",
       "    </tr>\n",
       "    <tr>\n",
       "      <th>4</th>\n",
       "      <td>Mathematic</td>\n",
       "      <td>57</td>\n",
       "      <td>7.18</td>\n",
       "    </tr>\n",
       "    <tr>\n",
       "      <th>2</th>\n",
       "      <td>Biology</td>\n",
       "      <td>43</td>\n",
       "      <td>5.42</td>\n",
       "    </tr>\n",
       "    <tr>\n",
       "      <th>9</th>\n",
       "      <td>Biophysics</td>\n",
       "      <td>22</td>\n",
       "      <td>2.77</td>\n",
       "    </tr>\n",
       "    <tr>\n",
       "      <th>16</th>\n",
       "      <td>Environment</td>\n",
       "      <td>17</td>\n",
       "      <td>2.14</td>\n",
       "    </tr>\n",
       "    <tr>\n",
       "      <th>11</th>\n",
       "      <td>Psychology</td>\n",
       "      <td>17</td>\n",
       "      <td>2.14</td>\n",
       "    </tr>\n",
       "    <tr>\n",
       "      <th>17</th>\n",
       "      <td>Astronomy</td>\n",
       "      <td>16</td>\n",
       "      <td>2.02</td>\n",
       "    </tr>\n",
       "    <tr>\n",
       "      <th>5</th>\n",
       "      <td>Mechanical Engineering</td>\n",
       "      <td>14</td>\n",
       "      <td>1.76</td>\n",
       "    </tr>\n",
       "    <tr>\n",
       "      <th>15</th>\n",
       "      <td>Computer Science</td>\n",
       "      <td>14</td>\n",
       "      <td>1.76</td>\n",
       "    </tr>\n",
       "    <tr>\n",
       "      <th>18</th>\n",
       "      <td>Biomedical Engineering</td>\n",
       "      <td>14</td>\n",
       "      <td>1.76</td>\n",
       "    </tr>\n",
       "    <tr>\n",
       "      <th>20</th>\n",
       "      <td>Electrical Engineering</td>\n",
       "      <td>14</td>\n",
       "      <td>1.76</td>\n",
       "    </tr>\n",
       "    <tr>\n",
       "      <th>1</th>\n",
       "      <td>Chemistry</td>\n",
       "      <td>13</td>\n",
       "      <td>1.64</td>\n",
       "    </tr>\n",
       "    <tr>\n",
       "      <th>3</th>\n",
       "      <td>Statistics</td>\n",
       "      <td>12</td>\n",
       "      <td>1.51</td>\n",
       "    </tr>\n",
       "    <tr>\n",
       "      <th>19</th>\n",
       "      <td>Bioinformatics</td>\n",
       "      <td>12</td>\n",
       "      <td>1.51</td>\n",
       "    </tr>\n",
       "    <tr>\n",
       "      <th>13</th>\n",
       "      <td>Politic</td>\n",
       "      <td>9</td>\n",
       "      <td>1.13</td>\n",
       "    </tr>\n",
       "    <tr>\n",
       "      <th>8</th>\n",
       "      <td>Genetics</td>\n",
       "      <td>7</td>\n",
       "      <td>0.88</td>\n",
       "    </tr>\n",
       "    <tr>\n",
       "      <th>12</th>\n",
       "      <td>Ecology</td>\n",
       "      <td>7</td>\n",
       "      <td>0.88</td>\n",
       "    </tr>\n",
       "    <tr>\n",
       "      <th>21</th>\n",
       "      <td>Biostatistics</td>\n",
       "      <td>6</td>\n",
       "      <td>0.76</td>\n",
       "    </tr>\n",
       "    <tr>\n",
       "      <th>14</th>\n",
       "      <td>Linguistics</td>\n",
       "      <td>5</td>\n",
       "      <td>0.63</td>\n",
       "    </tr>\n",
       "    <tr>\n",
       "      <th>10</th>\n",
       "      <td>Biochemistry</td>\n",
       "      <td>4</td>\n",
       "      <td>0.50</td>\n",
       "    </tr>\n",
       "  </tbody>\n",
       "</table>\n",
       "</div>"
      ],
      "text/plain": [
       "                    fields  fields_num  fields_pct\n",
       "0                  Physics         182       22.92\n",
       "7             Neuroscience          76        9.57\n",
       "6             Astrophysics          61        7.68\n",
       "4               Mathematic          57        7.18\n",
       "2                  Biology          43        5.42\n",
       "9               Biophysics          22        2.77\n",
       "16             Environment          17        2.14\n",
       "11              Psychology          17        2.14\n",
       "17               Astronomy          16        2.02\n",
       "5   Mechanical Engineering          14        1.76\n",
       "15        Computer Science          14        1.76\n",
       "18  Biomedical Engineering          14        1.76\n",
       "20  Electrical Engineering          14        1.76\n",
       "1                Chemistry          13        1.64\n",
       "3               Statistics          12        1.51\n",
       "19          Bioinformatics          12        1.51\n",
       "13                 Politic           9        1.13\n",
       "8                 Genetics           7        0.88\n",
       "12                 Ecology           7        0.88\n",
       "21           Biostatistics           6        0.76\n",
       "14             Linguistics           5        0.63\n",
       "10            Biochemistry           4        0.50"
      ]
     },
     "execution_count": 318,
     "metadata": {},
     "output_type": "execute_result"
    }
   ],
   "source": [
    "fields = pd.DataFrame(data=result, columns=['fields', 'fields_num'])\n",
    "fields = fields.sort_values(by='fields_num', ascending=False)\n",
    "fields['fields_pct'] = round(100*fields['fields_num']/insight.shape[0], 2)\n",
    "fields"
   ]
  },
  {
   "cell_type": "code",
   "execution_count": 319,
   "metadata": {},
   "outputs": [
    {
     "data": {
      "text/plain": [
       "78.34"
      ]
     },
     "execution_count": 319,
     "metadata": {},
     "output_type": "execute_result"
    }
   ],
   "source": [
    "# % of all insight fellows covered by above fields \n",
    "round(100*fields.fields_num.sum()/insight.shape[0], 2)"
   ]
  },
  {
   "cell_type": "markdown",
   "metadata": {},
   "source": [
    "### Fellows from Political Science (like me :) "
   ]
  },
  {
   "cell_type": "code",
   "execution_count": 316,
   "metadata": {},
   "outputs": [
    {
     "data": {
      "text/html": [
       "<div>\n",
       "<style scoped>\n",
       "    .dataframe tbody tr th:only-of-type {\n",
       "        vertical-align: middle;\n",
       "    }\n",
       "\n",
       "    .dataframe tbody tr th {\n",
       "        vertical-align: top;\n",
       "    }\n",
       "\n",
       "    .dataframe thead th {\n",
       "        text-align: right;\n",
       "    }\n",
       "</style>\n",
       "<table border=\"1\" class=\"dataframe\">\n",
       "  <thead>\n",
       "    <tr style=\"text-align: right;\">\n",
       "      <th></th>\n",
       "      <th>name</th>\n",
       "      <th>company</th>\n",
       "      <th>project</th>\n",
       "      <th>position</th>\n",
       "      <th>background</th>\n",
       "      <th>status</th>\n",
       "      <th>university</th>\n",
       "      <th>field</th>\n",
       "    </tr>\n",
       "  </thead>\n",
       "  <tbody>\n",
       "    <tr>\n",
       "      <th>140</th>\n",
       "      <td>Alex Ruiz-Euler</td>\n",
       "      <td>Viacom</td>\n",
       "      <td>Yelper Helper: An engine for tailored Yelp Rev...</td>\n",
       "      <td>Senior Data Scientist, Audience Science</td>\n",
       "      <td>Political Economy, UCSD, PhD</td>\n",
       "      <td>PhD</td>\n",
       "      <td>UC San Diego</td>\n",
       "      <td>Political Economy</td>\n",
       "    </tr>\n",
       "    <tr>\n",
       "      <th>147</th>\n",
       "      <td>Marco Morales</td>\n",
       "      <td>NBC</td>\n",
       "      <td>Ticket Me If You Can: Fending off parking tick...</td>\n",
       "      <td>Associate Director, Management Science &amp; Integ...</td>\n",
       "      <td>Political Science, New York University, PhD</td>\n",
       "      <td>PhD</td>\n",
       "      <td>NYU</td>\n",
       "      <td>Political Science</td>\n",
       "    </tr>\n",
       "    <tr>\n",
       "      <th>172</th>\n",
       "      <td>Lindsay Pettingill</td>\n",
       "      <td>Airbnb</td>\n",
       "      <td>dr-findr: A web app that helps you find the do...</td>\n",
       "      <td>Data Scientist</td>\n",
       "      <td>Political Science, Georgetown University, PhD</td>\n",
       "      <td>PhD</td>\n",
       "      <td>Georgetown University</td>\n",
       "      <td>Political Science</td>\n",
       "    </tr>\n",
       "    <tr>\n",
       "      <th>280</th>\n",
       "      <td>Gabriel Michael</td>\n",
       "      <td>Schireson</td>\n",
       "      <td>Can I Solar?: Helping you decide if solar powe...</td>\n",
       "      <td>Data Scientist</td>\n",
       "      <td>Political Science, Yale, Postdoc</td>\n",
       "      <td>Postdoc</td>\n",
       "      <td>Yale</td>\n",
       "      <td>Political Science</td>\n",
       "    </tr>\n",
       "    <tr>\n",
       "      <th>612</th>\n",
       "      <td>Marlene Guraieb</td>\n",
       "      <td>Oscar</td>\n",
       "      <td>Write right! Helping CrossLead identify succes...</td>\n",
       "      <td>Data Scientist</td>\n",
       "      <td>Political Science, New York University, PhD</td>\n",
       "      <td>PhD</td>\n",
       "      <td>NYU</td>\n",
       "      <td>Political Science</td>\n",
       "    </tr>\n",
       "    <tr>\n",
       "      <th>641</th>\n",
       "      <td>Kelly Zhang</td>\n",
       "      <td>Social Capital</td>\n",
       "      <td>Opinionated</td>\n",
       "      <td>Data Scientist</td>\n",
       "      <td>Political Science, Stanford University, PhD</td>\n",
       "      <td>PhD</td>\n",
       "      <td>Stanford</td>\n",
       "      <td>Political Science</td>\n",
       "    </tr>\n",
       "    <tr>\n",
       "      <th>658</th>\n",
       "      <td>Nhung Bui</td>\n",
       "      <td>Google</td>\n",
       "      <td>Travel Smart</td>\n",
       "      <td>Data Scientist</td>\n",
       "      <td>Politics, Princeton University, PhD</td>\n",
       "      <td>PhD</td>\n",
       "      <td>Princeton</td>\n",
       "      <td>Politics</td>\n",
       "    </tr>\n",
       "    <tr>\n",
       "      <th>675</th>\n",
       "      <td>Michael Dougal</td>\n",
       "      <td>Netflix</td>\n",
       "      <td>Hatched News</td>\n",
       "      <td>Sr. Research Scientist</td>\n",
       "      <td>Political Science, UC Berkeley, PhD</td>\n",
       "      <td>PhD</td>\n",
       "      <td>UC Berkeley</td>\n",
       "      <td>Political Science</td>\n",
       "    </tr>\n",
       "    <tr>\n",
       "      <th>708</th>\n",
       "      <td>Matthew Barnes</td>\n",
       "      <td>84.51</td>\n",
       "      <td>Pay It Forward: Predicting Who Will Miss a Stu...</td>\n",
       "      <td>Senior Analyst</td>\n",
       "      <td>Political Science, Princeton University, PhD</td>\n",
       "      <td>PhD</td>\n",
       "      <td>Princeton</td>\n",
       "      <td>Political Science</td>\n",
       "    </tr>\n",
       "  </tbody>\n",
       "</table>\n",
       "</div>"
      ],
      "text/plain": [
       "                   name         company  \\\n",
       "140     Alex Ruiz-Euler          Viacom   \n",
       "147      Marco Morales              NBC   \n",
       "172  Lindsay Pettingill          Airbnb   \n",
       "280     Gabriel Michael       Schireson   \n",
       "612     Marlene Guraieb           Oscar   \n",
       "641         Kelly Zhang  Social Capital   \n",
       "658           Nhung Bui          Google   \n",
       "675      Michael Dougal         Netflix   \n",
       "708     Matthew Barnes            84.51   \n",
       "\n",
       "                                               project  \\\n",
       "140  Yelper Helper: An engine for tailored Yelp Rev...   \n",
       "147  Ticket Me If You Can: Fending off parking tick...   \n",
       "172  dr-findr: A web app that helps you find the do...   \n",
       "280  Can I Solar?: Helping you decide if solar powe...   \n",
       "612  Write right! Helping CrossLead identify succes...   \n",
       "641                                        Opinionated   \n",
       "658                                       Travel Smart   \n",
       "675                                       Hatched News   \n",
       "708  Pay It Forward: Predicting Who Will Miss a Stu...   \n",
       "\n",
       "                                              position  \\\n",
       "140            Senior Data Scientist, Audience Science   \n",
       "147  Associate Director, Management Science & Integ...   \n",
       "172                                     Data Scientist   \n",
       "280                                     Data Scientist   \n",
       "612                                     Data Scientist   \n",
       "641                                     Data Scientist   \n",
       "658                                     Data Scientist   \n",
       "675                             Sr. Research Scientist   \n",
       "708                                    Senior Analyst    \n",
       "\n",
       "                                        background   status  \\\n",
       "140                   Political Economy, UCSD, PhD      PhD   \n",
       "147    Political Science, New York University, PhD      PhD   \n",
       "172  Political Science, Georgetown University, PhD      PhD   \n",
       "280               Political Science, Yale, Postdoc  Postdoc   \n",
       "612    Political Science, New York University, PhD      PhD   \n",
       "641    Political Science, Stanford University, PhD      PhD   \n",
       "658            Politics, Princeton University, PhD      PhD   \n",
       "675            Political Science, UC Berkeley, PhD      PhD   \n",
       "708   Political Science, Princeton University, PhD      PhD   \n",
       "\n",
       "                university              field  \n",
       "140           UC San Diego  Political Economy  \n",
       "147                    NYU  Political Science  \n",
       "172  Georgetown University  Political Science  \n",
       "280                   Yale  Political Science  \n",
       "612                    NYU  Political Science  \n",
       "641               Stanford  Political Science  \n",
       "658              Princeton           Politics  \n",
       "675            UC Berkeley  Political Science  \n",
       "708              Princeton  Political Science  "
      ]
     },
     "execution_count": 316,
     "metadata": {},
     "output_type": "execute_result"
    }
   ],
   "source": [
    "insight[insight['background'].str.contains('Polit')]"
   ]
  },
  {
   "cell_type": "markdown",
   "metadata": {},
   "source": [
    "## Summary:\n",
    "\n",
    "The majority of fellows are freshly completed PhDs - 64%. There are about 29% postdocs among the INSIGHT fellows. But there is also a small amount of practitioners (uni faculty, manager, researchers). <br>\n",
    "Almost every third comes from Physics/Astrophysics (32%). The next biggest group - 10% - are neuroscientists. <br>\n",
    "Among 794 fellows, only 9 have graduated degree in political science!\n",
    "\n"
   ]
  },
  {
   "cell_type": "markdown",
   "metadata": {},
   "source": [
    "## 2.4. PhD vs Postdoc"
   ]
  },
  {
   "cell_type": "code",
   "execution_count": 321,
   "metadata": {},
   "outputs": [
    {
     "name": "stdout",
     "output_type": "stream",
     "text": [
      "506 fellows are fresh PhDs...\n"
     ]
    }
   ],
   "source": [
    "#how many PhDs?\n",
    "print('{} fellows are fresh PhDs...'.format(insight.status[insight['status'] =='PhD'].count()))"
   ]
  },
  {
   "cell_type": "code",
   "execution_count": 322,
   "metadata": {},
   "outputs": [
    {
     "name": "stdout",
     "output_type": "stream",
     "text": [
      "...compared to 229 fellows that are Postdocs\n"
     ]
    }
   ],
   "source": [
    "#how many postdocs?\n",
    "print('...compared to {} fellows that are Postdocs'.format(insight.status[insight['status'] =='Postdoc'].count()))"
   ]
  },
  {
   "cell_type": "code",
   "execution_count": 323,
   "metadata": {},
   "outputs": [
    {
     "name": "stdout",
     "output_type": "stream",
     "text": [
      "so distribution is as follows: 28.8% postdocs and 63.7% PhDs\n"
     ]
    }
   ],
   "source": [
    "# distribution\n",
    "print('so distribution is as follows: {:.1f}% postdocs and {:.1f}% PhDs'.format(\n",
    "    100*insight.status[insight['status'] =='Postdoc'].count()/insight.shape[0],\n",
    "    100*insight.status[insight['status'] =='PhD'].count()/insight.shape[0]))"
   ]
  },
  {
   "cell_type": "code",
   "execution_count": 325,
   "metadata": {},
   "outputs": [
    {
     "name": "stdout",
     "output_type": "stream",
     "text": [
      "there are also 59 practitioners or 7.4%\n"
     ]
    }
   ],
   "source": [
    "print('there are also {} practitioners or {:.1f}%'.format(insight.status[insight['status'] =='Other'].count(),100*insight.status[insight['status'] =='Other'].count()/insight.shape[0]))"
   ]
  },
  {
   "cell_type": "markdown",
   "metadata": {},
   "source": [
    "## Top10 companies"
   ]
  },
  {
   "cell_type": "code",
   "execution_count": null,
   "metadata": {},
   "outputs": [],
   "source": [
    "top10_companies = insight.company[insight['company'].isin(companies_count.company.head(10))]\n",
    "pd.crosstab(top10_companies, insight.postdoc, margins=True).T"
   ]
  },
  {
   "cell_type": "markdown",
   "metadata": {},
   "source": [
    "Commentary: It seems like top10 companies have almost equal predisposition when hiring postdocs (58/227=25.5%) and PhDs (116/507=22.9%). But we might whant to test if the difference is indeed statistically insignificant.\n",
    "\n",
    "\n",
    "Interestingly, LinkedIn stands out from the rest 9 companies in that it hired disproportionally more postdocs compared to other top10 companies. <br>\n",
    "\n",
    "So if you are the INSIGHT fellow and fresh PhD and want to go to LinkedIN - beware, there will be much more competition from more experienced collegues!"
   ]
  },
  {
   "cell_type": "markdown",
   "metadata": {},
   "source": [
    "## Hypothesis Testing via Bootstrapping"
   ]
  },
  {
   "cell_type": "markdown",
   "metadata": {},
   "source": [
    "### 1.  Do top10 companies hire more Postdocs than PhDs?"
   ]
  },
  {
   "cell_type": "markdown",
   "metadata": {},
   "source": [
    "Let's check our hypothesis whether top10 compnies prefer to hire Postdocs rather than PhDs from Insight. We will do it via bootstrapping. Our \"treatment\" in this case is \"top10 companies\". So we divide our initial dataset into two groups - \"top10\" and \"not top10\" and compare the postdoc means for both groups. Then we bootstrap (resample with replacement) the data 10000 times and check if the difference between postdoc means for top10 group and not_top10 group is statistically significant. \n",
    "\n",
    "**H<sub>0</sub>**: top10 postdoc mean <= non_top10 postdoc mean <br>\n",
    "**H<sub>1</sub>**: top10 postdoc mean > non_top10 postdoc mean"
   ]
  },
  {
   "cell_type": "code",
   "execution_count": null,
   "metadata": {},
   "outputs": [],
   "source": [
    "set(top10_companies)"
   ]
  },
  {
   "cell_type": "code",
   "execution_count": null,
   "metadata": {},
   "outputs": [],
   "source": [
    "#recode postdoc column to calc mean more quickly - 1 if postdoc\n",
    "insight['postdoc_recoded'] = insight.postdoc.apply(lambda x: 1 if x == \"Postdoc\" else 0)"
   ]
  },
  {
   "cell_type": "code",
   "execution_count": null,
   "metadata": {},
   "outputs": [],
   "source": [
    "top10_insight = insight[insight.company.apply(lambda x: x in set(top10_companies)) == True]\n",
    "top10_insight.shape"
   ]
  },
  {
   "cell_type": "code",
   "execution_count": null,
   "metadata": {},
   "outputs": [],
   "source": [
    "#insight fellows not from top10_companies\n",
    "not_top10_insight = insight[insight.company.apply(lambda x: x not in set(top10_companies)) == True]\n",
    "not_top10_insight.shape"
   ]
  },
  {
   "cell_type": "code",
   "execution_count": null,
   "metadata": {},
   "outputs": [],
   "source": [
    "top10_postdoc_mean = top10_insight.postdoc_recoded.mean()\n",
    "top10_postdoc_mean"
   ]
  },
  {
   "cell_type": "code",
   "execution_count": null,
   "metadata": {},
   "outputs": [],
   "source": [
    "not_top10_postdoc_mean = not_top10_insight.postdoc_recoded.mean()\n",
    "not_top10_postdoc_mean"
   ]
  },
  {
   "cell_type": "code",
   "execution_count": null,
   "metadata": {},
   "outputs": [],
   "source": [
    "obs_diff = top10_postdoc_mean - not_top10_postdoc_mean\n",
    "obs_diff"
   ]
  },
  {
   "cell_type": "code",
   "execution_count": null,
   "metadata": {},
   "outputs": [],
   "source": [
    "#create sampling distribution for difference in postdoc means with bootstrapping\n",
    "diffs = []\n",
    "for _ in range(10000):\n",
    "    b_sample = insight.sample(insight.shape[0], replace=True)\n",
    "    top10_insight = b_sample[b_sample.company.apply(lambda x: x in set(top10_companies)) == True]\n",
    "    top10_postdoc_mean = top10_insight.postdoc_recoded.mean()\n",
    "    not_top10_insight = b_sample[b_sample.company.apply(lambda x: x not in set(top10_companies)) == True]\n",
    "    not_top10_postdoc_mean = not_top10_insight.postdoc_recoded.mean()\n",
    "    diffs.append(top10_postdoc_mean - not_top10_postdoc_mean)"
   ]
  },
  {
   "cell_type": "code",
   "execution_count": null,
   "metadata": {},
   "outputs": [],
   "source": [
    "# convert to numpy array\n",
    "diffs = np.array(diffs)\n",
    "# plot distribution\n",
    "plt.hist(diffs);"
   ]
  },
  {
   "cell_type": "code",
   "execution_count": null,
   "metadata": {},
   "outputs": [],
   "source": [
    "# create distribution under the null hypothesis\n",
    "null_vals = np.random.normal(0, diffs.std(), diffs.size)"
   ]
  },
  {
   "cell_type": "code",
   "execution_count": null,
   "metadata": {},
   "outputs": [],
   "source": [
    "# plot null distribution\n",
    "plt.hist(null_vals);\n",
    "\n",
    "# plot line for observed statistic\n",
    "plt.axvline(x=obs_diff, color = 'red');"
   ]
  },
  {
   "cell_type": "code",
   "execution_count": null,
   "metadata": {},
   "outputs": [],
   "source": [
    "# compute p value\n",
    "(null_vals > obs_diff).mean()"
   ]
  },
  {
   "cell_type": "markdown",
   "metadata": {},
   "source": [
    "## Conclusion:\n",
    "With a type I error rate of 0.05, we don't have evidence that the top10 companies prefer hiring postdocs over PhDs (p-value=0.1561). We have to retain H<sub>0</sub> hypothesis."
   ]
  },
  {
   "cell_type": "markdown",
   "metadata": {},
   "source": [
    "Let's check our calculations with analytic approach by doing one-tailed z-test:"
   ]
  },
  {
   "cell_type": "markdown",
   "metadata": {},
   "source": [
    "## Analytic Approach"
   ]
  },
  {
   "cell_type": "code",
   "execution_count": null,
   "metadata": {},
   "outputs": [],
   "source": [
    "# get number of trials and overall 'success' rate under null\n",
    "n_top10 = top10_insight.shape[0]\n",
    "n_non_top10 = not_top10_insight.shape[0]\n",
    "p_null = insight['postdoc_recoded'].mean()\n",
    "print(\"number of trials: top10 - {}, non_top10 - {}\".format(n_top10, n_non_top10))\n",
    "print('success rate under null: ', p_null)"
   ]
  },
  {
   "cell_type": "code",
   "execution_count": null,
   "metadata": {},
   "outputs": [],
   "source": [
    "# compute standard error, z-score, and p-value\n",
    "se_p = np.sqrt(p_null * (1-p_null) * (1/n_top10 + 1/n_non_top10))\n",
    "print(\"standard error\", se_p)\n",
    "print(\"observed difference\", top10_postdoc_mean - not_top10_postdoc_mean)\n",
    "\n",
    "z = (top10_postdoc_mean - not_top10_postdoc_mean) / se_p\n",
    "print(\"z-value\", z)\n",
    "print(\"p-value\", 1-stats.norm.cdf(z))"
   ]
  },
  {
   "cell_type": "markdown",
   "metadata": {},
   "source": [
    "## Conclusion: \n",
    "we got the same p-value of about 0.16 with both bootstraping and analytic approaches. We conclude that top10 companies, when hiring Insight fellows, have no preferences with regard to PhDs or Postdocs."
   ]
  },
  {
   "cell_type": "markdown",
   "metadata": {},
   "source": [
    "### 2. Does LinkedIN prefer to hire Postdocs over PhDs?"
   ]
  },
  {
   "cell_type": "markdown",
   "metadata": {},
   "source": [
    "Now let's check our second hypothesis that LinkedIN prefer hiring postdocs over PhDs. We proceed in a similar fashion - dividing the initial dataset into two groups (linkedin/not_linkedin), finding the difference in postdoc means for both groups and then bootstrapping the data to see if the difference is statistically significance.\n",
    "\n",
    "**H<sub>0</sub>**: linkedin_postdoc_mean <= non_linkedin postdoc mean <br>\n",
    "**H<sub>1</sub>**: linkedin_postdoc_mean > non_linkedin postdoc mean"
   ]
  },
  {
   "cell_type": "code",
   "execution_count": null,
   "metadata": {},
   "outputs": [],
   "source": [
    "linkedin = insight[insight.company == \"LinkedIn\"]\n",
    "linkedin_postdoc_mean = linkedin.postdoc_recoded.mean()\n",
    "linkedin_postdoc_mean"
   ]
  },
  {
   "cell_type": "code",
   "execution_count": null,
   "metadata": {},
   "outputs": [],
   "source": [
    "not_linkedin = insight[insight.company != \"LinkedIn\"]\n",
    "not_linkedin_mean = not_linkedin.postdoc_recoded.mean()\n",
    "not_linkedin_mean"
   ]
  },
  {
   "cell_type": "code",
   "execution_count": null,
   "metadata": {},
   "outputs": [],
   "source": [
    "obs_diff = linkedin_postdoc_mean - not_linkedin_mean\n",
    "obs_diff"
   ]
  },
  {
   "cell_type": "code",
   "execution_count": null,
   "metadata": {},
   "outputs": [],
   "source": [
    "#create sampling distribution for difference in postdoc means with bootstrapping\n",
    "diffs = []\n",
    "for _ in range(10000):\n",
    "    b_sample = insight.sample(insight.shape[0], replace=True)\n",
    "    linkedin = b_sample[b_sample.company == \"LinkedIn\"]\n",
    "    linkedin_postdoc_mean = linkedin.postdoc_recoded.mean()\n",
    "    \n",
    "    not_linkedin = b_sample[b_sample.company != \"LinkedIn\"]\n",
    "    not_linkedin_mean = not_linkedin.postdoc_recoded.mean()\n",
    "    diffs.append(linkedin_postdoc_mean - not_linkedin_mean)"
   ]
  },
  {
   "cell_type": "code",
   "execution_count": null,
   "metadata": {},
   "outputs": [],
   "source": [
    "# convert to numpy array\n",
    "diffs = np.array(diffs)\n",
    "# create distribution under the null hypothesis\n",
    "null_vals = np.random.normal(0, diffs.std(), diffs.size)"
   ]
  },
  {
   "cell_type": "code",
   "execution_count": null,
   "metadata": {},
   "outputs": [],
   "source": [
    "# plot null distribution\n",
    "plt.hist(null_vals);\n",
    "\n",
    "# plot line for observed statistic\n",
    "plt.axvline(x=obs_diff, color = 'red');"
   ]
  },
  {
   "cell_type": "code",
   "execution_count": null,
   "metadata": {},
   "outputs": [],
   "source": [
    "# compute p value\n",
    "(null_vals > obs_diff).mean()"
   ]
  },
  {
   "cell_type": "markdown",
   "metadata": {},
   "source": [
    "## Conclusion:\n",
    "Our p-value (0.053) is slightly higher than alpha=0.05. So it's in the gray area of rejecting/retaining H0. However, the practical significance suggests that we may be ok with 5% error rate in our case and conclude that LinkedIn indeed prefer hiring Postdocs over PhDs, thus rejecting the H0 hypothesis."
   ]
  },
  {
   "cell_type": "markdown",
   "metadata": {},
   "source": [
    "## 2.5. PROJECTS by selected companies"
   ]
  },
  {
   "cell_type": "markdown",
   "metadata": {},
   "source": [
    "Let's have a quick look at the projects by fellows that work at particular company:"
   ]
  },
  {
   "cell_type": "code",
   "execution_count": null,
   "metadata": {},
   "outputs": [],
   "source": [
    "pd.options.display.max_colwidth = 200"
   ]
  },
  {
   "cell_type": "code",
   "execution_count": null,
   "metadata": {},
   "outputs": [],
   "source": [
    "def show_projects_by_company(company):\n",
    "    print(insight['project'][insight['company'] == company])"
   ]
  },
  {
   "cell_type": "code",
   "execution_count": null,
   "metadata": {},
   "outputs": [],
   "source": [
    "show_projects_by_company('Apple')"
   ]
  },
  {
   "cell_type": "code",
   "execution_count": null,
   "metadata": {},
   "outputs": [],
   "source": [
    "show_projects_by_company('Netflix')"
   ]
  },
  {
   "cell_type": "markdown",
   "metadata": {},
   "source": [
    "**Summary**: from qualitative review of project titles for two companies, there seems to be no relation between the project and the company. How GitHub relates to Netflix?? I guess the more important thing is that you have your own project, what kind of project is secondary... <br>\n",
    "\n",
    "But let's have a look at title projects as WordCloud. Maybe it will be more insightful?"
   ]
  },
  {
   "cell_type": "markdown",
   "metadata": {},
   "source": [
    "## WordCloud of Project Title by Company"
   ]
  },
  {
   "cell_type": "code",
   "execution_count": null,
   "metadata": {},
   "outputs": [],
   "source": [
    "def show_wordcloud_of_projects_by_companies(company):\n",
    "    subset = insight[insight['company']==company]\n",
    "    text = \" \".join(project for project in subset.project)\n",
    "    # add stopwords\n",
    "    stopwords = set(STOPWORDS)\n",
    "    stopwords.update([\"predicting\", \"data\", \"Finding\", \"Predict\", \"Search\", \"Find\", 'make', 'Finder'])\n",
    "    \n",
    "    # plotting wordcloud\n",
    "    wordcloud = WordCloud(max_font_size=50, max_words=100, background_color=\"white\", stopwords=stopwords).generate(text)\n",
    "    plt.figure(figsize=[10,10])\n",
    "    plt.imshow(wordcloud, interpolation=\"bilinear\")\n",
    "    plt.axis(\"off\")\n",
    "    plt.show()"
   ]
  },
  {
   "cell_type": "code",
   "execution_count": null,
   "metadata": {},
   "outputs": [],
   "source": [
    "show_wordcloud_of_projects_by_companies('Netflix')"
   ]
  },
  {
   "cell_type": "code",
   "execution_count": null,
   "metadata": {},
   "outputs": [],
   "source": [
    "show_wordcloud_of_projects_by_companies('Facebook')"
   ]
  },
  {
   "cell_type": "markdown",
   "metadata": {},
   "source": [
    "## Summary: \n",
    "Well, the WordCloud is a little bit more insightful than qualitative analysis. So, those fellows that ended up in Netflix had worked with videos (keywords - Movie, YouTube, TV, CouchTube), while those that got employed at Facebook had projects that deal with text (keywords - Tweet, Twitter) or with marketing (churn, user)."
   ]
  },
  {
   "cell_type": "markdown",
   "metadata": {},
   "source": [
    "### Most common Words used in Project Titles:"
   ]
  },
  {
   "cell_type": "code",
   "execution_count": null,
   "metadata": {},
   "outputs": [],
   "source": [
    "pd.options.display.max_colwidth = 200"
   ]
  },
  {
   "cell_type": "code",
   "execution_count": null,
   "metadata": {},
   "outputs": [],
   "source": [
    "# join all project titles into one\n",
    "all_text = \" \".join(project for project in insight.project)\n",
    "print (\"There are {} words in all projects\".format(len(text)))"
   ]
  },
  {
   "cell_type": "code",
   "execution_count": null,
   "metadata": {},
   "outputs": [],
   "source": [
    "# Cleaning text and lower casing all words\n",
    "for char in '-.,\\n':\n",
    "    all_text = all_text.replace(char,' ')\n",
    "all_text = all_text.lower()\n",
    "\n",
    "# split returns a list of words delimited by sequences of whitespace (including tabs, newlines, etc, like re's \\s) \n",
    "word_list = all_text.split()"
   ]
  },
  {
   "cell_type": "code",
   "execution_count": null,
   "metadata": {
    "scrolled": true
   },
   "outputs": [],
   "source": [
    "# output a list of word count pairs (sorted from highest to lowest)\n",
    "Counter(word_list).most_common()"
   ]
  },
  {
   "cell_type": "markdown",
   "metadata": {},
   "source": [
    "Based on the list of the most common words (and ignoring the first 20 or so which are basically stopwords) we can now explore the content of the projects that we are interested using keywords:"
   ]
  },
  {
   "cell_type": "code",
   "execution_count": null,
   "metadata": {},
   "outputs": [],
   "source": [
    "def show_projects_using_keyword(keyword):\n",
    "    print(insight['project'][insight['project'].str.contains(keyword)])"
   ]
  },
  {
   "cell_type": "code",
   "execution_count": null,
   "metadata": {
    "scrolled": false
   },
   "outputs": [],
   "source": [
    "show_projects_using_keyword('YouTube')"
   ]
  },
  {
   "cell_type": "code",
   "execution_count": null,
   "metadata": {},
   "outputs": [],
   "source": [
    "show_projects_using_keyword('deep learning')"
   ]
  },
  {
   "cell_type": "markdown",
   "metadata": {},
   "source": [
    "# Conclusion:\n",
    "\n",
    "This is a brief quick exploratory analysis of the INSIGHT Data Fellows - what background they have, where they come from, what projects they worked on and where they got jobs. One can test lots of hypothesis as the next step.\n",
    "\n",
    "There are also other insteresting things to do & explore with the INSIGHT Fellowship:\n",
    " - The program has also other tracks besides Data Science like AI, Data Eng, Data PM, etc (see https://www.insightdatascience.com/fellows for the full list). like scraping all of the INSIGHT Fellows and check if there are different patterns compared to the DS track. \n",
    " \n",
    " \n",
    " - Tracing the fellows on LinkedIn and checking how they are doing now - i.e. measuring the impact of the program. Are they still in DS? Do they change companies often? Do they hold senior positions now? etc.\n",
    " \n",
    " "
   ]
  },
  {
   "cell_type": "markdown",
   "metadata": {},
   "source": [
    "# References:\n",
    "\n",
    "INSIGHT Fellowship: https://www.insightdatascience.com/fellows\n",
    "\n",
    "bradmontgomery/ShortIntroToScraping.rst, https://gist.github.com/bradmontgomery/1872970 (last access: 4/21/2019)\n",
    "\n",
    "\n",
    "Michael Galarnyk: Python Word Count (Filter out Punctuation, Dictionary Manipulation, and Sorting Lists),\n",
    "https://codeburst.io/python-basics-11-word-count-filter-out-punctuation-dictionary-manipulation-and-sorting-lists-3f6c55420855 (last access: 4/21/2019)\n",
    "\n",
    "Duong Vu: Generating WordClouds in Python, https://www.datacamp.com/community/tutorials/wordcloud-python (last access: 4/21/2019)"
   ]
  }
 ],
 "metadata": {
  "kernelspec": {
   "display_name": "Python 3",
   "language": "python",
   "name": "python3"
  },
  "language_info": {
   "codemirror_mode": {
    "name": "ipython",
    "version": 3
   },
   "file_extension": ".py",
   "mimetype": "text/x-python",
   "name": "python",
   "nbconvert_exporter": "python",
   "pygments_lexer": "ipython3",
   "version": "3.7.3"
  }
 },
 "nbformat": 4,
 "nbformat_minor": 2
}
